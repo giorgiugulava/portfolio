{
 "cells": [
  {
   "cell_type": "code",
   "execution_count": 1,
   "id": "5dff9827",
   "metadata": {},
   "outputs": [],
   "source": [
    "import pandas as pd\n",
    "import numpy as np\n",
    "import matplotlib.pyplot as plt\n",
    "import seaborn as sns\n",
    "import requests\n",
    "import bs4\n",
    "from bs4 import BeautifulSoup\n",
    "import plotly.express as px\n",
    "import plotly.graph_objects as go\n",
    "import plotly.subplots as sp\n",
    "import plotly.io as pio"
   ]
  },
  {
   "cell_type": "markdown",
   "id": "641e7446",
   "metadata": {},
   "source": [
    "# Goalkeeping"
   ]
  },
  {
   "cell_type": "code",
   "execution_count": 2,
   "id": "79edbd66",
   "metadata": {},
   "outputs": [
    {
     "name": "stderr",
     "output_type": "stream",
     "text": [
      "C:\\Users\\Kiu-Student\\AppData\\Local\\Temp\\ipykernel_7684\\4162489570.py:5: DeprecationWarning: The 'text' argument to find()-type methods is deprecated. Use 'string' instead.\n",
      "  comments = soup.find_all(text=lambda text:isinstance(text, bs4.Comment))\n",
      "C:\\Users\\Kiu-Student\\AppData\\Local\\Temp\\ipykernel_7684\\4162489570.py:6: MarkupResemblesLocatorWarning: The input looks more like a filename than markup. You may want to open this file and pass the filehandle into Beautiful Soup.\n",
      "  commented_out_tables = [bs4.BeautifulSoup(cmt).find_all('table') for cmt in comments]\n"
     ]
    },
    {
     "name": "stdout",
     "output_type": "stream",
     "text": [
      "Total tables in main HTML: 2\n",
      "Total tables in comments: 1\n"
     ]
    }
   ],
   "source": [
    "# IMPORTING GK DATA\n",
    "\n",
    "response = requests.get('https://fbref.com/en/comps/676/keepersadv/UEFA-Euro-Stats')\n",
    "soup = bs4.BeautifulSoup(response.content)\n",
    "comments = soup.find_all(text=lambda text:isinstance(text, bs4.Comment))\n",
    "commented_out_tables = [bs4.BeautifulSoup(cmt).find_all('table') for cmt in comments]\n",
    "commented_out_tables = [tab[0] for tab in commented_out_tables if len(tab) == 1]\n",
    "df_gk = pd.read_html(str(commented_out_tables[0]))[0]\n",
    "main_tables = soup.find_all('table')\n",
    "print(f'Total tables in main HTML: {len(main_tables)}')\n",
    "print(f'Total tables in comments: {len(commented_out_tables)}')\n",
    "\n",
    "if commented_out_tables:\n",
    "    for i, table in enumerate(commented_out_tables):\n",
    "        df_gk = pd.read_html(str(table))[0]\n",
    "        # print(f\"Table {i+1}:\\n\", df.head())\n",
    "else:\n",
    "    print(\"No tables found in comments.\")"
   ]
  },
  {
   "cell_type": "code",
   "execution_count": 3,
   "id": "9ff522b9",
   "metadata": {},
   "outputs": [
    {
     "name": "stdout",
     "output_type": "stream",
     "text": [
      "Player                 object\n",
      "Pos                    object\n",
      "Squad                  object\n",
      "Age                   float64\n",
      "Born                    int64\n",
      "90s                   float64\n",
      "Goals_GA                int64\n",
      "Goals_PKA               int64\n",
      "Goals_FK                int64\n",
      "Goals_CK                int64\n",
      "Goals_OG                int64\n",
      "Expected_PSxG         float64\n",
      "Expected_PSxG/SoT     float64\n",
      "Expected_PSxG+/-      float64\n",
      "Expected_/90          float64\n",
      "Launched_Cmp            int64\n",
      "Launched_Att            int64\n",
      "Launched_Cmp%         float64\n",
      "Passes_Att (GK)         int64\n",
      "Passes_Thr              int64\n",
      "Passes_Launch%        float64\n",
      "Passes_AvgLen         float64\n",
      "Goal Kicks_Att          int64\n",
      "Goal Kicks_Launch%    float64\n",
      "Goal Kicks_AvgLen     float64\n",
      "Crosses_Opp             int64\n",
      "Crosses_Stp             int64\n",
      "Crosses_Stp%          float64\n",
      "Sweeper_#OPA            int64\n",
      "Sweeper_#OPA/90       float64\n",
      "Sweeper_AvgDist       float64\n",
      "dtype: object\n"
     ]
    }
   ],
   "source": [
    "\n",
    "# joining multiple index levels\n",
    "df_gk.columns = ['_'.join(col) if 'Unnamed' not in col[0] else col[1] for col in df_gk.columns]\n",
    "\n",
    "# getting rid of columns of no significance\n",
    "df_gk = df_gk.drop(columns=['Rk', 'Matches'])\n",
    "\n",
    "# removing country emojis\n",
    "df_gk['Squad'] = df_gk['Squad'].str[3:]\n",
    "\n",
    "# index 25 contains no data\n",
    "df_gk = df_gk.drop(index=25)\n",
    "df_gk = df_gk.reset_index(drop=True)\n",
    "\n",
    "# fixing age format\n",
    "df_gk['Age'] = df_gk['Age'].str.replace('-', '.', regex=False).astype(float)\n",
    "\n",
    "# type conversion\n",
    "columns_to_exclude = ['Player', 'Squad', 'Pos']\n",
    "columns_to_convert = [col for col in df_gk.columns if col not in columns_to_exclude]\n",
    "df_gk[columns_to_convert] = df_gk[columns_to_convert].apply(pd.to_numeric, errors='coerce')\n",
    "\n",
    "print(df_gk.dtypes)\n",
    "df_gk.to_csv(\"df_gk.csv\")"
   ]
  },
  {
   "cell_type": "code",
   "execution_count": 38,
   "id": "e03c6946",
   "metadata": {},
   "outputs": [
    {
     "data": {
      "application/vnd.plotly.v1+json": {
       "config": {
        "plotlyServerURL": "https://plot.ly"
       },
       "data": [
        {
         "alignmentgroup": "True",
         "customdata": [
          [
           "Georgia",
           1
          ],
          [
           "Slovenia",
           2
          ],
          [
           "Spain",
           3
          ],
          [
           "France",
           4
          ],
          [
           "Italy",
           5.5
          ],
          [
           "Denmark",
           5.5
          ],
          [
           "Albania",
           7.5
          ],
          [
           "Germany",
           7.5
          ],
          [
           "Türkiye",
           9.5
          ],
          [
           "Ukraine",
           9.5
          ],
          [
           "Belgium",
           11
          ],
          [
           "Czechia",
           12
          ],
          [
           "Netherlands",
           13
          ],
          [
           "Serbia",
           14
          ],
          [
           "Croatia",
           15
          ],
          [
           "Switzerland",
           16.5
          ],
          [
           "Portugal",
           16.5
          ],
          [
           "Hungary",
           18
          ],
          [
           "Romania",
           19
          ],
          [
           "Slovakia",
           20
          ],
          [
           "Austria",
           21.5
          ],
          [
           " England",
           21.5
          ],
          [
           "Poland",
           23
          ],
          [
           " Scotland",
           24
          ]
         ],
         "hovertemplate": "Goalkeeper=%{x}<br>Expected PSxG +/-=%{y}<br>Squad=%{customdata[0]}<br>Rank=%{customdata[1]}<extra></extra>",
         "legendgroup": "",
         "marker": {
          "color": [
           "#329952",
           "#3b7eeb",
           "#3b7eeb",
           "#3b7eeb",
           "#3b7eeb",
           "#3b7eeb",
           "#3b7eeb",
           "#3b7eeb",
           "#3b7eeb",
           "#3b7eeb",
           "#3b7eeb",
           "#3b7eeb",
           "#3b7eeb",
           "#3b7eeb",
           "#3b7eeb",
           "#3b7eeb",
           "#3b7eeb",
           "#3b7eeb",
           "#3b7eeb",
           "#3b7eeb",
           "#3b7eeb",
           "#3b7eeb",
           "#3b7eeb",
           "#3b7eeb"
          ],
          "pattern": {
           "shape": ""
          }
         },
         "name": "",
         "offsetgroup": "",
         "orientation": "v",
         "showlegend": false,
         "textposition": "auto",
         "type": "bar",
         "x": [
          "Giorgi Mamardashvili",
          "Jan Oblak",
          "Unai Simón",
          "Mike Maignan",
          "Gianluigi Donnarumma",
          "Kasper Schmeichel",
          "Thomas Strakosha",
          "Manuel Neuer",
          "Mert Günok",
          "Anatolii Trubin",
          "Koen Casteels",
          "Jindřich Staněk",
          "Bart Verbruggen",
          "Predrag Rajković",
          "Dominik Livaković",
          "Yann Sommer",
          "Diogo Costa",
          "Péter Gulácsi",
          "Florin Niță",
          "Martin Dúbravka",
          "Patrick Pentz",
          "Jordan Pickford",
          "Wojciech Szczęsny",
          "Angus Gunn"
         ],
         "xaxis": "x",
         "y": [
          4.1,
          3.8,
          3,
          2.3,
          2,
          2,
          1.9,
          1.9,
          1.8,
          1.8,
          1.7,
          1.6,
          1.3,
          1.1,
          0.6,
          0.5,
          0.5,
          0.4,
          0.2,
          0,
          -0.2,
          -0.2,
          -1,
          -1.7
         ],
         "yaxis": "y"
        }
       ],
       "layout": {
        "barmode": "relative",
        "legend": {
         "tracegroupgap": 0
        },
        "template": {
         "data": {
          "bar": [
           {
            "error_x": {
             "color": "#2a3f5f"
            },
            "error_y": {
             "color": "#2a3f5f"
            },
            "marker": {
             "line": {
              "color": "#E5ECF6",
              "width": 0.5
             },
             "pattern": {
              "fillmode": "overlay",
              "size": 10,
              "solidity": 0.2
             }
            },
            "type": "bar"
           }
          ],
          "barpolar": [
           {
            "marker": {
             "line": {
              "color": "#E5ECF6",
              "width": 0.5
             },
             "pattern": {
              "fillmode": "overlay",
              "size": 10,
              "solidity": 0.2
             }
            },
            "type": "barpolar"
           }
          ],
          "carpet": [
           {
            "aaxis": {
             "endlinecolor": "#2a3f5f",
             "gridcolor": "white",
             "linecolor": "white",
             "minorgridcolor": "white",
             "startlinecolor": "#2a3f5f"
            },
            "baxis": {
             "endlinecolor": "#2a3f5f",
             "gridcolor": "white",
             "linecolor": "white",
             "minorgridcolor": "white",
             "startlinecolor": "#2a3f5f"
            },
            "type": "carpet"
           }
          ],
          "choropleth": [
           {
            "colorbar": {
             "outlinewidth": 0,
             "ticks": ""
            },
            "type": "choropleth"
           }
          ],
          "contour": [
           {
            "colorbar": {
             "outlinewidth": 0,
             "ticks": ""
            },
            "colorscale": [
             [
              0,
              "#0d0887"
             ],
             [
              0.1111111111111111,
              "#46039f"
             ],
             [
              0.2222222222222222,
              "#7201a8"
             ],
             [
              0.3333333333333333,
              "#9c179e"
             ],
             [
              0.4444444444444444,
              "#bd3786"
             ],
             [
              0.5555555555555556,
              "#d8576b"
             ],
             [
              0.6666666666666666,
              "#ed7953"
             ],
             [
              0.7777777777777778,
              "#fb9f3a"
             ],
             [
              0.8888888888888888,
              "#fdca26"
             ],
             [
              1,
              "#f0f921"
             ]
            ],
            "type": "contour"
           }
          ],
          "contourcarpet": [
           {
            "colorbar": {
             "outlinewidth": 0,
             "ticks": ""
            },
            "type": "contourcarpet"
           }
          ],
          "heatmap": [
           {
            "colorbar": {
             "outlinewidth": 0,
             "ticks": ""
            },
            "colorscale": [
             [
              0,
              "#0d0887"
             ],
             [
              0.1111111111111111,
              "#46039f"
             ],
             [
              0.2222222222222222,
              "#7201a8"
             ],
             [
              0.3333333333333333,
              "#9c179e"
             ],
             [
              0.4444444444444444,
              "#bd3786"
             ],
             [
              0.5555555555555556,
              "#d8576b"
             ],
             [
              0.6666666666666666,
              "#ed7953"
             ],
             [
              0.7777777777777778,
              "#fb9f3a"
             ],
             [
              0.8888888888888888,
              "#fdca26"
             ],
             [
              1,
              "#f0f921"
             ]
            ],
            "type": "heatmap"
           }
          ],
          "heatmapgl": [
           {
            "colorbar": {
             "outlinewidth": 0,
             "ticks": ""
            },
            "colorscale": [
             [
              0,
              "#0d0887"
             ],
             [
              0.1111111111111111,
              "#46039f"
             ],
             [
              0.2222222222222222,
              "#7201a8"
             ],
             [
              0.3333333333333333,
              "#9c179e"
             ],
             [
              0.4444444444444444,
              "#bd3786"
             ],
             [
              0.5555555555555556,
              "#d8576b"
             ],
             [
              0.6666666666666666,
              "#ed7953"
             ],
             [
              0.7777777777777778,
              "#fb9f3a"
             ],
             [
              0.8888888888888888,
              "#fdca26"
             ],
             [
              1,
              "#f0f921"
             ]
            ],
            "type": "heatmapgl"
           }
          ],
          "histogram": [
           {
            "marker": {
             "pattern": {
              "fillmode": "overlay",
              "size": 10,
              "solidity": 0.2
             }
            },
            "type": "histogram"
           }
          ],
          "histogram2d": [
           {
            "colorbar": {
             "outlinewidth": 0,
             "ticks": ""
            },
            "colorscale": [
             [
              0,
              "#0d0887"
             ],
             [
              0.1111111111111111,
              "#46039f"
             ],
             [
              0.2222222222222222,
              "#7201a8"
             ],
             [
              0.3333333333333333,
              "#9c179e"
             ],
             [
              0.4444444444444444,
              "#bd3786"
             ],
             [
              0.5555555555555556,
              "#d8576b"
             ],
             [
              0.6666666666666666,
              "#ed7953"
             ],
             [
              0.7777777777777778,
              "#fb9f3a"
             ],
             [
              0.8888888888888888,
              "#fdca26"
             ],
             [
              1,
              "#f0f921"
             ]
            ],
            "type": "histogram2d"
           }
          ],
          "histogram2dcontour": [
           {
            "colorbar": {
             "outlinewidth": 0,
             "ticks": ""
            },
            "colorscale": [
             [
              0,
              "#0d0887"
             ],
             [
              0.1111111111111111,
              "#46039f"
             ],
             [
              0.2222222222222222,
              "#7201a8"
             ],
             [
              0.3333333333333333,
              "#9c179e"
             ],
             [
              0.4444444444444444,
              "#bd3786"
             ],
             [
              0.5555555555555556,
              "#d8576b"
             ],
             [
              0.6666666666666666,
              "#ed7953"
             ],
             [
              0.7777777777777778,
              "#fb9f3a"
             ],
             [
              0.8888888888888888,
              "#fdca26"
             ],
             [
              1,
              "#f0f921"
             ]
            ],
            "type": "histogram2dcontour"
           }
          ],
          "mesh3d": [
           {
            "colorbar": {
             "outlinewidth": 0,
             "ticks": ""
            },
            "type": "mesh3d"
           }
          ],
          "parcoords": [
           {
            "line": {
             "colorbar": {
              "outlinewidth": 0,
              "ticks": ""
             }
            },
            "type": "parcoords"
           }
          ],
          "pie": [
           {
            "automargin": true,
            "type": "pie"
           }
          ],
          "scatter": [
           {
            "fillpattern": {
             "fillmode": "overlay",
             "size": 10,
             "solidity": 0.2
            },
            "type": "scatter"
           }
          ],
          "scatter3d": [
           {
            "line": {
             "colorbar": {
              "outlinewidth": 0,
              "ticks": ""
             }
            },
            "marker": {
             "colorbar": {
              "outlinewidth": 0,
              "ticks": ""
             }
            },
            "type": "scatter3d"
           }
          ],
          "scattercarpet": [
           {
            "marker": {
             "colorbar": {
              "outlinewidth": 0,
              "ticks": ""
             }
            },
            "type": "scattercarpet"
           }
          ],
          "scattergeo": [
           {
            "marker": {
             "colorbar": {
              "outlinewidth": 0,
              "ticks": ""
             }
            },
            "type": "scattergeo"
           }
          ],
          "scattergl": [
           {
            "marker": {
             "colorbar": {
              "outlinewidth": 0,
              "ticks": ""
             }
            },
            "type": "scattergl"
           }
          ],
          "scattermapbox": [
           {
            "marker": {
             "colorbar": {
              "outlinewidth": 0,
              "ticks": ""
             }
            },
            "type": "scattermapbox"
           }
          ],
          "scatterpolar": [
           {
            "marker": {
             "colorbar": {
              "outlinewidth": 0,
              "ticks": ""
             }
            },
            "type": "scatterpolar"
           }
          ],
          "scatterpolargl": [
           {
            "marker": {
             "colorbar": {
              "outlinewidth": 0,
              "ticks": ""
             }
            },
            "type": "scatterpolargl"
           }
          ],
          "scatterternary": [
           {
            "marker": {
             "colorbar": {
              "outlinewidth": 0,
              "ticks": ""
             }
            },
            "type": "scatterternary"
           }
          ],
          "surface": [
           {
            "colorbar": {
             "outlinewidth": 0,
             "ticks": ""
            },
            "colorscale": [
             [
              0,
              "#0d0887"
             ],
             [
              0.1111111111111111,
              "#46039f"
             ],
             [
              0.2222222222222222,
              "#7201a8"
             ],
             [
              0.3333333333333333,
              "#9c179e"
             ],
             [
              0.4444444444444444,
              "#bd3786"
             ],
             [
              0.5555555555555556,
              "#d8576b"
             ],
             [
              0.6666666666666666,
              "#ed7953"
             ],
             [
              0.7777777777777778,
              "#fb9f3a"
             ],
             [
              0.8888888888888888,
              "#fdca26"
             ],
             [
              1,
              "#f0f921"
             ]
            ],
            "type": "surface"
           }
          ],
          "table": [
           {
            "cells": {
             "fill": {
              "color": "#EBF0F8"
             },
             "line": {
              "color": "white"
             }
            },
            "header": {
             "fill": {
              "color": "#C8D4E3"
             },
             "line": {
              "color": "white"
             }
            },
            "type": "table"
           }
          ]
         },
         "layout": {
          "annotationdefaults": {
           "arrowcolor": "#2a3f5f",
           "arrowhead": 0,
           "arrowwidth": 1
          },
          "autotypenumbers": "strict",
          "coloraxis": {
           "colorbar": {
            "outlinewidth": 0,
            "ticks": ""
           }
          },
          "colorscale": {
           "diverging": [
            [
             0,
             "#8e0152"
            ],
            [
             0.1,
             "#c51b7d"
            ],
            [
             0.2,
             "#de77ae"
            ],
            [
             0.3,
             "#f1b6da"
            ],
            [
             0.4,
             "#fde0ef"
            ],
            [
             0.5,
             "#f7f7f7"
            ],
            [
             0.6,
             "#e6f5d0"
            ],
            [
             0.7,
             "#b8e186"
            ],
            [
             0.8,
             "#7fbc41"
            ],
            [
             0.9,
             "#4d9221"
            ],
            [
             1,
             "#276419"
            ]
           ],
           "sequential": [
            [
             0,
             "#0d0887"
            ],
            [
             0.1111111111111111,
             "#46039f"
            ],
            [
             0.2222222222222222,
             "#7201a8"
            ],
            [
             0.3333333333333333,
             "#9c179e"
            ],
            [
             0.4444444444444444,
             "#bd3786"
            ],
            [
             0.5555555555555556,
             "#d8576b"
            ],
            [
             0.6666666666666666,
             "#ed7953"
            ],
            [
             0.7777777777777778,
             "#fb9f3a"
            ],
            [
             0.8888888888888888,
             "#fdca26"
            ],
            [
             1,
             "#f0f921"
            ]
           ],
           "sequentialminus": [
            [
             0,
             "#0d0887"
            ],
            [
             0.1111111111111111,
             "#46039f"
            ],
            [
             0.2222222222222222,
             "#7201a8"
            ],
            [
             0.3333333333333333,
             "#9c179e"
            ],
            [
             0.4444444444444444,
             "#bd3786"
            ],
            [
             0.5555555555555556,
             "#d8576b"
            ],
            [
             0.6666666666666666,
             "#ed7953"
            ],
            [
             0.7777777777777778,
             "#fb9f3a"
            ],
            [
             0.8888888888888888,
             "#fdca26"
            ],
            [
             1,
             "#f0f921"
            ]
           ]
          },
          "colorway": [
           "#636efa",
           "#EF553B",
           "#00cc96",
           "#ab63fa",
           "#FFA15A",
           "#19d3f3",
           "#FF6692",
           "#B6E880",
           "#FF97FF",
           "#FECB52"
          ],
          "font": {
           "color": "#2a3f5f"
          },
          "geo": {
           "bgcolor": "white",
           "lakecolor": "white",
           "landcolor": "#E5ECF6",
           "showlakes": true,
           "showland": true,
           "subunitcolor": "white"
          },
          "hoverlabel": {
           "align": "left"
          },
          "hovermode": "closest",
          "mapbox": {
           "style": "light"
          },
          "paper_bgcolor": "white",
          "plot_bgcolor": "#E5ECF6",
          "polar": {
           "angularaxis": {
            "gridcolor": "white",
            "linecolor": "white",
            "ticks": ""
           },
           "bgcolor": "#E5ECF6",
           "radialaxis": {
            "gridcolor": "white",
            "linecolor": "white",
            "ticks": ""
           }
          },
          "scene": {
           "xaxis": {
            "backgroundcolor": "#E5ECF6",
            "gridcolor": "white",
            "gridwidth": 2,
            "linecolor": "white",
            "showbackground": true,
            "ticks": "",
            "zerolinecolor": "white"
           },
           "yaxis": {
            "backgroundcolor": "#E5ECF6",
            "gridcolor": "white",
            "gridwidth": 2,
            "linecolor": "white",
            "showbackground": true,
            "ticks": "",
            "zerolinecolor": "white"
           },
           "zaxis": {
            "backgroundcolor": "#E5ECF6",
            "gridcolor": "white",
            "gridwidth": 2,
            "linecolor": "white",
            "showbackground": true,
            "ticks": "",
            "zerolinecolor": "white"
           }
          },
          "shapedefaults": {
           "line": {
            "color": "#2a3f5f"
           }
          },
          "ternary": {
           "aaxis": {
            "gridcolor": "white",
            "linecolor": "white",
            "ticks": ""
           },
           "baxis": {
            "gridcolor": "white",
            "linecolor": "white",
            "ticks": ""
           },
           "bgcolor": "#E5ECF6",
           "caxis": {
            "gridcolor": "white",
            "linecolor": "white",
            "ticks": ""
           }
          },
          "title": {
           "x": 0.05
          },
          "xaxis": {
           "automargin": true,
           "gridcolor": "white",
           "linecolor": "white",
           "ticks": "",
           "title": {
            "standoff": 15
           },
           "zerolinecolor": "white",
           "zerolinewidth": 2
          },
          "yaxis": {
           "automargin": true,
           "gridcolor": "white",
           "linecolor": "white",
           "ticks": "",
           "title": {
            "standoff": 15
           },
           "zerolinecolor": "white",
           "zerolinewidth": 2
          }
         }
        },
        "title": {
         "text": "Ranking of Goalkeepers by xG Minus Goals Conceded - Best Shot-Stopping Performance"
        },
        "xaxis": {
         "anchor": "y",
         "domain": [
          0,
          1
         ],
         "title": {
          "text": "Goalkeeper"
         }
        },
        "yaxis": {
         "anchor": "x",
         "domain": [
          0,
          1
         ],
         "title": {
          "text": "Expected PSxG +/-"
         }
        }
       }
      }
     },
     "metadata": {},
     "output_type": "display_data"
    }
   ],
   "source": [
    "# dropping players who have played only one game\n",
    "df_gk = df_gk[df_gk['90s'] > 1.9]\n",
    "\n",
    "df_gk_ge = df_gk[df_gk['Player'] == 'Giorgi Mamardashvili'].copy()\n",
    "df_gk_other = df_gk[df_gk['Player'] != 'Giorgi Mamardashvili'].copy()\n",
    "\n",
    "# plot\n",
    "\n",
    "df_gk['Rank'] = df_gk['Expected_PSxG+/-'].rank(ascending=False)\n",
    "gk_fig1 = px.bar(df_gk.sort_values(by='Rank'), x='Player', y='Expected_PSxG+/-',\n",
    "              title='Ranking of Goalkeepers by xG Minus Goals Conceded - Best Shot-Stopping Performance',\n",
    "              labels={'Expected_PSxG+/-': 'Expected PSxG +/-', 'Player': 'Goalkeeper'},\n",
    "              hover_data=['Player', 'Squad', 'Rank'])\n",
    "for i in range(len(gk_fig1.data[0].x)):\n",
    "    if gk_fig1.data[0].x[i] == 'Giorgi Mamardashvili':\n",
    "        gk_fig1.data[0].marker.color = ['#329952' if x == 'Giorgi Mamardashvili' else '#3b7eeb' for x in gk_fig1.data[0].x]\n",
    "gk_fig1.show()\n",
    "\n",
    "gk_fig1.write_html(\"gk_fig1.html\")"
   ]
  },
  {
   "cell_type": "code",
   "execution_count": 39,
   "id": "956537f7",
   "metadata": {},
   "outputs": [
    {
     "data": {
      "application/vnd.plotly.v1+json": {
       "config": {
        "plotlyServerURL": "https://plot.ly"
       },
       "data": [
        {
         "line": {
          "color": "darkgreen"
         },
         "marker": {
          "color": "darkgreen"
         },
         "mode": "lines+markers",
         "name": "Giorgi Mamardashvili",
         "r": [
          80,
          18,
          74,
          42.9,
          44,
          70.5,
          52.9
         ],
         "theta": [
          "Passes Attempted (GK)",
          "Launched Passes Completed",
          "Launched Passes Attempted",
          "Average Pass Length",
          "Goal Kicks Attempted",
          "Goal Kicks Launch %",
          "Average Goal Kick Length"
         ],
         "type": "scatterpolar"
        },
        {
         "line": {
          "color": "darkblue"
         },
         "marker": {
          "color": "darkblue"
         },
         "mode": "lines+markers",
         "name": "Average of Other Goalkeepers",
         "r": [
          112.73913043478261,
          17.08695652173913,
          47.47826086956522,
          32.278260869565216,
          25.130434782608695,
          48.91304347826088,
          41.87391304347827
         ],
         "theta": [
          "Passes Attempted (GK)",
          "Launched Passes Completed",
          "Launched Passes Attempted",
          "Average Pass Length",
          "Goal Kicks Attempted",
          "Goal Kicks Launch %",
          "Average Goal Kick Length"
         ],
         "type": "scatterpolar"
        }
       ],
       "layout": {
        "paper_bgcolor": "white",
        "plot_bgcolor": "white",
        "polar": {
         "radialaxis": {
          "range": [
           0,
           112.73913043478261
          ],
          "visible": true
         }
        },
        "showlegend": true,
        "template": {
         "data": {
          "bar": [
           {
            "error_x": {
             "color": "#2a3f5f"
            },
            "error_y": {
             "color": "#2a3f5f"
            },
            "marker": {
             "line": {
              "color": "#E5ECF6",
              "width": 0.5
             },
             "pattern": {
              "fillmode": "overlay",
              "size": 10,
              "solidity": 0.2
             }
            },
            "type": "bar"
           }
          ],
          "barpolar": [
           {
            "marker": {
             "line": {
              "color": "#E5ECF6",
              "width": 0.5
             },
             "pattern": {
              "fillmode": "overlay",
              "size": 10,
              "solidity": 0.2
             }
            },
            "type": "barpolar"
           }
          ],
          "carpet": [
           {
            "aaxis": {
             "endlinecolor": "#2a3f5f",
             "gridcolor": "white",
             "linecolor": "white",
             "minorgridcolor": "white",
             "startlinecolor": "#2a3f5f"
            },
            "baxis": {
             "endlinecolor": "#2a3f5f",
             "gridcolor": "white",
             "linecolor": "white",
             "minorgridcolor": "white",
             "startlinecolor": "#2a3f5f"
            },
            "type": "carpet"
           }
          ],
          "choropleth": [
           {
            "colorbar": {
             "outlinewidth": 0,
             "ticks": ""
            },
            "type": "choropleth"
           }
          ],
          "contour": [
           {
            "colorbar": {
             "outlinewidth": 0,
             "ticks": ""
            },
            "colorscale": [
             [
              0,
              "#0d0887"
             ],
             [
              0.1111111111111111,
              "#46039f"
             ],
             [
              0.2222222222222222,
              "#7201a8"
             ],
             [
              0.3333333333333333,
              "#9c179e"
             ],
             [
              0.4444444444444444,
              "#bd3786"
             ],
             [
              0.5555555555555556,
              "#d8576b"
             ],
             [
              0.6666666666666666,
              "#ed7953"
             ],
             [
              0.7777777777777778,
              "#fb9f3a"
             ],
             [
              0.8888888888888888,
              "#fdca26"
             ],
             [
              1,
              "#f0f921"
             ]
            ],
            "type": "contour"
           }
          ],
          "contourcarpet": [
           {
            "colorbar": {
             "outlinewidth": 0,
             "ticks": ""
            },
            "type": "contourcarpet"
           }
          ],
          "heatmap": [
           {
            "colorbar": {
             "outlinewidth": 0,
             "ticks": ""
            },
            "colorscale": [
             [
              0,
              "#0d0887"
             ],
             [
              0.1111111111111111,
              "#46039f"
             ],
             [
              0.2222222222222222,
              "#7201a8"
             ],
             [
              0.3333333333333333,
              "#9c179e"
             ],
             [
              0.4444444444444444,
              "#bd3786"
             ],
             [
              0.5555555555555556,
              "#d8576b"
             ],
             [
              0.6666666666666666,
              "#ed7953"
             ],
             [
              0.7777777777777778,
              "#fb9f3a"
             ],
             [
              0.8888888888888888,
              "#fdca26"
             ],
             [
              1,
              "#f0f921"
             ]
            ],
            "type": "heatmap"
           }
          ],
          "heatmapgl": [
           {
            "colorbar": {
             "outlinewidth": 0,
             "ticks": ""
            },
            "colorscale": [
             [
              0,
              "#0d0887"
             ],
             [
              0.1111111111111111,
              "#46039f"
             ],
             [
              0.2222222222222222,
              "#7201a8"
             ],
             [
              0.3333333333333333,
              "#9c179e"
             ],
             [
              0.4444444444444444,
              "#bd3786"
             ],
             [
              0.5555555555555556,
              "#d8576b"
             ],
             [
              0.6666666666666666,
              "#ed7953"
             ],
             [
              0.7777777777777778,
              "#fb9f3a"
             ],
             [
              0.8888888888888888,
              "#fdca26"
             ],
             [
              1,
              "#f0f921"
             ]
            ],
            "type": "heatmapgl"
           }
          ],
          "histogram": [
           {
            "marker": {
             "pattern": {
              "fillmode": "overlay",
              "size": 10,
              "solidity": 0.2
             }
            },
            "type": "histogram"
           }
          ],
          "histogram2d": [
           {
            "colorbar": {
             "outlinewidth": 0,
             "ticks": ""
            },
            "colorscale": [
             [
              0,
              "#0d0887"
             ],
             [
              0.1111111111111111,
              "#46039f"
             ],
             [
              0.2222222222222222,
              "#7201a8"
             ],
             [
              0.3333333333333333,
              "#9c179e"
             ],
             [
              0.4444444444444444,
              "#bd3786"
             ],
             [
              0.5555555555555556,
              "#d8576b"
             ],
             [
              0.6666666666666666,
              "#ed7953"
             ],
             [
              0.7777777777777778,
              "#fb9f3a"
             ],
             [
              0.8888888888888888,
              "#fdca26"
             ],
             [
              1,
              "#f0f921"
             ]
            ],
            "type": "histogram2d"
           }
          ],
          "histogram2dcontour": [
           {
            "colorbar": {
             "outlinewidth": 0,
             "ticks": ""
            },
            "colorscale": [
             [
              0,
              "#0d0887"
             ],
             [
              0.1111111111111111,
              "#46039f"
             ],
             [
              0.2222222222222222,
              "#7201a8"
             ],
             [
              0.3333333333333333,
              "#9c179e"
             ],
             [
              0.4444444444444444,
              "#bd3786"
             ],
             [
              0.5555555555555556,
              "#d8576b"
             ],
             [
              0.6666666666666666,
              "#ed7953"
             ],
             [
              0.7777777777777778,
              "#fb9f3a"
             ],
             [
              0.8888888888888888,
              "#fdca26"
             ],
             [
              1,
              "#f0f921"
             ]
            ],
            "type": "histogram2dcontour"
           }
          ],
          "mesh3d": [
           {
            "colorbar": {
             "outlinewidth": 0,
             "ticks": ""
            },
            "type": "mesh3d"
           }
          ],
          "parcoords": [
           {
            "line": {
             "colorbar": {
              "outlinewidth": 0,
              "ticks": ""
             }
            },
            "type": "parcoords"
           }
          ],
          "pie": [
           {
            "automargin": true,
            "type": "pie"
           }
          ],
          "scatter": [
           {
            "fillpattern": {
             "fillmode": "overlay",
             "size": 10,
             "solidity": 0.2
            },
            "type": "scatter"
           }
          ],
          "scatter3d": [
           {
            "line": {
             "colorbar": {
              "outlinewidth": 0,
              "ticks": ""
             }
            },
            "marker": {
             "colorbar": {
              "outlinewidth": 0,
              "ticks": ""
             }
            },
            "type": "scatter3d"
           }
          ],
          "scattercarpet": [
           {
            "marker": {
             "colorbar": {
              "outlinewidth": 0,
              "ticks": ""
             }
            },
            "type": "scattercarpet"
           }
          ],
          "scattergeo": [
           {
            "marker": {
             "colorbar": {
              "outlinewidth": 0,
              "ticks": ""
             }
            },
            "type": "scattergeo"
           }
          ],
          "scattergl": [
           {
            "marker": {
             "colorbar": {
              "outlinewidth": 0,
              "ticks": ""
             }
            },
            "type": "scattergl"
           }
          ],
          "scattermapbox": [
           {
            "marker": {
             "colorbar": {
              "outlinewidth": 0,
              "ticks": ""
             }
            },
            "type": "scattermapbox"
           }
          ],
          "scatterpolar": [
           {
            "marker": {
             "colorbar": {
              "outlinewidth": 0,
              "ticks": ""
             }
            },
            "type": "scatterpolar"
           }
          ],
          "scatterpolargl": [
           {
            "marker": {
             "colorbar": {
              "outlinewidth": 0,
              "ticks": ""
             }
            },
            "type": "scatterpolargl"
           }
          ],
          "scatterternary": [
           {
            "marker": {
             "colorbar": {
              "outlinewidth": 0,
              "ticks": ""
             }
            },
            "type": "scatterternary"
           }
          ],
          "surface": [
           {
            "colorbar": {
             "outlinewidth": 0,
             "ticks": ""
            },
            "colorscale": [
             [
              0,
              "#0d0887"
             ],
             [
              0.1111111111111111,
              "#46039f"
             ],
             [
              0.2222222222222222,
              "#7201a8"
             ],
             [
              0.3333333333333333,
              "#9c179e"
             ],
             [
              0.4444444444444444,
              "#bd3786"
             ],
             [
              0.5555555555555556,
              "#d8576b"
             ],
             [
              0.6666666666666666,
              "#ed7953"
             ],
             [
              0.7777777777777778,
              "#fb9f3a"
             ],
             [
              0.8888888888888888,
              "#fdca26"
             ],
             [
              1,
              "#f0f921"
             ]
            ],
            "type": "surface"
           }
          ],
          "table": [
           {
            "cells": {
             "fill": {
              "color": "#EBF0F8"
             },
             "line": {
              "color": "white"
             }
            },
            "header": {
             "fill": {
              "color": "#C8D4E3"
             },
             "line": {
              "color": "white"
             }
            },
            "type": "table"
           }
          ]
         },
         "layout": {
          "annotationdefaults": {
           "arrowcolor": "#2a3f5f",
           "arrowhead": 0,
           "arrowwidth": 1
          },
          "autotypenumbers": "strict",
          "coloraxis": {
           "colorbar": {
            "outlinewidth": 0,
            "ticks": ""
           }
          },
          "colorscale": {
           "diverging": [
            [
             0,
             "#8e0152"
            ],
            [
             0.1,
             "#c51b7d"
            ],
            [
             0.2,
             "#de77ae"
            ],
            [
             0.3,
             "#f1b6da"
            ],
            [
             0.4,
             "#fde0ef"
            ],
            [
             0.5,
             "#f7f7f7"
            ],
            [
             0.6,
             "#e6f5d0"
            ],
            [
             0.7,
             "#b8e186"
            ],
            [
             0.8,
             "#7fbc41"
            ],
            [
             0.9,
             "#4d9221"
            ],
            [
             1,
             "#276419"
            ]
           ],
           "sequential": [
            [
             0,
             "#0d0887"
            ],
            [
             0.1111111111111111,
             "#46039f"
            ],
            [
             0.2222222222222222,
             "#7201a8"
            ],
            [
             0.3333333333333333,
             "#9c179e"
            ],
            [
             0.4444444444444444,
             "#bd3786"
            ],
            [
             0.5555555555555556,
             "#d8576b"
            ],
            [
             0.6666666666666666,
             "#ed7953"
            ],
            [
             0.7777777777777778,
             "#fb9f3a"
            ],
            [
             0.8888888888888888,
             "#fdca26"
            ],
            [
             1,
             "#f0f921"
            ]
           ],
           "sequentialminus": [
            [
             0,
             "#0d0887"
            ],
            [
             0.1111111111111111,
             "#46039f"
            ],
            [
             0.2222222222222222,
             "#7201a8"
            ],
            [
             0.3333333333333333,
             "#9c179e"
            ],
            [
             0.4444444444444444,
             "#bd3786"
            ],
            [
             0.5555555555555556,
             "#d8576b"
            ],
            [
             0.6666666666666666,
             "#ed7953"
            ],
            [
             0.7777777777777778,
             "#fb9f3a"
            ],
            [
             0.8888888888888888,
             "#fdca26"
            ],
            [
             1,
             "#f0f921"
            ]
           ]
          },
          "colorway": [
           "#636efa",
           "#EF553B",
           "#00cc96",
           "#ab63fa",
           "#FFA15A",
           "#19d3f3",
           "#FF6692",
           "#B6E880",
           "#FF97FF",
           "#FECB52"
          ],
          "font": {
           "color": "#2a3f5f"
          },
          "geo": {
           "bgcolor": "white",
           "lakecolor": "white",
           "landcolor": "#E5ECF6",
           "showlakes": true,
           "showland": true,
           "subunitcolor": "white"
          },
          "hoverlabel": {
           "align": "left"
          },
          "hovermode": "closest",
          "mapbox": {
           "style": "light"
          },
          "paper_bgcolor": "white",
          "plot_bgcolor": "#E5ECF6",
          "polar": {
           "angularaxis": {
            "gridcolor": "white",
            "linecolor": "white",
            "ticks": ""
           },
           "bgcolor": "#E5ECF6",
           "radialaxis": {
            "gridcolor": "white",
            "linecolor": "white",
            "ticks": ""
           }
          },
          "scene": {
           "xaxis": {
            "backgroundcolor": "#E5ECF6",
            "gridcolor": "white",
            "gridwidth": 2,
            "linecolor": "white",
            "showbackground": true,
            "ticks": "",
            "zerolinecolor": "white"
           },
           "yaxis": {
            "backgroundcolor": "#E5ECF6",
            "gridcolor": "white",
            "gridwidth": 2,
            "linecolor": "white",
            "showbackground": true,
            "ticks": "",
            "zerolinecolor": "white"
           },
           "zaxis": {
            "backgroundcolor": "#E5ECF6",
            "gridcolor": "white",
            "gridwidth": 2,
            "linecolor": "white",
            "showbackground": true,
            "ticks": "",
            "zerolinecolor": "white"
           }
          },
          "shapedefaults": {
           "line": {
            "color": "#2a3f5f"
           }
          },
          "ternary": {
           "aaxis": {
            "gridcolor": "white",
            "linecolor": "white",
            "ticks": ""
           },
           "baxis": {
            "gridcolor": "white",
            "linecolor": "white",
            "ticks": ""
           },
           "bgcolor": "#E5ECF6",
           "caxis": {
            "gridcolor": "white",
            "linecolor": "white",
            "ticks": ""
           }
          },
          "title": {
           "x": 0.05
          },
          "xaxis": {
           "automargin": true,
           "gridcolor": "white",
           "linecolor": "white",
           "ticks": "",
           "title": {
            "standoff": 15
           },
           "zerolinecolor": "white",
           "zerolinewidth": 2
          },
          "yaxis": {
           "automargin": true,
           "gridcolor": "white",
           "linecolor": "white",
           "ticks": "",
           "title": {
            "standoff": 15
           },
           "zerolinecolor": "white",
           "zerolinewidth": 2
          }
         }
        },
        "title": {
         "text": "Comparison of Ball Distribution Metrics: Giorgi Mamardashvili vs Average of Other Goalkeepers"
        }
       }
      }
     },
     "metadata": {},
     "output_type": "display_data"
    }
   ],
   "source": [
    "def visualize_comparison_passing_metrics_radar(df_gk):\n",
    "    # data for Giorgi Mamardashvili\n",
    "    df_gk_ge = df_gk[df_gk['Player'] == 'Giorgi Mamardashvili']\n",
    "    if not df_gk_ge.empty:\n",
    "        metrics_ge = {\n",
    "            'Passes Attempted (GK)': df_gk_ge['Passes_Att (GK)'].values[0],\n",
    "            'Launched Passes Completed': df_gk_ge['Launched_Cmp'].values[0],\n",
    "            'Launched Passes Attempted': df_gk_ge['Launched_Att'].values[0],\n",
    "            'Average Pass Length': df_gk_ge['Passes_AvgLen'].values[0],\n",
    "            'Goal Kicks Attempted': df_gk_ge['Goal Kicks_Att'].values[0],\n",
    "            'Goal Kicks Launch %': df_gk_ge['Goal Kicks_Launch%'].values[0],\n",
    "            'Average Goal Kick Length': df_gk_ge['Goal Kicks_AvgLen'].values[0]\n",
    "        }\n",
    "\n",
    "    # data for other goalkeepers\n",
    "    df_gk_other = df_gk[df_gk['Player'] != 'Giorgi Mamardashvili']\n",
    "    if not df_gk_other.empty:\n",
    "        avg_metrics_other = {\n",
    "            'Passes Attempted (GK)': df_gk_other['Passes_Att (GK)'].mean(),\n",
    "            'Launched Passes Completed': df_gk_other['Launched_Cmp'].mean(),\n",
    "            'Launched Passes Attempted': df_gk_other['Launched_Att'].mean(),\n",
    "            'Average Pass Length': df_gk_other['Passes_AvgLen'].mean(),\n",
    "            'Goal Kicks Attempted': df_gk_other['Goal Kicks_Att'].mean(),\n",
    "            'Goal Kicks Launch %': df_gk_other['Goal Kicks_Launch%'].mean(),\n",
    "            'Average Goal Kick Length': df_gk_other['Goal Kicks_AvgLen'].mean()\n",
    "        }\n",
    "\n",
    "\n",
    "        gk_fig2 = go.Figure()\n",
    "\n",
    "\n",
    "        gk_fig2.add_trace(go.Scatterpolar(\n",
    "            r=list(metrics_ge.values()),\n",
    "            theta=list(metrics_ge.keys()),\n",
    "            mode='lines+markers',\n",
    "            line=dict(color='darkgreen'),\n",
    "            marker=dict(color='darkgreen'),\n",
    "            name='Giorgi Mamardashvili'\n",
    "        ))\n",
    "\n",
    "        gk_fig2.add_trace(go.Scatterpolar(\n",
    "            r=list(avg_metrics_other.values()),\n",
    "            theta=list(avg_metrics_other.keys()),\n",
    "            mode='lines+markers',\n",
    "            line=dict(color='darkblue'),\n",
    "            marker=dict(color='darkblue'),\n",
    "            name='Average of Other Goalkeepers'\n",
    "        ))\n",
    "\n",
    "        gk_fig2.update_layout(\n",
    "            title='Comparison of Ball Distribution Metrics: Giorgi Mamardashvili vs Average of Other Goalkeepers',\n",
    "            polar=dict(\n",
    "                radialaxis=dict(visible=True, range=[0, max(max(metrics_ge.values()), max(avg_metrics_other.values()))])\n",
    "            ),\n",
    "            showlegend=True,\n",
    "            plot_bgcolor='white',\n",
    "            paper_bgcolor='white'\n",
    "        )\n",
    "\n",
    "        gk_fig2.show()\n",
    "        gk_fig2.write_html(\"gk_fig2.html\")\n",
    "\n",
    "visualize_comparison_passing_metrics_radar(df_gk)"
   ]
  },
  {
   "cell_type": "code",
   "execution_count": 40,
   "id": "e1d633af",
   "metadata": {},
   "outputs": [
    {
     "data": {
      "application/vnd.plotly.v1+json": {
       "config": {
        "plotlyServerURL": "https://plot.ly"
       },
       "data": [
        {
         "hole": 0.3,
         "labels": [
          "Passes Attempted (GK)",
          "Throws Attempted"
         ],
         "marker": {
          "colors": [
           "#83c798",
           "#329952"
          ]
         },
         "textinfo": "label+percent",
         "type": "pie",
         "values": [
          80,
          21
         ]
        }
       ],
       "layout": {
        "margin": {
         "b": 50,
         "l": 50,
         "r": 50,
         "t": 50
        },
        "paper_bgcolor": "white",
        "plot_bgcolor": "white",
        "template": {
         "data": {
          "bar": [
           {
            "error_x": {
             "color": "#2a3f5f"
            },
            "error_y": {
             "color": "#2a3f5f"
            },
            "marker": {
             "line": {
              "color": "#E5ECF6",
              "width": 0.5
             },
             "pattern": {
              "fillmode": "overlay",
              "size": 10,
              "solidity": 0.2
             }
            },
            "type": "bar"
           }
          ],
          "barpolar": [
           {
            "marker": {
             "line": {
              "color": "#E5ECF6",
              "width": 0.5
             },
             "pattern": {
              "fillmode": "overlay",
              "size": 10,
              "solidity": 0.2
             }
            },
            "type": "barpolar"
           }
          ],
          "carpet": [
           {
            "aaxis": {
             "endlinecolor": "#2a3f5f",
             "gridcolor": "white",
             "linecolor": "white",
             "minorgridcolor": "white",
             "startlinecolor": "#2a3f5f"
            },
            "baxis": {
             "endlinecolor": "#2a3f5f",
             "gridcolor": "white",
             "linecolor": "white",
             "minorgridcolor": "white",
             "startlinecolor": "#2a3f5f"
            },
            "type": "carpet"
           }
          ],
          "choropleth": [
           {
            "colorbar": {
             "outlinewidth": 0,
             "ticks": ""
            },
            "type": "choropleth"
           }
          ],
          "contour": [
           {
            "colorbar": {
             "outlinewidth": 0,
             "ticks": ""
            },
            "colorscale": [
             [
              0,
              "#0d0887"
             ],
             [
              0.1111111111111111,
              "#46039f"
             ],
             [
              0.2222222222222222,
              "#7201a8"
             ],
             [
              0.3333333333333333,
              "#9c179e"
             ],
             [
              0.4444444444444444,
              "#bd3786"
             ],
             [
              0.5555555555555556,
              "#d8576b"
             ],
             [
              0.6666666666666666,
              "#ed7953"
             ],
             [
              0.7777777777777778,
              "#fb9f3a"
             ],
             [
              0.8888888888888888,
              "#fdca26"
             ],
             [
              1,
              "#f0f921"
             ]
            ],
            "type": "contour"
           }
          ],
          "contourcarpet": [
           {
            "colorbar": {
             "outlinewidth": 0,
             "ticks": ""
            },
            "type": "contourcarpet"
           }
          ],
          "heatmap": [
           {
            "colorbar": {
             "outlinewidth": 0,
             "ticks": ""
            },
            "colorscale": [
             [
              0,
              "#0d0887"
             ],
             [
              0.1111111111111111,
              "#46039f"
             ],
             [
              0.2222222222222222,
              "#7201a8"
             ],
             [
              0.3333333333333333,
              "#9c179e"
             ],
             [
              0.4444444444444444,
              "#bd3786"
             ],
             [
              0.5555555555555556,
              "#d8576b"
             ],
             [
              0.6666666666666666,
              "#ed7953"
             ],
             [
              0.7777777777777778,
              "#fb9f3a"
             ],
             [
              0.8888888888888888,
              "#fdca26"
             ],
             [
              1,
              "#f0f921"
             ]
            ],
            "type": "heatmap"
           }
          ],
          "heatmapgl": [
           {
            "colorbar": {
             "outlinewidth": 0,
             "ticks": ""
            },
            "colorscale": [
             [
              0,
              "#0d0887"
             ],
             [
              0.1111111111111111,
              "#46039f"
             ],
             [
              0.2222222222222222,
              "#7201a8"
             ],
             [
              0.3333333333333333,
              "#9c179e"
             ],
             [
              0.4444444444444444,
              "#bd3786"
             ],
             [
              0.5555555555555556,
              "#d8576b"
             ],
             [
              0.6666666666666666,
              "#ed7953"
             ],
             [
              0.7777777777777778,
              "#fb9f3a"
             ],
             [
              0.8888888888888888,
              "#fdca26"
             ],
             [
              1,
              "#f0f921"
             ]
            ],
            "type": "heatmapgl"
           }
          ],
          "histogram": [
           {
            "marker": {
             "pattern": {
              "fillmode": "overlay",
              "size": 10,
              "solidity": 0.2
             }
            },
            "type": "histogram"
           }
          ],
          "histogram2d": [
           {
            "colorbar": {
             "outlinewidth": 0,
             "ticks": ""
            },
            "colorscale": [
             [
              0,
              "#0d0887"
             ],
             [
              0.1111111111111111,
              "#46039f"
             ],
             [
              0.2222222222222222,
              "#7201a8"
             ],
             [
              0.3333333333333333,
              "#9c179e"
             ],
             [
              0.4444444444444444,
              "#bd3786"
             ],
             [
              0.5555555555555556,
              "#d8576b"
             ],
             [
              0.6666666666666666,
              "#ed7953"
             ],
             [
              0.7777777777777778,
              "#fb9f3a"
             ],
             [
              0.8888888888888888,
              "#fdca26"
             ],
             [
              1,
              "#f0f921"
             ]
            ],
            "type": "histogram2d"
           }
          ],
          "histogram2dcontour": [
           {
            "colorbar": {
             "outlinewidth": 0,
             "ticks": ""
            },
            "colorscale": [
             [
              0,
              "#0d0887"
             ],
             [
              0.1111111111111111,
              "#46039f"
             ],
             [
              0.2222222222222222,
              "#7201a8"
             ],
             [
              0.3333333333333333,
              "#9c179e"
             ],
             [
              0.4444444444444444,
              "#bd3786"
             ],
             [
              0.5555555555555556,
              "#d8576b"
             ],
             [
              0.6666666666666666,
              "#ed7953"
             ],
             [
              0.7777777777777778,
              "#fb9f3a"
             ],
             [
              0.8888888888888888,
              "#fdca26"
             ],
             [
              1,
              "#f0f921"
             ]
            ],
            "type": "histogram2dcontour"
           }
          ],
          "mesh3d": [
           {
            "colorbar": {
             "outlinewidth": 0,
             "ticks": ""
            },
            "type": "mesh3d"
           }
          ],
          "parcoords": [
           {
            "line": {
             "colorbar": {
              "outlinewidth": 0,
              "ticks": ""
             }
            },
            "type": "parcoords"
           }
          ],
          "pie": [
           {
            "automargin": true,
            "type": "pie"
           }
          ],
          "scatter": [
           {
            "fillpattern": {
             "fillmode": "overlay",
             "size": 10,
             "solidity": 0.2
            },
            "type": "scatter"
           }
          ],
          "scatter3d": [
           {
            "line": {
             "colorbar": {
              "outlinewidth": 0,
              "ticks": ""
             }
            },
            "marker": {
             "colorbar": {
              "outlinewidth": 0,
              "ticks": ""
             }
            },
            "type": "scatter3d"
           }
          ],
          "scattercarpet": [
           {
            "marker": {
             "colorbar": {
              "outlinewidth": 0,
              "ticks": ""
             }
            },
            "type": "scattercarpet"
           }
          ],
          "scattergeo": [
           {
            "marker": {
             "colorbar": {
              "outlinewidth": 0,
              "ticks": ""
             }
            },
            "type": "scattergeo"
           }
          ],
          "scattergl": [
           {
            "marker": {
             "colorbar": {
              "outlinewidth": 0,
              "ticks": ""
             }
            },
            "type": "scattergl"
           }
          ],
          "scattermapbox": [
           {
            "marker": {
             "colorbar": {
              "outlinewidth": 0,
              "ticks": ""
             }
            },
            "type": "scattermapbox"
           }
          ],
          "scatterpolar": [
           {
            "marker": {
             "colorbar": {
              "outlinewidth": 0,
              "ticks": ""
             }
            },
            "type": "scatterpolar"
           }
          ],
          "scatterpolargl": [
           {
            "marker": {
             "colorbar": {
              "outlinewidth": 0,
              "ticks": ""
             }
            },
            "type": "scatterpolargl"
           }
          ],
          "scatterternary": [
           {
            "marker": {
             "colorbar": {
              "outlinewidth": 0,
              "ticks": ""
             }
            },
            "type": "scatterternary"
           }
          ],
          "surface": [
           {
            "colorbar": {
             "outlinewidth": 0,
             "ticks": ""
            },
            "colorscale": [
             [
              0,
              "#0d0887"
             ],
             [
              0.1111111111111111,
              "#46039f"
             ],
             [
              0.2222222222222222,
              "#7201a8"
             ],
             [
              0.3333333333333333,
              "#9c179e"
             ],
             [
              0.4444444444444444,
              "#bd3786"
             ],
             [
              0.5555555555555556,
              "#d8576b"
             ],
             [
              0.6666666666666666,
              "#ed7953"
             ],
             [
              0.7777777777777778,
              "#fb9f3a"
             ],
             [
              0.8888888888888888,
              "#fdca26"
             ],
             [
              1,
              "#f0f921"
             ]
            ],
            "type": "surface"
           }
          ],
          "table": [
           {
            "cells": {
             "fill": {
              "color": "#EBF0F8"
             },
             "line": {
              "color": "white"
             }
            },
            "header": {
             "fill": {
              "color": "#C8D4E3"
             },
             "line": {
              "color": "white"
             }
            },
            "type": "table"
           }
          ]
         },
         "layout": {
          "annotationdefaults": {
           "arrowcolor": "#2a3f5f",
           "arrowhead": 0,
           "arrowwidth": 1
          },
          "autotypenumbers": "strict",
          "coloraxis": {
           "colorbar": {
            "outlinewidth": 0,
            "ticks": ""
           }
          },
          "colorscale": {
           "diverging": [
            [
             0,
             "#8e0152"
            ],
            [
             0.1,
             "#c51b7d"
            ],
            [
             0.2,
             "#de77ae"
            ],
            [
             0.3,
             "#f1b6da"
            ],
            [
             0.4,
             "#fde0ef"
            ],
            [
             0.5,
             "#f7f7f7"
            ],
            [
             0.6,
             "#e6f5d0"
            ],
            [
             0.7,
             "#b8e186"
            ],
            [
             0.8,
             "#7fbc41"
            ],
            [
             0.9,
             "#4d9221"
            ],
            [
             1,
             "#276419"
            ]
           ],
           "sequential": [
            [
             0,
             "#0d0887"
            ],
            [
             0.1111111111111111,
             "#46039f"
            ],
            [
             0.2222222222222222,
             "#7201a8"
            ],
            [
             0.3333333333333333,
             "#9c179e"
            ],
            [
             0.4444444444444444,
             "#bd3786"
            ],
            [
             0.5555555555555556,
             "#d8576b"
            ],
            [
             0.6666666666666666,
             "#ed7953"
            ],
            [
             0.7777777777777778,
             "#fb9f3a"
            ],
            [
             0.8888888888888888,
             "#fdca26"
            ],
            [
             1,
             "#f0f921"
            ]
           ],
           "sequentialminus": [
            [
             0,
             "#0d0887"
            ],
            [
             0.1111111111111111,
             "#46039f"
            ],
            [
             0.2222222222222222,
             "#7201a8"
            ],
            [
             0.3333333333333333,
             "#9c179e"
            ],
            [
             0.4444444444444444,
             "#bd3786"
            ],
            [
             0.5555555555555556,
             "#d8576b"
            ],
            [
             0.6666666666666666,
             "#ed7953"
            ],
            [
             0.7777777777777778,
             "#fb9f3a"
            ],
            [
             0.8888888888888888,
             "#fdca26"
            ],
            [
             1,
             "#f0f921"
            ]
           ]
          },
          "colorway": [
           "#636efa",
           "#EF553B",
           "#00cc96",
           "#ab63fa",
           "#FFA15A",
           "#19d3f3",
           "#FF6692",
           "#B6E880",
           "#FF97FF",
           "#FECB52"
          ],
          "font": {
           "color": "#2a3f5f"
          },
          "geo": {
           "bgcolor": "white",
           "lakecolor": "white",
           "landcolor": "#E5ECF6",
           "showlakes": true,
           "showland": true,
           "subunitcolor": "white"
          },
          "hoverlabel": {
           "align": "left"
          },
          "hovermode": "closest",
          "mapbox": {
           "style": "light"
          },
          "paper_bgcolor": "white",
          "plot_bgcolor": "#E5ECF6",
          "polar": {
           "angularaxis": {
            "gridcolor": "white",
            "linecolor": "white",
            "ticks": ""
           },
           "bgcolor": "#E5ECF6",
           "radialaxis": {
            "gridcolor": "white",
            "linecolor": "white",
            "ticks": ""
           }
          },
          "scene": {
           "xaxis": {
            "backgroundcolor": "#E5ECF6",
            "gridcolor": "white",
            "gridwidth": 2,
            "linecolor": "white",
            "showbackground": true,
            "ticks": "",
            "zerolinecolor": "white"
           },
           "yaxis": {
            "backgroundcolor": "#E5ECF6",
            "gridcolor": "white",
            "gridwidth": 2,
            "linecolor": "white",
            "showbackground": true,
            "ticks": "",
            "zerolinecolor": "white"
           },
           "zaxis": {
            "backgroundcolor": "#E5ECF6",
            "gridcolor": "white",
            "gridwidth": 2,
            "linecolor": "white",
            "showbackground": true,
            "ticks": "",
            "zerolinecolor": "white"
           }
          },
          "shapedefaults": {
           "line": {
            "color": "#2a3f5f"
           }
          },
          "ternary": {
           "aaxis": {
            "gridcolor": "white",
            "linecolor": "white",
            "ticks": ""
           },
           "baxis": {
            "gridcolor": "white",
            "linecolor": "white",
            "ticks": ""
           },
           "bgcolor": "#E5ECF6",
           "caxis": {
            "gridcolor": "white",
            "linecolor": "white",
            "ticks": ""
           }
          },
          "title": {
           "x": 0.05
          },
          "xaxis": {
           "automargin": true,
           "gridcolor": "white",
           "linecolor": "white",
           "ticks": "",
           "title": {
            "standoff": 15
           },
           "zerolinecolor": "white",
           "zerolinewidth": 2
          },
          "yaxis": {
           "automargin": true,
           "gridcolor": "white",
           "linecolor": "white",
           "ticks": "",
           "title": {
            "standoff": 15
           },
           "zerolinecolor": "white",
           "zerolinewidth": 2
          }
         }
        },
        "title": {
         "text": "Throwing vs Passing: What's Preferred? Giorgi Mamardashvili's Metrics"
        }
       }
      }
     },
     "metadata": {},
     "output_type": "display_data"
    },
    {
     "data": {
      "application/vnd.plotly.v1+json": {
       "config": {
        "plotlyServerURL": "https://plot.ly"
       },
       "data": [
        {
         "hole": 0.3,
         "labels": [
          "Passes Attempted (GK)",
          "Throws Attempted"
         ],
         "marker": {
          "colors": [
           "#6b96db",
           "#2b60b5"
          ]
         },
         "textinfo": "label+percent",
         "type": "pie",
         "values": [
          112.73913043478261,
          18.391304347826086
         ]
        }
       ],
       "layout": {
        "margin": {
         "b": 50,
         "l": 50,
         "r": 50,
         "t": 50
        },
        "paper_bgcolor": "white",
        "plot_bgcolor": "white",
        "template": {
         "data": {
          "bar": [
           {
            "error_x": {
             "color": "#2a3f5f"
            },
            "error_y": {
             "color": "#2a3f5f"
            },
            "marker": {
             "line": {
              "color": "#E5ECF6",
              "width": 0.5
             },
             "pattern": {
              "fillmode": "overlay",
              "size": 10,
              "solidity": 0.2
             }
            },
            "type": "bar"
           }
          ],
          "barpolar": [
           {
            "marker": {
             "line": {
              "color": "#E5ECF6",
              "width": 0.5
             },
             "pattern": {
              "fillmode": "overlay",
              "size": 10,
              "solidity": 0.2
             }
            },
            "type": "barpolar"
           }
          ],
          "carpet": [
           {
            "aaxis": {
             "endlinecolor": "#2a3f5f",
             "gridcolor": "white",
             "linecolor": "white",
             "minorgridcolor": "white",
             "startlinecolor": "#2a3f5f"
            },
            "baxis": {
             "endlinecolor": "#2a3f5f",
             "gridcolor": "white",
             "linecolor": "white",
             "minorgridcolor": "white",
             "startlinecolor": "#2a3f5f"
            },
            "type": "carpet"
           }
          ],
          "choropleth": [
           {
            "colorbar": {
             "outlinewidth": 0,
             "ticks": ""
            },
            "type": "choropleth"
           }
          ],
          "contour": [
           {
            "colorbar": {
             "outlinewidth": 0,
             "ticks": ""
            },
            "colorscale": [
             [
              0,
              "#0d0887"
             ],
             [
              0.1111111111111111,
              "#46039f"
             ],
             [
              0.2222222222222222,
              "#7201a8"
             ],
             [
              0.3333333333333333,
              "#9c179e"
             ],
             [
              0.4444444444444444,
              "#bd3786"
             ],
             [
              0.5555555555555556,
              "#d8576b"
             ],
             [
              0.6666666666666666,
              "#ed7953"
             ],
             [
              0.7777777777777778,
              "#fb9f3a"
             ],
             [
              0.8888888888888888,
              "#fdca26"
             ],
             [
              1,
              "#f0f921"
             ]
            ],
            "type": "contour"
           }
          ],
          "contourcarpet": [
           {
            "colorbar": {
             "outlinewidth": 0,
             "ticks": ""
            },
            "type": "contourcarpet"
           }
          ],
          "heatmap": [
           {
            "colorbar": {
             "outlinewidth": 0,
             "ticks": ""
            },
            "colorscale": [
             [
              0,
              "#0d0887"
             ],
             [
              0.1111111111111111,
              "#46039f"
             ],
             [
              0.2222222222222222,
              "#7201a8"
             ],
             [
              0.3333333333333333,
              "#9c179e"
             ],
             [
              0.4444444444444444,
              "#bd3786"
             ],
             [
              0.5555555555555556,
              "#d8576b"
             ],
             [
              0.6666666666666666,
              "#ed7953"
             ],
             [
              0.7777777777777778,
              "#fb9f3a"
             ],
             [
              0.8888888888888888,
              "#fdca26"
             ],
             [
              1,
              "#f0f921"
             ]
            ],
            "type": "heatmap"
           }
          ],
          "heatmapgl": [
           {
            "colorbar": {
             "outlinewidth": 0,
             "ticks": ""
            },
            "colorscale": [
             [
              0,
              "#0d0887"
             ],
             [
              0.1111111111111111,
              "#46039f"
             ],
             [
              0.2222222222222222,
              "#7201a8"
             ],
             [
              0.3333333333333333,
              "#9c179e"
             ],
             [
              0.4444444444444444,
              "#bd3786"
             ],
             [
              0.5555555555555556,
              "#d8576b"
             ],
             [
              0.6666666666666666,
              "#ed7953"
             ],
             [
              0.7777777777777778,
              "#fb9f3a"
             ],
             [
              0.8888888888888888,
              "#fdca26"
             ],
             [
              1,
              "#f0f921"
             ]
            ],
            "type": "heatmapgl"
           }
          ],
          "histogram": [
           {
            "marker": {
             "pattern": {
              "fillmode": "overlay",
              "size": 10,
              "solidity": 0.2
             }
            },
            "type": "histogram"
           }
          ],
          "histogram2d": [
           {
            "colorbar": {
             "outlinewidth": 0,
             "ticks": ""
            },
            "colorscale": [
             [
              0,
              "#0d0887"
             ],
             [
              0.1111111111111111,
              "#46039f"
             ],
             [
              0.2222222222222222,
              "#7201a8"
             ],
             [
              0.3333333333333333,
              "#9c179e"
             ],
             [
              0.4444444444444444,
              "#bd3786"
             ],
             [
              0.5555555555555556,
              "#d8576b"
             ],
             [
              0.6666666666666666,
              "#ed7953"
             ],
             [
              0.7777777777777778,
              "#fb9f3a"
             ],
             [
              0.8888888888888888,
              "#fdca26"
             ],
             [
              1,
              "#f0f921"
             ]
            ],
            "type": "histogram2d"
           }
          ],
          "histogram2dcontour": [
           {
            "colorbar": {
             "outlinewidth": 0,
             "ticks": ""
            },
            "colorscale": [
             [
              0,
              "#0d0887"
             ],
             [
              0.1111111111111111,
              "#46039f"
             ],
             [
              0.2222222222222222,
              "#7201a8"
             ],
             [
              0.3333333333333333,
              "#9c179e"
             ],
             [
              0.4444444444444444,
              "#bd3786"
             ],
             [
              0.5555555555555556,
              "#d8576b"
             ],
             [
              0.6666666666666666,
              "#ed7953"
             ],
             [
              0.7777777777777778,
              "#fb9f3a"
             ],
             [
              0.8888888888888888,
              "#fdca26"
             ],
             [
              1,
              "#f0f921"
             ]
            ],
            "type": "histogram2dcontour"
           }
          ],
          "mesh3d": [
           {
            "colorbar": {
             "outlinewidth": 0,
             "ticks": ""
            },
            "type": "mesh3d"
           }
          ],
          "parcoords": [
           {
            "line": {
             "colorbar": {
              "outlinewidth": 0,
              "ticks": ""
             }
            },
            "type": "parcoords"
           }
          ],
          "pie": [
           {
            "automargin": true,
            "type": "pie"
           }
          ],
          "scatter": [
           {
            "fillpattern": {
             "fillmode": "overlay",
             "size": 10,
             "solidity": 0.2
            },
            "type": "scatter"
           }
          ],
          "scatter3d": [
           {
            "line": {
             "colorbar": {
              "outlinewidth": 0,
              "ticks": ""
             }
            },
            "marker": {
             "colorbar": {
              "outlinewidth": 0,
              "ticks": ""
             }
            },
            "type": "scatter3d"
           }
          ],
          "scattercarpet": [
           {
            "marker": {
             "colorbar": {
              "outlinewidth": 0,
              "ticks": ""
             }
            },
            "type": "scattercarpet"
           }
          ],
          "scattergeo": [
           {
            "marker": {
             "colorbar": {
              "outlinewidth": 0,
              "ticks": ""
             }
            },
            "type": "scattergeo"
           }
          ],
          "scattergl": [
           {
            "marker": {
             "colorbar": {
              "outlinewidth": 0,
              "ticks": ""
             }
            },
            "type": "scattergl"
           }
          ],
          "scattermapbox": [
           {
            "marker": {
             "colorbar": {
              "outlinewidth": 0,
              "ticks": ""
             }
            },
            "type": "scattermapbox"
           }
          ],
          "scatterpolar": [
           {
            "marker": {
             "colorbar": {
              "outlinewidth": 0,
              "ticks": ""
             }
            },
            "type": "scatterpolar"
           }
          ],
          "scatterpolargl": [
           {
            "marker": {
             "colorbar": {
              "outlinewidth": 0,
              "ticks": ""
             }
            },
            "type": "scatterpolargl"
           }
          ],
          "scatterternary": [
           {
            "marker": {
             "colorbar": {
              "outlinewidth": 0,
              "ticks": ""
             }
            },
            "type": "scatterternary"
           }
          ],
          "surface": [
           {
            "colorbar": {
             "outlinewidth": 0,
             "ticks": ""
            },
            "colorscale": [
             [
              0,
              "#0d0887"
             ],
             [
              0.1111111111111111,
              "#46039f"
             ],
             [
              0.2222222222222222,
              "#7201a8"
             ],
             [
              0.3333333333333333,
              "#9c179e"
             ],
             [
              0.4444444444444444,
              "#bd3786"
             ],
             [
              0.5555555555555556,
              "#d8576b"
             ],
             [
              0.6666666666666666,
              "#ed7953"
             ],
             [
              0.7777777777777778,
              "#fb9f3a"
             ],
             [
              0.8888888888888888,
              "#fdca26"
             ],
             [
              1,
              "#f0f921"
             ]
            ],
            "type": "surface"
           }
          ],
          "table": [
           {
            "cells": {
             "fill": {
              "color": "#EBF0F8"
             },
             "line": {
              "color": "white"
             }
            },
            "header": {
             "fill": {
              "color": "#C8D4E3"
             },
             "line": {
              "color": "white"
             }
            },
            "type": "table"
           }
          ]
         },
         "layout": {
          "annotationdefaults": {
           "arrowcolor": "#2a3f5f",
           "arrowhead": 0,
           "arrowwidth": 1
          },
          "autotypenumbers": "strict",
          "coloraxis": {
           "colorbar": {
            "outlinewidth": 0,
            "ticks": ""
           }
          },
          "colorscale": {
           "diverging": [
            [
             0,
             "#8e0152"
            ],
            [
             0.1,
             "#c51b7d"
            ],
            [
             0.2,
             "#de77ae"
            ],
            [
             0.3,
             "#f1b6da"
            ],
            [
             0.4,
             "#fde0ef"
            ],
            [
             0.5,
             "#f7f7f7"
            ],
            [
             0.6,
             "#e6f5d0"
            ],
            [
             0.7,
             "#b8e186"
            ],
            [
             0.8,
             "#7fbc41"
            ],
            [
             0.9,
             "#4d9221"
            ],
            [
             1,
             "#276419"
            ]
           ],
           "sequential": [
            [
             0,
             "#0d0887"
            ],
            [
             0.1111111111111111,
             "#46039f"
            ],
            [
             0.2222222222222222,
             "#7201a8"
            ],
            [
             0.3333333333333333,
             "#9c179e"
            ],
            [
             0.4444444444444444,
             "#bd3786"
            ],
            [
             0.5555555555555556,
             "#d8576b"
            ],
            [
             0.6666666666666666,
             "#ed7953"
            ],
            [
             0.7777777777777778,
             "#fb9f3a"
            ],
            [
             0.8888888888888888,
             "#fdca26"
            ],
            [
             1,
             "#f0f921"
            ]
           ],
           "sequentialminus": [
            [
             0,
             "#0d0887"
            ],
            [
             0.1111111111111111,
             "#46039f"
            ],
            [
             0.2222222222222222,
             "#7201a8"
            ],
            [
             0.3333333333333333,
             "#9c179e"
            ],
            [
             0.4444444444444444,
             "#bd3786"
            ],
            [
             0.5555555555555556,
             "#d8576b"
            ],
            [
             0.6666666666666666,
             "#ed7953"
            ],
            [
             0.7777777777777778,
             "#fb9f3a"
            ],
            [
             0.8888888888888888,
             "#fdca26"
            ],
            [
             1,
             "#f0f921"
            ]
           ]
          },
          "colorway": [
           "#636efa",
           "#EF553B",
           "#00cc96",
           "#ab63fa",
           "#FFA15A",
           "#19d3f3",
           "#FF6692",
           "#B6E880",
           "#FF97FF",
           "#FECB52"
          ],
          "font": {
           "color": "#2a3f5f"
          },
          "geo": {
           "bgcolor": "white",
           "lakecolor": "white",
           "landcolor": "#E5ECF6",
           "showlakes": true,
           "showland": true,
           "subunitcolor": "white"
          },
          "hoverlabel": {
           "align": "left"
          },
          "hovermode": "closest",
          "mapbox": {
           "style": "light"
          },
          "paper_bgcolor": "white",
          "plot_bgcolor": "#E5ECF6",
          "polar": {
           "angularaxis": {
            "gridcolor": "white",
            "linecolor": "white",
            "ticks": ""
           },
           "bgcolor": "#E5ECF6",
           "radialaxis": {
            "gridcolor": "white",
            "linecolor": "white",
            "ticks": ""
           }
          },
          "scene": {
           "xaxis": {
            "backgroundcolor": "#E5ECF6",
            "gridcolor": "white",
            "gridwidth": 2,
            "linecolor": "white",
            "showbackground": true,
            "ticks": "",
            "zerolinecolor": "white"
           },
           "yaxis": {
            "backgroundcolor": "#E5ECF6",
            "gridcolor": "white",
            "gridwidth": 2,
            "linecolor": "white",
            "showbackground": true,
            "ticks": "",
            "zerolinecolor": "white"
           },
           "zaxis": {
            "backgroundcolor": "#E5ECF6",
            "gridcolor": "white",
            "gridwidth": 2,
            "linecolor": "white",
            "showbackground": true,
            "ticks": "",
            "zerolinecolor": "white"
           }
          },
          "shapedefaults": {
           "line": {
            "color": "#2a3f5f"
           }
          },
          "ternary": {
           "aaxis": {
            "gridcolor": "white",
            "linecolor": "white",
            "ticks": ""
           },
           "baxis": {
            "gridcolor": "white",
            "linecolor": "white",
            "ticks": ""
           },
           "bgcolor": "#E5ECF6",
           "caxis": {
            "gridcolor": "white",
            "linecolor": "white",
            "ticks": ""
           }
          },
          "title": {
           "x": 0.05
          },
          "xaxis": {
           "automargin": true,
           "gridcolor": "white",
           "linecolor": "white",
           "ticks": "",
           "title": {
            "standoff": 15
           },
           "zerolinecolor": "white",
           "zerolinewidth": 2
          },
          "yaxis": {
           "automargin": true,
           "gridcolor": "white",
           "linecolor": "white",
           "ticks": "",
           "title": {
            "standoff": 15
           },
           "zerolinecolor": "white",
           "zerolinewidth": 2
          }
         }
        },
        "title": {
         "text": "Average Metrics of Other Goalkeepers"
        }
       }
      }
     },
     "metadata": {},
     "output_type": "display_data"
    }
   ],
   "source": [
    "def create_pie_chart(data, colors, title):\n",
    "    fig = go.Figure()\n",
    "    fig.add_trace(go.Pie(\n",
    "        labels=data.index,\n",
    "        values=data.values,\n",
    "        marker=dict(colors=colors),\n",
    "        textinfo='label+percent',\n",
    "        hole=0.3\n",
    "    ))\n",
    "    fig.update_layout(\n",
    "        title=title,\n",
    "        plot_bgcolor='white',\n",
    "        paper_bgcolor='white',\n",
    "        margin=dict(t=50, b=50, l=50, r=50)\n",
    "    )\n",
    "    return fig\n",
    "\n",
    "def create_goalkeeper_pie_charts(df_gk):\n",
    "    global gk_fig3x1, gk_fig3x2\n",
    "    \n",
    "    df_gk_ge = df_gk[df_gk['Player'] == 'Giorgi Mamardashvili']\n",
    "    if not df_gk_ge.empty:\n",
    "        metrics_ge = {\n",
    "            'Passes Attempted (GK)': df_gk_ge['Passes_Att (GK)'].values[0],\n",
    "            'Throws Attempted': df_gk_ge['Passes_Thr'].values[0]\n",
    "        }\n",
    "        colors_ge = ['#83c798', '#329952']\n",
    "        gk_fig3x1 = create_pie_chart(pd.Series(metrics_ge), colors_ge, 'Throwing vs Passing: What\\'s Preferred? Giorgi Mamardashvili\\'s Metrics')\n",
    "        gk_fig3x1.write_html('gk_fig3x1.html')\n",
    "\n",
    "    df_gk_other = df_gk[df_gk['Player'] != 'Giorgi Mamardashvili']\n",
    "    if not df_gk_other.empty:\n",
    "        avg_metrics = {\n",
    "            'Passes Attempted (GK)': df_gk_other['Passes_Att (GK)'].mean(),\n",
    "            'Throws Attempted': df_gk_other['Passes_Thr'].mean()\n",
    "        }\n",
    "        colors_avg = ['#6b96db', '#2b60b5']\n",
    "        gk_fig3x2 = create_pie_chart(pd.Series(avg_metrics), colors_avg, 'Average Metrics of Other Goalkeepers')\n",
    "        gk_fig3x2.write_html('gk_fig3x2.html')\n",
    "\n",
    "    if 'gk_fig3x1' in globals():\n",
    "        gk_fig3x1.show()\n",
    "    if 'gk_fig3x2' in globals():\n",
    "        gk_fig3x2.show()\n",
    "\n",
    "create_goalkeeper_pie_charts(df_gk)"
   ]
  },
  {
   "cell_type": "code",
   "execution_count": 41,
   "id": "f76b04a8",
   "metadata": {},
   "outputs": [
    {
     "data": {
      "application/vnd.plotly.v1+json": {
       "config": {
        "plotlyServerURL": "https://plot.ly"
       },
       "data": [
        {
         "marker": {
          "color": [
           "#6b96db",
           "#329952",
           "#6b96db",
           "#6b96db",
           "#6b96db",
           "#6b96db",
           "#6b96db",
           "#6b96db",
           "#6b96db",
           "#6b96db",
           "#6b96db",
           "#6b96db",
           "#6b96db",
           "#6b96db",
           "#6b96db",
           "#6b96db",
           "#6b96db",
           "#6b96db",
           "#6b96db",
           "#6b96db",
           "#6b96db",
           "#6b96db",
           "#6b96db",
           "#6b96db"
          ]
         },
         "name": "Goalkeepers",
         "type": "bar",
         "x": [
          "Thomas Strakosha",
          "Giorgi Mamardashvili",
          "Jindřich Staněk",
          "Kasper Schmeichel",
          "Predrag Rajković",
          "Jan Oblak",
          "Yann Sommer",
          "Gianluigi Donnarumma",
          "Péter Gulácsi",
          "Mert Günok",
          "Bart Verbruggen",
          "Martin Dúbravka",
          "Koen Casteels",
          "Unai Simón",
          "Florin Niță",
          "Jordan Pickford",
          "Wojciech Szczęsny",
          "Mike Maignan",
          "Manuel Neuer",
          "Dominik Livaković",
          "Patrick Pentz",
          "Anatolii Trubin",
          "Angus Gunn",
          "Diogo Costa"
         ],
         "y": [
          5.9,
          7,
          7.7,
          8.2,
          8.4,
          8.6,
          9.1,
          10.1,
          10.1,
          10.2,
          11.7,
          11.8,
          13.8,
          13.9,
          14,
          14.3,
          14.3,
          15.2,
          15.5,
          16.3,
          16.6,
          16.8,
          18,
          21
         ]
        }
       ],
       "layout": {
        "annotations": [
         {
          "font": {
           "color": "black"
          },
          "showarrow": false,
          "text": "Goal Area",
          "x": 24.5,
          "y": 6
         },
         {
          "font": {
           "color": "black"
          },
          "showarrow": false,
          "text": "Penalty Area",
          "x": 24.5,
          "y": 18
         }
        ],
        "height": 600,
        "paper_bgcolor": "white",
        "plot_bgcolor": "white",
        "shapes": [
         {
          "line": {
           "color": "black",
           "dash": "dash",
           "width": 2
          },
          "type": "line",
          "x0": -0.5,
          "x1": 23.5,
          "y0": 6,
          "y1": 6
         },
         {
          "line": {
           "color": "black",
           "dash": "dash",
           "width": 2
          },
          "type": "line",
          "x0": -0.5,
          "x1": 23.5,
          "y0": 18,
          "y1": 18
         }
        ],
        "template": {
         "data": {
          "bar": [
           {
            "error_x": {
             "color": "#2a3f5f"
            },
            "error_y": {
             "color": "#2a3f5f"
            },
            "marker": {
             "line": {
              "color": "#E5ECF6",
              "width": 0.5
             },
             "pattern": {
              "fillmode": "overlay",
              "size": 10,
              "solidity": 0.2
             }
            },
            "type": "bar"
           }
          ],
          "barpolar": [
           {
            "marker": {
             "line": {
              "color": "#E5ECF6",
              "width": 0.5
             },
             "pattern": {
              "fillmode": "overlay",
              "size": 10,
              "solidity": 0.2
             }
            },
            "type": "barpolar"
           }
          ],
          "carpet": [
           {
            "aaxis": {
             "endlinecolor": "#2a3f5f",
             "gridcolor": "white",
             "linecolor": "white",
             "minorgridcolor": "white",
             "startlinecolor": "#2a3f5f"
            },
            "baxis": {
             "endlinecolor": "#2a3f5f",
             "gridcolor": "white",
             "linecolor": "white",
             "minorgridcolor": "white",
             "startlinecolor": "#2a3f5f"
            },
            "type": "carpet"
           }
          ],
          "choropleth": [
           {
            "colorbar": {
             "outlinewidth": 0,
             "ticks": ""
            },
            "type": "choropleth"
           }
          ],
          "contour": [
           {
            "colorbar": {
             "outlinewidth": 0,
             "ticks": ""
            },
            "colorscale": [
             [
              0,
              "#0d0887"
             ],
             [
              0.1111111111111111,
              "#46039f"
             ],
             [
              0.2222222222222222,
              "#7201a8"
             ],
             [
              0.3333333333333333,
              "#9c179e"
             ],
             [
              0.4444444444444444,
              "#bd3786"
             ],
             [
              0.5555555555555556,
              "#d8576b"
             ],
             [
              0.6666666666666666,
              "#ed7953"
             ],
             [
              0.7777777777777778,
              "#fb9f3a"
             ],
             [
              0.8888888888888888,
              "#fdca26"
             ],
             [
              1,
              "#f0f921"
             ]
            ],
            "type": "contour"
           }
          ],
          "contourcarpet": [
           {
            "colorbar": {
             "outlinewidth": 0,
             "ticks": ""
            },
            "type": "contourcarpet"
           }
          ],
          "heatmap": [
           {
            "colorbar": {
             "outlinewidth": 0,
             "ticks": ""
            },
            "colorscale": [
             [
              0,
              "#0d0887"
             ],
             [
              0.1111111111111111,
              "#46039f"
             ],
             [
              0.2222222222222222,
              "#7201a8"
             ],
             [
              0.3333333333333333,
              "#9c179e"
             ],
             [
              0.4444444444444444,
              "#bd3786"
             ],
             [
              0.5555555555555556,
              "#d8576b"
             ],
             [
              0.6666666666666666,
              "#ed7953"
             ],
             [
              0.7777777777777778,
              "#fb9f3a"
             ],
             [
              0.8888888888888888,
              "#fdca26"
             ],
             [
              1,
              "#f0f921"
             ]
            ],
            "type": "heatmap"
           }
          ],
          "heatmapgl": [
           {
            "colorbar": {
             "outlinewidth": 0,
             "ticks": ""
            },
            "colorscale": [
             [
              0,
              "#0d0887"
             ],
             [
              0.1111111111111111,
              "#46039f"
             ],
             [
              0.2222222222222222,
              "#7201a8"
             ],
             [
              0.3333333333333333,
              "#9c179e"
             ],
             [
              0.4444444444444444,
              "#bd3786"
             ],
             [
              0.5555555555555556,
              "#d8576b"
             ],
             [
              0.6666666666666666,
              "#ed7953"
             ],
             [
              0.7777777777777778,
              "#fb9f3a"
             ],
             [
              0.8888888888888888,
              "#fdca26"
             ],
             [
              1,
              "#f0f921"
             ]
            ],
            "type": "heatmapgl"
           }
          ],
          "histogram": [
           {
            "marker": {
             "pattern": {
              "fillmode": "overlay",
              "size": 10,
              "solidity": 0.2
             }
            },
            "type": "histogram"
           }
          ],
          "histogram2d": [
           {
            "colorbar": {
             "outlinewidth": 0,
             "ticks": ""
            },
            "colorscale": [
             [
              0,
              "#0d0887"
             ],
             [
              0.1111111111111111,
              "#46039f"
             ],
             [
              0.2222222222222222,
              "#7201a8"
             ],
             [
              0.3333333333333333,
              "#9c179e"
             ],
             [
              0.4444444444444444,
              "#bd3786"
             ],
             [
              0.5555555555555556,
              "#d8576b"
             ],
             [
              0.6666666666666666,
              "#ed7953"
             ],
             [
              0.7777777777777778,
              "#fb9f3a"
             ],
             [
              0.8888888888888888,
              "#fdca26"
             ],
             [
              1,
              "#f0f921"
             ]
            ],
            "type": "histogram2d"
           }
          ],
          "histogram2dcontour": [
           {
            "colorbar": {
             "outlinewidth": 0,
             "ticks": ""
            },
            "colorscale": [
             [
              0,
              "#0d0887"
             ],
             [
              0.1111111111111111,
              "#46039f"
             ],
             [
              0.2222222222222222,
              "#7201a8"
             ],
             [
              0.3333333333333333,
              "#9c179e"
             ],
             [
              0.4444444444444444,
              "#bd3786"
             ],
             [
              0.5555555555555556,
              "#d8576b"
             ],
             [
              0.6666666666666666,
              "#ed7953"
             ],
             [
              0.7777777777777778,
              "#fb9f3a"
             ],
             [
              0.8888888888888888,
              "#fdca26"
             ],
             [
              1,
              "#f0f921"
             ]
            ],
            "type": "histogram2dcontour"
           }
          ],
          "mesh3d": [
           {
            "colorbar": {
             "outlinewidth": 0,
             "ticks": ""
            },
            "type": "mesh3d"
           }
          ],
          "parcoords": [
           {
            "line": {
             "colorbar": {
              "outlinewidth": 0,
              "ticks": ""
             }
            },
            "type": "parcoords"
           }
          ],
          "pie": [
           {
            "automargin": true,
            "type": "pie"
           }
          ],
          "scatter": [
           {
            "fillpattern": {
             "fillmode": "overlay",
             "size": 10,
             "solidity": 0.2
            },
            "type": "scatter"
           }
          ],
          "scatter3d": [
           {
            "line": {
             "colorbar": {
              "outlinewidth": 0,
              "ticks": ""
             }
            },
            "marker": {
             "colorbar": {
              "outlinewidth": 0,
              "ticks": ""
             }
            },
            "type": "scatter3d"
           }
          ],
          "scattercarpet": [
           {
            "marker": {
             "colorbar": {
              "outlinewidth": 0,
              "ticks": ""
             }
            },
            "type": "scattercarpet"
           }
          ],
          "scattergeo": [
           {
            "marker": {
             "colorbar": {
              "outlinewidth": 0,
              "ticks": ""
             }
            },
            "type": "scattergeo"
           }
          ],
          "scattergl": [
           {
            "marker": {
             "colorbar": {
              "outlinewidth": 0,
              "ticks": ""
             }
            },
            "type": "scattergl"
           }
          ],
          "scattermapbox": [
           {
            "marker": {
             "colorbar": {
              "outlinewidth": 0,
              "ticks": ""
             }
            },
            "type": "scattermapbox"
           }
          ],
          "scatterpolar": [
           {
            "marker": {
             "colorbar": {
              "outlinewidth": 0,
              "ticks": ""
             }
            },
            "type": "scatterpolar"
           }
          ],
          "scatterpolargl": [
           {
            "marker": {
             "colorbar": {
              "outlinewidth": 0,
              "ticks": ""
             }
            },
            "type": "scatterpolargl"
           }
          ],
          "scatterternary": [
           {
            "marker": {
             "colorbar": {
              "outlinewidth": 0,
              "ticks": ""
             }
            },
            "type": "scatterternary"
           }
          ],
          "surface": [
           {
            "colorbar": {
             "outlinewidth": 0,
             "ticks": ""
            },
            "colorscale": [
             [
              0,
              "#0d0887"
             ],
             [
              0.1111111111111111,
              "#46039f"
             ],
             [
              0.2222222222222222,
              "#7201a8"
             ],
             [
              0.3333333333333333,
              "#9c179e"
             ],
             [
              0.4444444444444444,
              "#bd3786"
             ],
             [
              0.5555555555555556,
              "#d8576b"
             ],
             [
              0.6666666666666666,
              "#ed7953"
             ],
             [
              0.7777777777777778,
              "#fb9f3a"
             ],
             [
              0.8888888888888888,
              "#fdca26"
             ],
             [
              1,
              "#f0f921"
             ]
            ],
            "type": "surface"
           }
          ],
          "table": [
           {
            "cells": {
             "fill": {
              "color": "#EBF0F8"
             },
             "line": {
              "color": "white"
             }
            },
            "header": {
             "fill": {
              "color": "#C8D4E3"
             },
             "line": {
              "color": "white"
             }
            },
            "type": "table"
           }
          ]
         },
         "layout": {
          "annotationdefaults": {
           "arrowcolor": "#2a3f5f",
           "arrowhead": 0,
           "arrowwidth": 1
          },
          "autotypenumbers": "strict",
          "coloraxis": {
           "colorbar": {
            "outlinewidth": 0,
            "ticks": ""
           }
          },
          "colorscale": {
           "diverging": [
            [
             0,
             "#8e0152"
            ],
            [
             0.1,
             "#c51b7d"
            ],
            [
             0.2,
             "#de77ae"
            ],
            [
             0.3,
             "#f1b6da"
            ],
            [
             0.4,
             "#fde0ef"
            ],
            [
             0.5,
             "#f7f7f7"
            ],
            [
             0.6,
             "#e6f5d0"
            ],
            [
             0.7,
             "#b8e186"
            ],
            [
             0.8,
             "#7fbc41"
            ],
            [
             0.9,
             "#4d9221"
            ],
            [
             1,
             "#276419"
            ]
           ],
           "sequential": [
            [
             0,
             "#0d0887"
            ],
            [
             0.1111111111111111,
             "#46039f"
            ],
            [
             0.2222222222222222,
             "#7201a8"
            ],
            [
             0.3333333333333333,
             "#9c179e"
            ],
            [
             0.4444444444444444,
             "#bd3786"
            ],
            [
             0.5555555555555556,
             "#d8576b"
            ],
            [
             0.6666666666666666,
             "#ed7953"
            ],
            [
             0.7777777777777778,
             "#fb9f3a"
            ],
            [
             0.8888888888888888,
             "#fdca26"
            ],
            [
             1,
             "#f0f921"
            ]
           ],
           "sequentialminus": [
            [
             0,
             "#0d0887"
            ],
            [
             0.1111111111111111,
             "#46039f"
            ],
            [
             0.2222222222222222,
             "#7201a8"
            ],
            [
             0.3333333333333333,
             "#9c179e"
            ],
            [
             0.4444444444444444,
             "#bd3786"
            ],
            [
             0.5555555555555556,
             "#d8576b"
            ],
            [
             0.6666666666666666,
             "#ed7953"
            ],
            [
             0.7777777777777778,
             "#fb9f3a"
            ],
            [
             0.8888888888888888,
             "#fdca26"
            ],
            [
             1,
             "#f0f921"
            ]
           ]
          },
          "colorway": [
           "#636efa",
           "#EF553B",
           "#00cc96",
           "#ab63fa",
           "#FFA15A",
           "#19d3f3",
           "#FF6692",
           "#B6E880",
           "#FF97FF",
           "#FECB52"
          ],
          "font": {
           "color": "#2a3f5f"
          },
          "geo": {
           "bgcolor": "white",
           "lakecolor": "white",
           "landcolor": "#E5ECF6",
           "showlakes": true,
           "showland": true,
           "subunitcolor": "white"
          },
          "hoverlabel": {
           "align": "left"
          },
          "hovermode": "closest",
          "mapbox": {
           "style": "light"
          },
          "paper_bgcolor": "white",
          "plot_bgcolor": "#E5ECF6",
          "polar": {
           "angularaxis": {
            "gridcolor": "white",
            "linecolor": "white",
            "ticks": ""
           },
           "bgcolor": "#E5ECF6",
           "radialaxis": {
            "gridcolor": "white",
            "linecolor": "white",
            "ticks": ""
           }
          },
          "scene": {
           "xaxis": {
            "backgroundcolor": "#E5ECF6",
            "gridcolor": "white",
            "gridwidth": 2,
            "linecolor": "white",
            "showbackground": true,
            "ticks": "",
            "zerolinecolor": "white"
           },
           "yaxis": {
            "backgroundcolor": "#E5ECF6",
            "gridcolor": "white",
            "gridwidth": 2,
            "linecolor": "white",
            "showbackground": true,
            "ticks": "",
            "zerolinecolor": "white"
           },
           "zaxis": {
            "backgroundcolor": "#E5ECF6",
            "gridcolor": "white",
            "gridwidth": 2,
            "linecolor": "white",
            "showbackground": true,
            "ticks": "",
            "zerolinecolor": "white"
           }
          },
          "shapedefaults": {
           "line": {
            "color": "#2a3f5f"
           }
          },
          "ternary": {
           "aaxis": {
            "gridcolor": "white",
            "linecolor": "white",
            "ticks": ""
           },
           "baxis": {
            "gridcolor": "white",
            "linecolor": "white",
            "ticks": ""
           },
           "bgcolor": "#E5ECF6",
           "caxis": {
            "gridcolor": "white",
            "linecolor": "white",
            "ticks": ""
           }
          },
          "title": {
           "x": 0.05
          },
          "xaxis": {
           "automargin": true,
           "gridcolor": "white",
           "linecolor": "white",
           "ticks": "",
           "title": {
            "standoff": 15
           },
           "zerolinecolor": "white",
           "zerolinewidth": 2
          },
          "yaxis": {
           "automargin": true,
           "gridcolor": "white",
           "linecolor": "white",
           "ticks": "",
           "title": {
            "standoff": 15
           },
           "zerolinecolor": "white",
           "zerolinewidth": 2
          }
         }
        },
        "title": {
         "text": "Average Distance From Goal of Defensive Actions"
        },
        "xaxis": {
         "tickangle": -45,
         "title": {
          "text": "Goalkeepers"
         }
        },
        "yaxis": {
         "title": {
          "text": "Average Distance (yards)"
         }
        }
       }
      }
     },
     "metadata": {},
     "output_type": "display_data"
    }
   ],
   "source": [
    "def visualize_defensive_actions_distance_individual(df_gk):\n",
    "    df_gk_sorted = df_gk[['Player', 'Sweeper_AvgDist']].sort_values(by='Sweeper_AvgDist')\n",
    "\n",
    "    players = df_gk_sorted['Player']\n",
    "    distances = df_gk_sorted['Sweeper_AvgDist']\n",
    "\n",
    "    gk_fig4 = go.Figure()\n",
    "\n",
    "    gk_fig4.add_trace(go.Bar(\n",
    "        x=players,\n",
    "        y=distances,\n",
    "        marker_color=['#329952' if player == 'Giorgi Mamardashvili' else '#6b96db' for player in players],\n",
    "        name='Goalkeepers'\n",
    "    ))\n",
    "\n",
    "    gk_fig4.update_layout(\n",
    "        title='Average Distance From Goal of Defensive Actions',\n",
    "        xaxis_title='Goalkeepers',\n",
    "        yaxis_title='Average Distance (yards)',\n",
    "        xaxis_tickangle=-45,\n",
    "        plot_bgcolor='white',\n",
    "        paper_bgcolor='white',\n",
    "        height=600\n",
    "    )\n",
    "\n",
    "    gk_fig4.add_shape(\n",
    "        type=\"line\",\n",
    "        x0=-0.5,\n",
    "        y0=6,\n",
    "        x1=len(players) - 0.5,\n",
    "        y1=6,\n",
    "        line=dict(color=\"black\", width=2, dash=\"dash\")\n",
    "    )\n",
    "\n",
    "    gk_fig4.add_shape(\n",
    "        type=\"line\",\n",
    "        x0=-0.5,\n",
    "        y0=18,\n",
    "        x1=len(players) - 0.5,\n",
    "        y1=18,\n",
    "        line=dict(color=\"black\", width=2, dash=\"dash\")\n",
    "    )\n",
    "\n",
    "    gk_fig4.add_annotation(\n",
    "        x=len(players) + 0.5,\n",
    "        y=6,\n",
    "        text=\"Goal Area\",\n",
    "        showarrow=False,\n",
    "        font=dict(color=\"black\")\n",
    "    )\n",
    "\n",
    "    gk_fig4.add_annotation(\n",
    "        x=len(players) + 0.5,\n",
    "        y=18,\n",
    "        text=\"Penalty Area\",\n",
    "        showarrow=False,\n",
    "        font=dict(color=\"black\")\n",
    "    )\n",
    "\n",
    "    gk_fig4.show()\n",
    "    gk_fig4.write_html(\"gk_fig4.html\")\n",
    "\n",
    "visualize_defensive_actions_distance_individual(df_gk)"
   ]
  },
  {
   "cell_type": "markdown",
   "id": "29586ae9",
   "metadata": {},
   "source": [
    "# Defending"
   ]
  },
  {
   "cell_type": "code",
   "execution_count": 4,
   "id": "ce52433c",
   "metadata": {},
   "outputs": [
    {
     "name": "stderr",
     "output_type": "stream",
     "text": [
      "C:\\Users\\Kiu-Student\\AppData\\Local\\Temp\\ipykernel_7684\\4261112180.py:5: DeprecationWarning: The 'text' argument to find()-type methods is deprecated. Use 'string' instead.\n",
      "  comments = soup.find_all(text=lambda text:isinstance(text, bs4.Comment))\n",
      "C:\\Users\\Kiu-Student\\AppData\\Local\\Temp\\ipykernel_7684\\4261112180.py:6: MarkupResemblesLocatorWarning: The input looks more like a filename than markup. You may want to open this file and pass the filehandle into Beautiful Soup.\n",
      "  commented_out_tables = [bs4.BeautifulSoup(cmt).find_all('table') for cmt in comments]\n"
     ]
    },
    {
     "name": "stdout",
     "output_type": "stream",
     "text": [
      "Total tables in main HTML: 2\n",
      "Total tables in comments: 1\n"
     ]
    }
   ],
   "source": [
    "# IMPORTING DEFENSE STATS\n",
    "\n",
    "response = requests.get('https://fbref.com/en/comps/676/defense/UEFA-Euro-Stats')\n",
    "soup = bs4.BeautifulSoup(response.content)\n",
    "comments = soup.find_all(text=lambda text:isinstance(text, bs4.Comment))\n",
    "commented_out_tables = [bs4.BeautifulSoup(cmt).find_all('table') for cmt in comments]\n",
    "commented_out_tables = [tab[0] for tab in commented_out_tables if len(tab) == 1]\n",
    "df_def = pd.read_html(str(commented_out_tables[0]))[0]\n",
    "main_tables = soup.find_all('table')\n",
    "print(f'Total tables in main HTML: {len(main_tables)}')\n",
    "print(f'Total tables in comments: {len(commented_out_tables)}')\n",
    "\n",
    "if commented_out_tables:\n",
    "    for i, table in enumerate(commented_out_tables):\n",
    "        df_def = pd.read_html(str(table))[0]\n",
    "else:\n",
    "    print(\"No tables found in comments.\")"
   ]
  },
  {
   "cell_type": "code",
   "execution_count": 5,
   "id": "7e5a6f8f",
   "metadata": {},
   "outputs": [
    {
     "data": {
      "text/html": [
       "<div>\n",
       "<style scoped>\n",
       "    .dataframe tbody tr th:only-of-type {\n",
       "        vertical-align: middle;\n",
       "    }\n",
       "\n",
       "    .dataframe tbody tr th {\n",
       "        vertical-align: top;\n",
       "    }\n",
       "\n",
       "    .dataframe thead th {\n",
       "        text-align: right;\n",
       "    }\n",
       "</style>\n",
       "<table border=\"1\" class=\"dataframe\">\n",
       "  <thead>\n",
       "    <tr style=\"text-align: right;\">\n",
       "      <th></th>\n",
       "      <th>Player</th>\n",
       "      <th>Pos</th>\n",
       "      <th>Squad</th>\n",
       "      <th>Age</th>\n",
       "      <th>Born</th>\n",
       "      <th>90s</th>\n",
       "      <th>Tackles_Tkl</th>\n",
       "      <th>Tackles_TklW</th>\n",
       "      <th>Tackles_Def 3rd</th>\n",
       "      <th>Tackles_Mid 3rd</th>\n",
       "      <th>...</th>\n",
       "      <th>Challenges_Att</th>\n",
       "      <th>Challenges_Tkl%</th>\n",
       "      <th>Challenges_Lost</th>\n",
       "      <th>Blocks_Blocks</th>\n",
       "      <th>Blocks_Sh</th>\n",
       "      <th>Blocks_Pass</th>\n",
       "      <th>Int</th>\n",
       "      <th>Tkl+Int</th>\n",
       "      <th>Clr</th>\n",
       "      <th>Err</th>\n",
       "    </tr>\n",
       "  </thead>\n",
       "  <tbody>\n",
       "    <tr>\n",
       "      <th>0</th>\n",
       "      <td>Che Adams</td>\n",
       "      <td>FW</td>\n",
       "      <td>Scotland</td>\n",
       "      <td>27</td>\n",
       "      <td>1996</td>\n",
       "      <td>2.3</td>\n",
       "      <td>2</td>\n",
       "      <td>1</td>\n",
       "      <td>1</td>\n",
       "      <td>1</td>\n",
       "      <td>...</td>\n",
       "      <td>1</td>\n",
       "      <td>100.0</td>\n",
       "      <td>0</td>\n",
       "      <td>2</td>\n",
       "      <td>0</td>\n",
       "      <td>2</td>\n",
       "      <td>1</td>\n",
       "      <td>3</td>\n",
       "      <td>0</td>\n",
       "      <td>0</td>\n",
       "    </tr>\n",
       "    <tr>\n",
       "      <th>1</th>\n",
       "      <td>Michel Aebischer</td>\n",
       "      <td>DF</td>\n",
       "      <td>Switzerland</td>\n",
       "      <td>27</td>\n",
       "      <td>1997</td>\n",
       "      <td>5.3</td>\n",
       "      <td>4</td>\n",
       "      <td>3</td>\n",
       "      <td>2</td>\n",
       "      <td>2</td>\n",
       "      <td>...</td>\n",
       "      <td>11</td>\n",
       "      <td>9.1</td>\n",
       "      <td>10</td>\n",
       "      <td>3</td>\n",
       "      <td>1</td>\n",
       "      <td>2</td>\n",
       "      <td>2</td>\n",
       "      <td>6</td>\n",
       "      <td>7</td>\n",
       "      <td>0</td>\n",
       "    </tr>\n",
       "    <tr>\n",
       "      <th>2</th>\n",
       "      <td>Arlind Ajeti</td>\n",
       "      <td>DF</td>\n",
       "      <td>Albania</td>\n",
       "      <td>30</td>\n",
       "      <td>1993</td>\n",
       "      <td>3.0</td>\n",
       "      <td>1</td>\n",
       "      <td>0</td>\n",
       "      <td>0</td>\n",
       "      <td>1</td>\n",
       "      <td>...</td>\n",
       "      <td>3</td>\n",
       "      <td>33.3</td>\n",
       "      <td>2</td>\n",
       "      <td>5</td>\n",
       "      <td>4</td>\n",
       "      <td>1</td>\n",
       "      <td>6</td>\n",
       "      <td>7</td>\n",
       "      <td>13</td>\n",
       "      <td>0</td>\n",
       "    </tr>\n",
       "    <tr>\n",
       "      <th>3</th>\n",
       "      <td>Manuel Akanji</td>\n",
       "      <td>DF</td>\n",
       "      <td>Switzerland</td>\n",
       "      <td>28</td>\n",
       "      <td>1995</td>\n",
       "      <td>5.3</td>\n",
       "      <td>2</td>\n",
       "      <td>2</td>\n",
       "      <td>2</td>\n",
       "      <td>0</td>\n",
       "      <td>...</td>\n",
       "      <td>2</td>\n",
       "      <td>50.0</td>\n",
       "      <td>1</td>\n",
       "      <td>6</td>\n",
       "      <td>6</td>\n",
       "      <td>0</td>\n",
       "      <td>4</td>\n",
       "      <td>6</td>\n",
       "      <td>22</td>\n",
       "      <td>0</td>\n",
       "    </tr>\n",
       "    <tr>\n",
       "      <th>4</th>\n",
       "      <td>Samet Akaydın</td>\n",
       "      <td>DF</td>\n",
       "      <td>Türkiye</td>\n",
       "      <td>29</td>\n",
       "      <td>1994</td>\n",
       "      <td>3.7</td>\n",
       "      <td>8</td>\n",
       "      <td>4</td>\n",
       "      <td>8</td>\n",
       "      <td>0</td>\n",
       "      <td>...</td>\n",
       "      <td>8</td>\n",
       "      <td>75.0</td>\n",
       "      <td>2</td>\n",
       "      <td>5</td>\n",
       "      <td>5</td>\n",
       "      <td>0</td>\n",
       "      <td>7</td>\n",
       "      <td>15</td>\n",
       "      <td>16</td>\n",
       "      <td>0</td>\n",
       "    </tr>\n",
       "  </tbody>\n",
       "</table>\n",
       "<p>5 rows × 22 columns</p>\n",
       "</div>"
      ],
      "text/plain": [
       "             Player Pos        Squad  Age  Born  90s  Tackles_Tkl  \\\n",
       "0         Che Adams  FW     Scotland   27  1996  2.3            2   \n",
       "1  Michel Aebischer  DF  Switzerland   27  1997  5.3            4   \n",
       "2      Arlind Ajeti  DF      Albania   30  1993  3.0            1   \n",
       "3     Manuel Akanji  DF  Switzerland   28  1995  5.3            2   \n",
       "4     Samet Akaydın  DF      Türkiye   29  1994  3.7            8   \n",
       "\n",
       "   Tackles_TklW  Tackles_Def 3rd  Tackles_Mid 3rd  ...  Challenges_Att  \\\n",
       "0             1                1                1  ...               1   \n",
       "1             3                2                2  ...              11   \n",
       "2             0                0                1  ...               3   \n",
       "3             2                2                0  ...               2   \n",
       "4             4                8                0  ...               8   \n",
       "\n",
       "   Challenges_Tkl%  Challenges_Lost  Blocks_Blocks  Blocks_Sh  Blocks_Pass  \\\n",
       "0            100.0                0              2          0            2   \n",
       "1              9.1               10              3          1            2   \n",
       "2             33.3                2              5          4            1   \n",
       "3             50.0                1              6          6            0   \n",
       "4             75.0                2              5          5            0   \n",
       "\n",
       "   Int  Tkl+Int  Clr  Err  \n",
       "0    1        3    0    0  \n",
       "1    2        6    7    0  \n",
       "2    6        7   13    0  \n",
       "3    4        6   22    0  \n",
       "4    7       15   16    0  \n",
       "\n",
       "[5 rows x 22 columns]"
      ]
     },
     "execution_count": 5,
     "metadata": {},
     "output_type": "execute_result"
    }
   ],
   "source": [
    "# joining multiple index levels\n",
    "df_def.columns = ['_'.join(col) if 'Unnamed' not in col[0] else col[1] for col in df_def.columns]\n",
    "\n",
    "# getting rid of columns of no significance\n",
    "df_def = df_def.drop(columns=['Rk', 'Matches'])\n",
    "\n",
    "# removing country emojis\n",
    "df_def['Squad'] = df_def['Squad'].str[3:]\n",
    "\n",
    "# index 25 contains no data\n",
    "df_def = df_def.drop(index=25)\n",
    "df_def = df_def.reset_index(drop=True)\n",
    "\n",
    "# handling fully empty rows\n",
    "df_def = df_def[df_def['Squad'] != 'ad']\n",
    "\n",
    "# type conversion\n",
    "columns_to_exclude = ['Player', 'Squad', 'Pos']\n",
    "columns_to_convert = [col for col in df_def.columns if col not in columns_to_exclude]\n",
    "df_def[columns_to_convert] = df_def[columns_to_convert].apply(pd.to_numeric, errors='coerce')\n",
    "\n",
    "df_def.head()"
   ]
  },
  {
   "cell_type": "code",
   "execution_count": 44,
   "id": "86fea607",
   "metadata": {},
   "outputs": [
    {
     "data": {
      "application/vnd.plotly.v1+json": {
       "config": {
        "plotlyServerURL": "https://plot.ly"
       },
       "data": [
        {
         "branchvalues": "total",
         "customdata": [
          [
           6,
           4,
           5,
           5,
           "Georgia"
          ],
          [
           0,
           0,
           0,
           3,
           "Georgia"
          ],
          [
           4,
           2,
           1,
           17,
           "Georgia"
          ],
          [
           4,
           3,
           0,
           3,
           "Georgia"
          ],
          [
           12,
           3,
           4,
           8,
           "Georgia"
          ],
          [
           0,
           0,
           1,
           0,
           "Georgia"
          ],
          [
           4,
           1,
           3,
           11,
           "Georgia"
          ],
          [
           8,
           6,
           1,
           24,
           "Georgia"
          ],
          [
           4,
           2,
           0,
           2,
           "Georgia"
          ],
          [
           5,
           0,
           0,
           3,
           "Georgia"
          ],
          [
           7,
           13,
           1,
           31,
           "Georgia"
          ],
          [
           0,
           0,
           0,
           2,
           "Georgia"
          ],
          [
           0,
           0,
           0,
           0,
           "Georgia"
          ],
          [
           9,
           6,
           5,
           6,
           "Georgia"
          ],
          [
           3,
           3,
           2,
           15,
           "Georgia"
          ],
          [
           10,
           7,
           1,
           3,
           "Georgia"
          ],
          [
           3,
           0,
           0,
           0,
           "Georgia"
          ],
          [
           0,
           0,
           0,
           0,
           "Georgia"
          ],
          [
           0,
           0,
           0,
           3,
           "Georgia"
          ],
          [
           4,
           3,
           0,
           1,
           "Georgia"
          ],
          [
           "(?)",
           "(?)",
           "(?)",
           "(?)",
           "Georgia"
          ]
         ],
         "domain": {
          "x": [
           0,
           1
          ],
          "y": [
           0,
           1
          ]
         },
         "hovertemplate": "labels=%{label}<br>Total_Def_Actions=%{value}<br>parent=%{parent}<br>id=%{id}<br>Tackles_Tkl=%{customdata[0]}<br>Blocks_Blocks=%{customdata[1]}<br>Int=%{customdata[2]}<br>Clr=%{customdata[3]}<br>Squad=%{customdata[4]}<extra></extra>",
         "ids": [
          "Georgia/Anzor Mekvabishvili",
          "Georgia/Saba Lobzhanidze",
          "Georgia/Saba Kvirkvelia",
          "Georgia/Otar Kiteishvili",
          "Georgia/Otar Kakabadze",
          "Georgia/Nika Kvekveskiri",
          "Georgia/Luka Lochoshvili",
          "Georgia/Lasha Dvali",
          "Georgia/Khvicha Kvaratskhelia",
          "Georgia/Heorhii Tsitaishvili",
          "Georgia/Guram Kashia",
          "Georgia/Giorgi Mamardashvili",
          "Georgia/Giorgi Kvilitaia",
          "Georgia/Giorgi Kochorashvili",
          "Georgia/Giorgi Gwelesiani",
          "Georgia/Giorgi Chakvetadze",
          "Georgia/Georges Mikautadze",
          "Georgia/Budu Zivzivadze",
          "Georgia/Sandro Altunashvili",
          "Georgia/Zuriko Davitashvili",
          "Georgia"
         ],
         "labels": [
          "Anzor Mekvabishvili",
          "Saba Lobzhanidze",
          "Saba Kvirkvelia",
          "Otar Kiteishvili",
          "Otar Kakabadze",
          "Nika Kvekveskiri",
          "Luka Lochoshvili",
          "Lasha Dvali",
          "Khvicha Kvaratskhelia",
          "Heorhii Tsitaishvili",
          "Guram Kashia",
          "Giorgi Mamardashvili",
          "Giorgi Kvilitaia",
          "Giorgi Kochorashvili",
          "Giorgi Gwelesiani",
          "Giorgi Chakvetadze",
          "Georges Mikautadze",
          "Budu Zivzivadze",
          "Sandro Altunashvili",
          "Zuriko Davitashvili",
          "Georgia"
         ],
         "marker": {
          "colors": [
           "#329952",
           "#329952",
           "#329952",
           "#329952",
           "#329952",
           "#329952",
           "#329952",
           "#329952",
           "#329952",
           "#329952",
           "#329952",
           "#329952",
           "#329952",
           "#329952",
           "#329952",
           "#329952",
           "#329952",
           "#329952",
           "#329952",
           "#329952",
           "#329952"
          ]
         },
         "name": "",
         "parents": [
          "Georgia",
          "Georgia",
          "Georgia",
          "Georgia",
          "Georgia",
          "Georgia",
          "Georgia",
          "Georgia",
          "Georgia",
          "Georgia",
          "Georgia",
          "Georgia",
          "Georgia",
          "Georgia",
          "Georgia",
          "Georgia",
          "Georgia",
          "Georgia",
          "Georgia",
          "Georgia",
          ""
         ],
         "textinfo": "label+value+percent entry",
         "type": "treemap",
         "values": [
          20,
          3,
          24,
          10,
          27,
          1,
          19,
          39,
          8,
          8,
          52,
          2,
          0,
          26,
          23,
          21,
          3,
          0,
          3,
          8,
          297
         ]
        }
       ],
       "layout": {
        "legend": {
         "tracegroupgap": 0
        },
        "template": {
         "data": {
          "bar": [
           {
            "error_x": {
             "color": "#2a3f5f"
            },
            "error_y": {
             "color": "#2a3f5f"
            },
            "marker": {
             "line": {
              "color": "#E5ECF6",
              "width": 0.5
             },
             "pattern": {
              "fillmode": "overlay",
              "size": 10,
              "solidity": 0.2
             }
            },
            "type": "bar"
           }
          ],
          "barpolar": [
           {
            "marker": {
             "line": {
              "color": "#E5ECF6",
              "width": 0.5
             },
             "pattern": {
              "fillmode": "overlay",
              "size": 10,
              "solidity": 0.2
             }
            },
            "type": "barpolar"
           }
          ],
          "carpet": [
           {
            "aaxis": {
             "endlinecolor": "#2a3f5f",
             "gridcolor": "white",
             "linecolor": "white",
             "minorgridcolor": "white",
             "startlinecolor": "#2a3f5f"
            },
            "baxis": {
             "endlinecolor": "#2a3f5f",
             "gridcolor": "white",
             "linecolor": "white",
             "minorgridcolor": "white",
             "startlinecolor": "#2a3f5f"
            },
            "type": "carpet"
           }
          ],
          "choropleth": [
           {
            "colorbar": {
             "outlinewidth": 0,
             "ticks": ""
            },
            "type": "choropleth"
           }
          ],
          "contour": [
           {
            "colorbar": {
             "outlinewidth": 0,
             "ticks": ""
            },
            "colorscale": [
             [
              0,
              "#0d0887"
             ],
             [
              0.1111111111111111,
              "#46039f"
             ],
             [
              0.2222222222222222,
              "#7201a8"
             ],
             [
              0.3333333333333333,
              "#9c179e"
             ],
             [
              0.4444444444444444,
              "#bd3786"
             ],
             [
              0.5555555555555556,
              "#d8576b"
             ],
             [
              0.6666666666666666,
              "#ed7953"
             ],
             [
              0.7777777777777778,
              "#fb9f3a"
             ],
             [
              0.8888888888888888,
              "#fdca26"
             ],
             [
              1,
              "#f0f921"
             ]
            ],
            "type": "contour"
           }
          ],
          "contourcarpet": [
           {
            "colorbar": {
             "outlinewidth": 0,
             "ticks": ""
            },
            "type": "contourcarpet"
           }
          ],
          "heatmap": [
           {
            "colorbar": {
             "outlinewidth": 0,
             "ticks": ""
            },
            "colorscale": [
             [
              0,
              "#0d0887"
             ],
             [
              0.1111111111111111,
              "#46039f"
             ],
             [
              0.2222222222222222,
              "#7201a8"
             ],
             [
              0.3333333333333333,
              "#9c179e"
             ],
             [
              0.4444444444444444,
              "#bd3786"
             ],
             [
              0.5555555555555556,
              "#d8576b"
             ],
             [
              0.6666666666666666,
              "#ed7953"
             ],
             [
              0.7777777777777778,
              "#fb9f3a"
             ],
             [
              0.8888888888888888,
              "#fdca26"
             ],
             [
              1,
              "#f0f921"
             ]
            ],
            "type": "heatmap"
           }
          ],
          "heatmapgl": [
           {
            "colorbar": {
             "outlinewidth": 0,
             "ticks": ""
            },
            "colorscale": [
             [
              0,
              "#0d0887"
             ],
             [
              0.1111111111111111,
              "#46039f"
             ],
             [
              0.2222222222222222,
              "#7201a8"
             ],
             [
              0.3333333333333333,
              "#9c179e"
             ],
             [
              0.4444444444444444,
              "#bd3786"
             ],
             [
              0.5555555555555556,
              "#d8576b"
             ],
             [
              0.6666666666666666,
              "#ed7953"
             ],
             [
              0.7777777777777778,
              "#fb9f3a"
             ],
             [
              0.8888888888888888,
              "#fdca26"
             ],
             [
              1,
              "#f0f921"
             ]
            ],
            "type": "heatmapgl"
           }
          ],
          "histogram": [
           {
            "marker": {
             "pattern": {
              "fillmode": "overlay",
              "size": 10,
              "solidity": 0.2
             }
            },
            "type": "histogram"
           }
          ],
          "histogram2d": [
           {
            "colorbar": {
             "outlinewidth": 0,
             "ticks": ""
            },
            "colorscale": [
             [
              0,
              "#0d0887"
             ],
             [
              0.1111111111111111,
              "#46039f"
             ],
             [
              0.2222222222222222,
              "#7201a8"
             ],
             [
              0.3333333333333333,
              "#9c179e"
             ],
             [
              0.4444444444444444,
              "#bd3786"
             ],
             [
              0.5555555555555556,
              "#d8576b"
             ],
             [
              0.6666666666666666,
              "#ed7953"
             ],
             [
              0.7777777777777778,
              "#fb9f3a"
             ],
             [
              0.8888888888888888,
              "#fdca26"
             ],
             [
              1,
              "#f0f921"
             ]
            ],
            "type": "histogram2d"
           }
          ],
          "histogram2dcontour": [
           {
            "colorbar": {
             "outlinewidth": 0,
             "ticks": ""
            },
            "colorscale": [
             [
              0,
              "#0d0887"
             ],
             [
              0.1111111111111111,
              "#46039f"
             ],
             [
              0.2222222222222222,
              "#7201a8"
             ],
             [
              0.3333333333333333,
              "#9c179e"
             ],
             [
              0.4444444444444444,
              "#bd3786"
             ],
             [
              0.5555555555555556,
              "#d8576b"
             ],
             [
              0.6666666666666666,
              "#ed7953"
             ],
             [
              0.7777777777777778,
              "#fb9f3a"
             ],
             [
              0.8888888888888888,
              "#fdca26"
             ],
             [
              1,
              "#f0f921"
             ]
            ],
            "type": "histogram2dcontour"
           }
          ],
          "mesh3d": [
           {
            "colorbar": {
             "outlinewidth": 0,
             "ticks": ""
            },
            "type": "mesh3d"
           }
          ],
          "parcoords": [
           {
            "line": {
             "colorbar": {
              "outlinewidth": 0,
              "ticks": ""
             }
            },
            "type": "parcoords"
           }
          ],
          "pie": [
           {
            "automargin": true,
            "type": "pie"
           }
          ],
          "scatter": [
           {
            "fillpattern": {
             "fillmode": "overlay",
             "size": 10,
             "solidity": 0.2
            },
            "type": "scatter"
           }
          ],
          "scatter3d": [
           {
            "line": {
             "colorbar": {
              "outlinewidth": 0,
              "ticks": ""
             }
            },
            "marker": {
             "colorbar": {
              "outlinewidth": 0,
              "ticks": ""
             }
            },
            "type": "scatter3d"
           }
          ],
          "scattercarpet": [
           {
            "marker": {
             "colorbar": {
              "outlinewidth": 0,
              "ticks": ""
             }
            },
            "type": "scattercarpet"
           }
          ],
          "scattergeo": [
           {
            "marker": {
             "colorbar": {
              "outlinewidth": 0,
              "ticks": ""
             }
            },
            "type": "scattergeo"
           }
          ],
          "scattergl": [
           {
            "marker": {
             "colorbar": {
              "outlinewidth": 0,
              "ticks": ""
             }
            },
            "type": "scattergl"
           }
          ],
          "scattermapbox": [
           {
            "marker": {
             "colorbar": {
              "outlinewidth": 0,
              "ticks": ""
             }
            },
            "type": "scattermapbox"
           }
          ],
          "scatterpolar": [
           {
            "marker": {
             "colorbar": {
              "outlinewidth": 0,
              "ticks": ""
             }
            },
            "type": "scatterpolar"
           }
          ],
          "scatterpolargl": [
           {
            "marker": {
             "colorbar": {
              "outlinewidth": 0,
              "ticks": ""
             }
            },
            "type": "scatterpolargl"
           }
          ],
          "scatterternary": [
           {
            "marker": {
             "colorbar": {
              "outlinewidth": 0,
              "ticks": ""
             }
            },
            "type": "scatterternary"
           }
          ],
          "surface": [
           {
            "colorbar": {
             "outlinewidth": 0,
             "ticks": ""
            },
            "colorscale": [
             [
              0,
              "#0d0887"
             ],
             [
              0.1111111111111111,
              "#46039f"
             ],
             [
              0.2222222222222222,
              "#7201a8"
             ],
             [
              0.3333333333333333,
              "#9c179e"
             ],
             [
              0.4444444444444444,
              "#bd3786"
             ],
             [
              0.5555555555555556,
              "#d8576b"
             ],
             [
              0.6666666666666666,
              "#ed7953"
             ],
             [
              0.7777777777777778,
              "#fb9f3a"
             ],
             [
              0.8888888888888888,
              "#fdca26"
             ],
             [
              1,
              "#f0f921"
             ]
            ],
            "type": "surface"
           }
          ],
          "table": [
           {
            "cells": {
             "fill": {
              "color": "#EBF0F8"
             },
             "line": {
              "color": "white"
             }
            },
            "header": {
             "fill": {
              "color": "#C8D4E3"
             },
             "line": {
              "color": "white"
             }
            },
            "type": "table"
           }
          ]
         },
         "layout": {
          "annotationdefaults": {
           "arrowcolor": "#2a3f5f",
           "arrowhead": 0,
           "arrowwidth": 1
          },
          "autotypenumbers": "strict",
          "coloraxis": {
           "colorbar": {
            "outlinewidth": 0,
            "ticks": ""
           }
          },
          "colorscale": {
           "diverging": [
            [
             0,
             "#8e0152"
            ],
            [
             0.1,
             "#c51b7d"
            ],
            [
             0.2,
             "#de77ae"
            ],
            [
             0.3,
             "#f1b6da"
            ],
            [
             0.4,
             "#fde0ef"
            ],
            [
             0.5,
             "#f7f7f7"
            ],
            [
             0.6,
             "#e6f5d0"
            ],
            [
             0.7,
             "#b8e186"
            ],
            [
             0.8,
             "#7fbc41"
            ],
            [
             0.9,
             "#4d9221"
            ],
            [
             1,
             "#276419"
            ]
           ],
           "sequential": [
            [
             0,
             "#0d0887"
            ],
            [
             0.1111111111111111,
             "#46039f"
            ],
            [
             0.2222222222222222,
             "#7201a8"
            ],
            [
             0.3333333333333333,
             "#9c179e"
            ],
            [
             0.4444444444444444,
             "#bd3786"
            ],
            [
             0.5555555555555556,
             "#d8576b"
            ],
            [
             0.6666666666666666,
             "#ed7953"
            ],
            [
             0.7777777777777778,
             "#fb9f3a"
            ],
            [
             0.8888888888888888,
             "#fdca26"
            ],
            [
             1,
             "#f0f921"
            ]
           ],
           "sequentialminus": [
            [
             0,
             "#0d0887"
            ],
            [
             0.1111111111111111,
             "#46039f"
            ],
            [
             0.2222222222222222,
             "#7201a8"
            ],
            [
             0.3333333333333333,
             "#9c179e"
            ],
            [
             0.4444444444444444,
             "#bd3786"
            ],
            [
             0.5555555555555556,
             "#d8576b"
            ],
            [
             0.6666666666666666,
             "#ed7953"
            ],
            [
             0.7777777777777778,
             "#fb9f3a"
            ],
            [
             0.8888888888888888,
             "#fdca26"
            ],
            [
             1,
             "#f0f921"
            ]
           ]
          },
          "colorway": [
           "#636efa",
           "#EF553B",
           "#00cc96",
           "#ab63fa",
           "#FFA15A",
           "#19d3f3",
           "#FF6692",
           "#B6E880",
           "#FF97FF",
           "#FECB52"
          ],
          "font": {
           "color": "#2a3f5f"
          },
          "geo": {
           "bgcolor": "white",
           "lakecolor": "white",
           "landcolor": "#E5ECF6",
           "showlakes": true,
           "showland": true,
           "subunitcolor": "white"
          },
          "hoverlabel": {
           "align": "left"
          },
          "hovermode": "closest",
          "mapbox": {
           "style": "light"
          },
          "paper_bgcolor": "white",
          "plot_bgcolor": "#E5ECF6",
          "polar": {
           "angularaxis": {
            "gridcolor": "white",
            "linecolor": "white",
            "ticks": ""
           },
           "bgcolor": "#E5ECF6",
           "radialaxis": {
            "gridcolor": "white",
            "linecolor": "white",
            "ticks": ""
           }
          },
          "scene": {
           "xaxis": {
            "backgroundcolor": "#E5ECF6",
            "gridcolor": "white",
            "gridwidth": 2,
            "linecolor": "white",
            "showbackground": true,
            "ticks": "",
            "zerolinecolor": "white"
           },
           "yaxis": {
            "backgroundcolor": "#E5ECF6",
            "gridcolor": "white",
            "gridwidth": 2,
            "linecolor": "white",
            "showbackground": true,
            "ticks": "",
            "zerolinecolor": "white"
           },
           "zaxis": {
            "backgroundcolor": "#E5ECF6",
            "gridcolor": "white",
            "gridwidth": 2,
            "linecolor": "white",
            "showbackground": true,
            "ticks": "",
            "zerolinecolor": "white"
           }
          },
          "shapedefaults": {
           "line": {
            "color": "#2a3f5f"
           }
          },
          "ternary": {
           "aaxis": {
            "gridcolor": "white",
            "linecolor": "white",
            "ticks": ""
           },
           "baxis": {
            "gridcolor": "white",
            "linecolor": "white",
            "ticks": ""
           },
           "bgcolor": "#E5ECF6",
           "caxis": {
            "gridcolor": "white",
            "linecolor": "white",
            "ticks": ""
           }
          },
          "title": {
           "x": 0.05
          },
          "xaxis": {
           "automargin": true,
           "gridcolor": "white",
           "linecolor": "white",
           "ticks": "",
           "title": {
            "standoff": 15
           },
           "zerolinecolor": "white",
           "zerolinewidth": 2
          },
          "yaxis": {
           "automargin": true,
           "gridcolor": "white",
           "linecolor": "white",
           "ticks": "",
           "title": {
            "standoff": 15
           },
           "zerolinecolor": "white",
           "zerolinewidth": 2
          }
         }
        },
        "title": {
         "text": "Georgian Players with Most Total Defensive Actions"
        }
       }
      }
     },
     "metadata": {},
     "output_type": "display_data"
    }
   ],
   "source": [
    "df_georgia = df_def[df_def['Squad'] == 'Georgia'].copy()\n",
    "df_georgia['Total_Def_Actions'] = df_georgia['Tackles_Tkl'] + df_georgia['Blocks_Blocks'] + df_georgia['Int'] + df_georgia['Clr']\n",
    "\n",
    "# plotting TREEMAP\n",
    "def_fig1 = px.treemap(df_georgia, path=['Squad', 'Player'], values='Total_Def_Actions',\n",
    "                  title='Georgian Players with Most Total Defensive Actions',\n",
    "                  color='Squad',\n",
    "                  color_discrete_map={'Georgia': '#329952'},\n",
    "                  hover_data={'Tackles_Tkl': True, 'Blocks_Blocks': True, 'Int': True, 'Clr': True})\n",
    "\n",
    "def_fig1.update_traces(textinfo='label+value+percent entry')\n",
    "\n",
    "def_fig1.show()\n",
    "def_fig1.write_html(\"def_fig1.html\")"
   ]
  },
  {
   "cell_type": "code",
   "execution_count": 45,
   "id": "04e07115",
   "metadata": {},
   "outputs": [
    {
     "data": {
      "application/vnd.plotly.v1+json": {
       "config": {
        "plotlyServerURL": "https://plot.ly"
       },
       "data": [
        {
         "hovertemplate": "Pitch Third=%{x}<br>Team=%{y}<extra></extra>",
         "legendgroup": "",
         "marker": {
          "color": [
           "#32e63e",
           "#2c67c7",
           "#2c67c7",
           "#2c67c7",
           "#2c67c7",
           "#2c67c7",
           "#2c67c7",
           "#2c67c7",
           "#2c67c7",
           "#2c67c7",
           "#2c67c7",
           "#2c67c7",
           "#2c67c7",
           "#2c67c7",
           "#2c67c7",
           "#2c67c7",
           "#2c67c7",
           "#2c67c7",
           "#2c67c7",
           "#2c67c7",
           "#2c67c7",
           "#2c67c7",
           "#2c67c7",
           "#2c67c7"
          ],
          "line": {
           "color": "DarkSlateGrey",
           "width": 1
          },
          "size": 10,
          "symbol": "circle"
         },
         "mode": "markers",
         "name": "",
         "orientation": "h",
         "showlegend": false,
         "type": "scatter",
         "x": [
          0.19363662131519274,
          0.19722222222222224,
          0.20253357753357754,
          0.24252460502460502,
          0.24927248677248676,
          0.2619047619047619,
          0.2725694444444445,
          0.2851107226107226,
          0.29845679012345677,
          0.29931972789115646,
          0.31354166666666666,
          0.32868589743589743,
          0.33316326530612245,
          0.335437859354268,
          0.35148809523809527,
          0.35964506172839505,
          0.368218954248366,
          0.3776098901098901,
          0.3943452380952381,
          0.40888888888888886,
          0.42358630952380955,
          0.42428300865800866,
          0.44420426065162905,
          0.44611111111111107
         ],
         "xaxis": "x",
         "y": [
          "Georgia",
          " Scotland",
          "Romania",
          "Slovenia",
          "Netherlands",
          "Hungary",
          "Croatia",
          "Serbia",
          "Türkiye",
          "Poland",
          "Czechia",
          "Italy",
          "Slovakia",
          " England",
          "Ukraine",
          "Portugal",
          "France",
          "Switzerland",
          "Albania",
          "Denmark",
          "Austria",
          "Spain",
          "Germany",
          "Belgium"
         ],
         "yaxis": "y"
        }
       ],
       "layout": {
        "annotations": [
         {
          "font": {
           "color": "black",
           "size": 12
          },
          "showarrow": false,
          "text": "Def 3rd",
          "x": 0.165,
          "xref": "x",
          "y": -0.05,
          "yref": "y"
         },
         {
          "font": {
           "color": "black",
           "size": 12
          },
          "showarrow": false,
          "text": "Mid 3rd",
          "x": 0.5,
          "xref": "x",
          "y": -0.05,
          "yref": "y"
         },
         {
          "font": {
           "color": "black",
           "size": 12
          },
          "showarrow": false,
          "text": "Att 3rd",
          "x": 0.835,
          "xref": "x",
          "y": -0.05,
          "yref": "y"
         }
        ],
        "height": 800,
        "legend": {
         "tracegroupgap": 0
        },
        "margin": {
         "l": 200
        },
        "shapes": [
         {
          "fillcolor": "rgba(255, 0, 0, 0.2)",
          "line": {
           "color": "rgba(255, 0, 0, 0)"
          },
          "type": "rect",
          "x0": 0,
          "x1": 0.33,
          "y0": -0.5,
          "y1": 23.5
         },
         {
          "fillcolor": "rgba(255, 165, 0, 0.2)",
          "line": {
           "color": "rgba(255, 165, 0, 0)"
          },
          "type": "rect",
          "x0": 0.33,
          "x1": 0.67,
          "y0": -0.5,
          "y1": 23.5
         },
         {
          "fillcolor": "rgba(0, 0, 255, 0.2)",
          "line": {
           "color": "rgba(0, 0, 255, 0)"
          },
          "type": "rect",
          "x0": 0.67,
          "x1": 1,
          "y0": -0.5,
          "y1": 23.5
         }
        ],
        "template": {
         "data": {
          "bar": [
           {
            "error_x": {
             "color": "#2a3f5f"
            },
            "error_y": {
             "color": "#2a3f5f"
            },
            "marker": {
             "line": {
              "color": "#E5ECF6",
              "width": 0.5
             },
             "pattern": {
              "fillmode": "overlay",
              "size": 10,
              "solidity": 0.2
             }
            },
            "type": "bar"
           }
          ],
          "barpolar": [
           {
            "marker": {
             "line": {
              "color": "#E5ECF6",
              "width": 0.5
             },
             "pattern": {
              "fillmode": "overlay",
              "size": 10,
              "solidity": 0.2
             }
            },
            "type": "barpolar"
           }
          ],
          "carpet": [
           {
            "aaxis": {
             "endlinecolor": "#2a3f5f",
             "gridcolor": "white",
             "linecolor": "white",
             "minorgridcolor": "white",
             "startlinecolor": "#2a3f5f"
            },
            "baxis": {
             "endlinecolor": "#2a3f5f",
             "gridcolor": "white",
             "linecolor": "white",
             "minorgridcolor": "white",
             "startlinecolor": "#2a3f5f"
            },
            "type": "carpet"
           }
          ],
          "choropleth": [
           {
            "colorbar": {
             "outlinewidth": 0,
             "ticks": ""
            },
            "type": "choropleth"
           }
          ],
          "contour": [
           {
            "colorbar": {
             "outlinewidth": 0,
             "ticks": ""
            },
            "colorscale": [
             [
              0,
              "#0d0887"
             ],
             [
              0.1111111111111111,
              "#46039f"
             ],
             [
              0.2222222222222222,
              "#7201a8"
             ],
             [
              0.3333333333333333,
              "#9c179e"
             ],
             [
              0.4444444444444444,
              "#bd3786"
             ],
             [
              0.5555555555555556,
              "#d8576b"
             ],
             [
              0.6666666666666666,
              "#ed7953"
             ],
             [
              0.7777777777777778,
              "#fb9f3a"
             ],
             [
              0.8888888888888888,
              "#fdca26"
             ],
             [
              1,
              "#f0f921"
             ]
            ],
            "type": "contour"
           }
          ],
          "contourcarpet": [
           {
            "colorbar": {
             "outlinewidth": 0,
             "ticks": ""
            },
            "type": "contourcarpet"
           }
          ],
          "heatmap": [
           {
            "colorbar": {
             "outlinewidth": 0,
             "ticks": ""
            },
            "colorscale": [
             [
              0,
              "#0d0887"
             ],
             [
              0.1111111111111111,
              "#46039f"
             ],
             [
              0.2222222222222222,
              "#7201a8"
             ],
             [
              0.3333333333333333,
              "#9c179e"
             ],
             [
              0.4444444444444444,
              "#bd3786"
             ],
             [
              0.5555555555555556,
              "#d8576b"
             ],
             [
              0.6666666666666666,
              "#ed7953"
             ],
             [
              0.7777777777777778,
              "#fb9f3a"
             ],
             [
              0.8888888888888888,
              "#fdca26"
             ],
             [
              1,
              "#f0f921"
             ]
            ],
            "type": "heatmap"
           }
          ],
          "heatmapgl": [
           {
            "colorbar": {
             "outlinewidth": 0,
             "ticks": ""
            },
            "colorscale": [
             [
              0,
              "#0d0887"
             ],
             [
              0.1111111111111111,
              "#46039f"
             ],
             [
              0.2222222222222222,
              "#7201a8"
             ],
             [
              0.3333333333333333,
              "#9c179e"
             ],
             [
              0.4444444444444444,
              "#bd3786"
             ],
             [
              0.5555555555555556,
              "#d8576b"
             ],
             [
              0.6666666666666666,
              "#ed7953"
             ],
             [
              0.7777777777777778,
              "#fb9f3a"
             ],
             [
              0.8888888888888888,
              "#fdca26"
             ],
             [
              1,
              "#f0f921"
             ]
            ],
            "type": "heatmapgl"
           }
          ],
          "histogram": [
           {
            "marker": {
             "pattern": {
              "fillmode": "overlay",
              "size": 10,
              "solidity": 0.2
             }
            },
            "type": "histogram"
           }
          ],
          "histogram2d": [
           {
            "colorbar": {
             "outlinewidth": 0,
             "ticks": ""
            },
            "colorscale": [
             [
              0,
              "#0d0887"
             ],
             [
              0.1111111111111111,
              "#46039f"
             ],
             [
              0.2222222222222222,
              "#7201a8"
             ],
             [
              0.3333333333333333,
              "#9c179e"
             ],
             [
              0.4444444444444444,
              "#bd3786"
             ],
             [
              0.5555555555555556,
              "#d8576b"
             ],
             [
              0.6666666666666666,
              "#ed7953"
             ],
             [
              0.7777777777777778,
              "#fb9f3a"
             ],
             [
              0.8888888888888888,
              "#fdca26"
             ],
             [
              1,
              "#f0f921"
             ]
            ],
            "type": "histogram2d"
           }
          ],
          "histogram2dcontour": [
           {
            "colorbar": {
             "outlinewidth": 0,
             "ticks": ""
            },
            "colorscale": [
             [
              0,
              "#0d0887"
             ],
             [
              0.1111111111111111,
              "#46039f"
             ],
             [
              0.2222222222222222,
              "#7201a8"
             ],
             [
              0.3333333333333333,
              "#9c179e"
             ],
             [
              0.4444444444444444,
              "#bd3786"
             ],
             [
              0.5555555555555556,
              "#d8576b"
             ],
             [
              0.6666666666666666,
              "#ed7953"
             ],
             [
              0.7777777777777778,
              "#fb9f3a"
             ],
             [
              0.8888888888888888,
              "#fdca26"
             ],
             [
              1,
              "#f0f921"
             ]
            ],
            "type": "histogram2dcontour"
           }
          ],
          "mesh3d": [
           {
            "colorbar": {
             "outlinewidth": 0,
             "ticks": ""
            },
            "type": "mesh3d"
           }
          ],
          "parcoords": [
           {
            "line": {
             "colorbar": {
              "outlinewidth": 0,
              "ticks": ""
             }
            },
            "type": "parcoords"
           }
          ],
          "pie": [
           {
            "automargin": true,
            "type": "pie"
           }
          ],
          "scatter": [
           {
            "fillpattern": {
             "fillmode": "overlay",
             "size": 10,
             "solidity": 0.2
            },
            "type": "scatter"
           }
          ],
          "scatter3d": [
           {
            "line": {
             "colorbar": {
              "outlinewidth": 0,
              "ticks": ""
             }
            },
            "marker": {
             "colorbar": {
              "outlinewidth": 0,
              "ticks": ""
             }
            },
            "type": "scatter3d"
           }
          ],
          "scattercarpet": [
           {
            "marker": {
             "colorbar": {
              "outlinewidth": 0,
              "ticks": ""
             }
            },
            "type": "scattercarpet"
           }
          ],
          "scattergeo": [
           {
            "marker": {
             "colorbar": {
              "outlinewidth": 0,
              "ticks": ""
             }
            },
            "type": "scattergeo"
           }
          ],
          "scattergl": [
           {
            "marker": {
             "colorbar": {
              "outlinewidth": 0,
              "ticks": ""
             }
            },
            "type": "scattergl"
           }
          ],
          "scattermapbox": [
           {
            "marker": {
             "colorbar": {
              "outlinewidth": 0,
              "ticks": ""
             }
            },
            "type": "scattermapbox"
           }
          ],
          "scatterpolar": [
           {
            "marker": {
             "colorbar": {
              "outlinewidth": 0,
              "ticks": ""
             }
            },
            "type": "scatterpolar"
           }
          ],
          "scatterpolargl": [
           {
            "marker": {
             "colorbar": {
              "outlinewidth": 0,
              "ticks": ""
             }
            },
            "type": "scatterpolargl"
           }
          ],
          "scatterternary": [
           {
            "marker": {
             "colorbar": {
              "outlinewidth": 0,
              "ticks": ""
             }
            },
            "type": "scatterternary"
           }
          ],
          "surface": [
           {
            "colorbar": {
             "outlinewidth": 0,
             "ticks": ""
            },
            "colorscale": [
             [
              0,
              "#0d0887"
             ],
             [
              0.1111111111111111,
              "#46039f"
             ],
             [
              0.2222222222222222,
              "#7201a8"
             ],
             [
              0.3333333333333333,
              "#9c179e"
             ],
             [
              0.4444444444444444,
              "#bd3786"
             ],
             [
              0.5555555555555556,
              "#d8576b"
             ],
             [
              0.6666666666666666,
              "#ed7953"
             ],
             [
              0.7777777777777778,
              "#fb9f3a"
             ],
             [
              0.8888888888888888,
              "#fdca26"
             ],
             [
              1,
              "#f0f921"
             ]
            ],
            "type": "surface"
           }
          ],
          "table": [
           {
            "cells": {
             "fill": {
              "color": "#EBF0F8"
             },
             "line": {
              "color": "white"
             }
            },
            "header": {
             "fill": {
              "color": "#C8D4E3"
             },
             "line": {
              "color": "white"
             }
            },
            "type": "table"
           }
          ]
         },
         "layout": {
          "annotationdefaults": {
           "arrowcolor": "#2a3f5f",
           "arrowhead": 0,
           "arrowwidth": 1
          },
          "autotypenumbers": "strict",
          "coloraxis": {
           "colorbar": {
            "outlinewidth": 0,
            "ticks": ""
           }
          },
          "colorscale": {
           "diverging": [
            [
             0,
             "#8e0152"
            ],
            [
             0.1,
             "#c51b7d"
            ],
            [
             0.2,
             "#de77ae"
            ],
            [
             0.3,
             "#f1b6da"
            ],
            [
             0.4,
             "#fde0ef"
            ],
            [
             0.5,
             "#f7f7f7"
            ],
            [
             0.6,
             "#e6f5d0"
            ],
            [
             0.7,
             "#b8e186"
            ],
            [
             0.8,
             "#7fbc41"
            ],
            [
             0.9,
             "#4d9221"
            ],
            [
             1,
             "#276419"
            ]
           ],
           "sequential": [
            [
             0,
             "#0d0887"
            ],
            [
             0.1111111111111111,
             "#46039f"
            ],
            [
             0.2222222222222222,
             "#7201a8"
            ],
            [
             0.3333333333333333,
             "#9c179e"
            ],
            [
             0.4444444444444444,
             "#bd3786"
            ],
            [
             0.5555555555555556,
             "#d8576b"
            ],
            [
             0.6666666666666666,
             "#ed7953"
            ],
            [
             0.7777777777777778,
             "#fb9f3a"
            ],
            [
             0.8888888888888888,
             "#fdca26"
            ],
            [
             1,
             "#f0f921"
            ]
           ],
           "sequentialminus": [
            [
             0,
             "#0d0887"
            ],
            [
             0.1111111111111111,
             "#46039f"
            ],
            [
             0.2222222222222222,
             "#7201a8"
            ],
            [
             0.3333333333333333,
             "#9c179e"
            ],
            [
             0.4444444444444444,
             "#bd3786"
            ],
            [
             0.5555555555555556,
             "#d8576b"
            ],
            [
             0.6666666666666666,
             "#ed7953"
            ],
            [
             0.7777777777777778,
             "#fb9f3a"
            ],
            [
             0.8888888888888888,
             "#fdca26"
            ],
            [
             1,
             "#f0f921"
            ]
           ]
          },
          "colorway": [
           "#636efa",
           "#EF553B",
           "#00cc96",
           "#ab63fa",
           "#FFA15A",
           "#19d3f3",
           "#FF6692",
           "#B6E880",
           "#FF97FF",
           "#FECB52"
          ],
          "font": {
           "color": "#2a3f5f"
          },
          "geo": {
           "bgcolor": "white",
           "lakecolor": "white",
           "landcolor": "#E5ECF6",
           "showlakes": true,
           "showland": true,
           "subunitcolor": "white"
          },
          "hoverlabel": {
           "align": "left"
          },
          "hovermode": "closest",
          "mapbox": {
           "style": "light"
          },
          "paper_bgcolor": "white",
          "plot_bgcolor": "#E5ECF6",
          "polar": {
           "angularaxis": {
            "gridcolor": "white",
            "linecolor": "white",
            "ticks": ""
           },
           "bgcolor": "#E5ECF6",
           "radialaxis": {
            "gridcolor": "white",
            "linecolor": "white",
            "ticks": ""
           }
          },
          "scene": {
           "xaxis": {
            "backgroundcolor": "#E5ECF6",
            "gridcolor": "white",
            "gridwidth": 2,
            "linecolor": "white",
            "showbackground": true,
            "ticks": "",
            "zerolinecolor": "white"
           },
           "yaxis": {
            "backgroundcolor": "#E5ECF6",
            "gridcolor": "white",
            "gridwidth": 2,
            "linecolor": "white",
            "showbackground": true,
            "ticks": "",
            "zerolinecolor": "white"
           },
           "zaxis": {
            "backgroundcolor": "#E5ECF6",
            "gridcolor": "white",
            "gridwidth": 2,
            "linecolor": "white",
            "showbackground": true,
            "ticks": "",
            "zerolinecolor": "white"
           }
          },
          "shapedefaults": {
           "line": {
            "color": "#2a3f5f"
           }
          },
          "ternary": {
           "aaxis": {
            "gridcolor": "white",
            "linecolor": "white",
            "ticks": ""
           },
           "baxis": {
            "gridcolor": "white",
            "linecolor": "white",
            "ticks": ""
           },
           "bgcolor": "#E5ECF6",
           "caxis": {
            "gridcolor": "white",
            "linecolor": "white",
            "ticks": ""
           }
          },
          "title": {
           "x": 0.05
          },
          "xaxis": {
           "automargin": true,
           "gridcolor": "white",
           "linecolor": "white",
           "ticks": "",
           "title": {
            "standoff": 15
           },
           "zerolinecolor": "white",
           "zerolinewidth": 2
          },
          "yaxis": {
           "automargin": true,
           "gridcolor": "white",
           "linecolor": "white",
           "ticks": "",
           "title": {
            "standoff": 15
           },
           "zerolinecolor": "white",
           "zerolinewidth": 2
          }
         }
        },
        "title": {
         "text": "Weighted Average Position of Tackles Across Pitch Thirds by Team"
        },
        "xaxis": {
         "anchor": "y",
         "domain": [
          0,
          1
         ],
         "range": [
          -0.1,
          1.1
         ],
         "tickvals": [],
         "title": {
          "text": "Pitch Third"
         }
        },
        "yaxis": {
         "anchor": "x",
         "automargin": true,
         "domain": [
          0,
          1
         ],
         "range": [
          -0.5,
          23.5
         ],
         "title": {
          "standoff": 10,
          "text": "Team"
         }
        }
       }
      }
     },
     "metadata": {},
     "output_type": "display_data"
    }
   ],
   "source": [
    "df_def['Total_Tackles'] = df_def['Tackles_Def 3rd'] + df_def['Tackles_Mid 3rd'] + df_def['Tackles_Att 3rd']\n",
    "df_def['Weighted_Position'] = (df_def['Tackles_Def 3rd'] * 0 + \n",
    "                               df_def['Tackles_Mid 3rd'] * 0.5 + \n",
    "                               df_def['Tackles_Att 3rd'] * 1) / df_def['Total_Tackles']\n",
    "\n",
    "df_grouped = df_def.groupby('Squad').agg({'Weighted_Position': 'mean'}).reset_index()\n",
    "\n",
    "df_grouped = df_grouped.sort_values(by='Weighted_Position')\n",
    "\n",
    "def_fig2 = px.scatter(df_grouped, x='Weighted_Position', y='Squad',\n",
    "                  title='Weighted Average Position of Tackles Across Pitch Thirds by Team',\n",
    "                  labels={'Weighted_Position': 'Pitch Third', 'Squad': 'Team'},\n",
    "                  hover_data=['Weighted_Position'])\n",
    "\n",
    "def_fig2.update_traces(marker=dict(size=10, line=dict(width=1, color='DarkSlateGrey')))\n",
    "def_fig2.update_traces(marker=dict(color=df_grouped['Squad'].apply(lambda x: '#32e63e' if x == 'Georgia' else '#2c67c7')))\n",
    "\n",
    "def_fig2.update_layout(\n",
    "    xaxis=dict(\n",
    "        title='Pitch Third',\n",
    "        range=[-0.1, 1.1],\n",
    "        tickvals=[],\n",
    "    ),\n",
    "    yaxis=dict(\n",
    "        automargin=True,\n",
    "        title=dict(standoff=10),\n",
    "        range=[-0.5, len(df_grouped) - 0.5]\n",
    "    ),\n",
    "    shapes=[\n",
    "        # shaded area for defensive third (0 to 0.33)\n",
    "        dict(\n",
    "            type='rect',\n",
    "            x0=0,\n",
    "            x1=0.33,\n",
    "            y0=-0.5,\n",
    "            y1=len(df_grouped) - 0.5,\n",
    "            fillcolor='rgba(255, 0, 0, 0.2)',\n",
    "            line=dict(color='rgba(255, 0, 0, 0)')\n",
    "        ),\n",
    "        # shaded area for middle third (0.33 to 0.67)\n",
    "        dict(\n",
    "            type='rect',\n",
    "            x0=0.33,\n",
    "            x1=0.67,\n",
    "            y0=-0.5,\n",
    "            y1=len(df_grouped) - 0.5,\n",
    "            fillcolor='rgba(255, 165, 0, 0.2)',\n",
    "            line=dict(color='rgba(255, 165, 0, 0)')\n",
    "        ),\n",
    "        # shaded area for attacking third (0.67 to 1)\n",
    "        dict(\n",
    "            type='rect',\n",
    "            x0=0.67,\n",
    "            x1=1,\n",
    "            y0=-0.5,\n",
    "            y1=len(df_grouped) - 0.5,\n",
    "            fillcolor='rgba(0, 0, 255, 0.2)',\n",
    "            line=dict(color='rgba(0, 0, 255, 0)')\n",
    "        )\n",
    "    ],\n",
    "    annotations=[\n",
    "        dict(\n",
    "            x=0.165,\n",
    "            y=-0.05,\n",
    "            xref='x',\n",
    "            yref='y',\n",
    "            text='Def 3rd',\n",
    "            showarrow=False,\n",
    "            font=dict(size=12, color='black')\n",
    "        ),\n",
    "        dict(\n",
    "            x=0.5,\n",
    "            y=-0.05,\n",
    "            xref='x',\n",
    "            yref='y',\n",
    "            text='Mid 3rd',\n",
    "            showarrow=False,\n",
    "            font=dict(size=12, color='black')\n",
    "        ),\n",
    "        dict(\n",
    "            x=0.835,\n",
    "            y=-0.05,\n",
    "            xref='x',\n",
    "            yref='y',\n",
    "            text='Att 3rd',\n",
    "            showarrow=False,\n",
    "            font=dict(size=12, color='black')\n",
    "        )\n",
    "    ],\n",
    "    margin=dict(l=200),\n",
    "    height=800\n",
    ")\n",
    "\n",
    "def_fig2.show()\n",
    "def_fig2.write_html(\"def_fig2.html\")"
   ]
  },
  {
   "cell_type": "markdown",
   "id": "05c33162",
   "metadata": {},
   "source": [
    "# Passing"
   ]
  },
  {
   "cell_type": "code",
   "execution_count": 46,
   "id": "564175bb",
   "metadata": {},
   "outputs": [
    {
     "name": "stderr",
     "output_type": "stream",
     "text": [
      "C:\\Users\\Kiu-Student\\AppData\\Local\\Temp\\ipykernel_11496\\754971183.py:5: DeprecationWarning:\n",
      "\n",
      "The 'text' argument to find()-type methods is deprecated. Use 'string' instead.\n",
      "\n",
      "C:\\Users\\Kiu-Student\\AppData\\Local\\Temp\\ipykernel_11496\\754971183.py:6: MarkupResemblesLocatorWarning:\n",
      "\n",
      "The input looks more like a filename than markup. You may want to open this file and pass the filehandle into Beautiful Soup.\n",
      "\n"
     ]
    },
    {
     "name": "stdout",
     "output_type": "stream",
     "text": [
      "Total tables in main HTML: 2\n",
      "Total tables in comments: 1\n"
     ]
    }
   ],
   "source": [
    "# IMPORTING PASSING STATS\n",
    "\n",
    "response = requests.get('https://fbref.com/en/comps/676/passing/UEFA-Euro-Stats')\n",
    "soup = bs4.BeautifulSoup(response.content)\n",
    "comments = soup.find_all(text=lambda text:isinstance(text, bs4.Comment))\n",
    "commented_out_tables = [bs4.BeautifulSoup(cmt).find_all('table') for cmt in comments]\n",
    "commented_out_tables = [tab[0] for tab in commented_out_tables if len(tab) == 1]\n",
    "df_pass = pd.read_html(str(commented_out_tables[0]))[0]\n",
    "main_tables = soup.find_all('table')\n",
    "print(f'Total tables in main HTML: {len(main_tables)}')\n",
    "print(f'Total tables in comments: {len(commented_out_tables)}')\n",
    "\n",
    "if commented_out_tables:\n",
    "    for i, table in enumerate(commented_out_tables):\n",
    "        df_pass = pd.read_html(str(table))[0]\n",
    "else:\n",
    "    print(\"No tables found in comments.\")"
   ]
  },
  {
   "cell_type": "code",
   "execution_count": 47,
   "id": "d00f0aa3",
   "metadata": {},
   "outputs": [
    {
     "data": {
      "text/html": [
       "<div>\n",
       "<style scoped>\n",
       "    .dataframe tbody tr th:only-of-type {\n",
       "        vertical-align: middle;\n",
       "    }\n",
       "\n",
       "    .dataframe tbody tr th {\n",
       "        vertical-align: top;\n",
       "    }\n",
       "\n",
       "    .dataframe thead th {\n",
       "        text-align: right;\n",
       "    }\n",
       "</style>\n",
       "<table border=\"1\" class=\"dataframe\">\n",
       "  <thead>\n",
       "    <tr style=\"text-align: right;\">\n",
       "      <th></th>\n",
       "      <th>Player</th>\n",
       "      <th>Pos</th>\n",
       "      <th>Squad</th>\n",
       "      <th>Age</th>\n",
       "      <th>Born</th>\n",
       "      <th>90s</th>\n",
       "      <th>Total_Cmp</th>\n",
       "      <th>Total_Att</th>\n",
       "      <th>Total_Cmp%</th>\n",
       "      <th>Total_TotDist</th>\n",
       "      <th>...</th>\n",
       "      <th>Long_Cmp%</th>\n",
       "      <th>Ast</th>\n",
       "      <th>xAG</th>\n",
       "      <th>Expected_xA</th>\n",
       "      <th>Expected_A-xAG</th>\n",
       "      <th>KP</th>\n",
       "      <th>1/3</th>\n",
       "      <th>PPA</th>\n",
       "      <th>CrsPA</th>\n",
       "      <th>PrgP</th>\n",
       "    </tr>\n",
       "  </thead>\n",
       "  <tbody>\n",
       "    <tr>\n",
       "      <th>0</th>\n",
       "      <td>Che Adams</td>\n",
       "      <td>FW</td>\n",
       "      <td>Scotland</td>\n",
       "      <td>27</td>\n",
       "      <td>1996</td>\n",
       "      <td>2.3</td>\n",
       "      <td>27</td>\n",
       "      <td>31</td>\n",
       "      <td>87.1</td>\n",
       "      <td>386</td>\n",
       "      <td>...</td>\n",
       "      <td>33.3</td>\n",
       "      <td>0</td>\n",
       "      <td>0.1</td>\n",
       "      <td>0.2</td>\n",
       "      <td>-0.1</td>\n",
       "      <td>2</td>\n",
       "      <td>2</td>\n",
       "      <td>0</td>\n",
       "      <td>0</td>\n",
       "      <td>2</td>\n",
       "    </tr>\n",
       "    <tr>\n",
       "      <th>1</th>\n",
       "      <td>Michel Aebischer</td>\n",
       "      <td>DF</td>\n",
       "      <td>Switzerland</td>\n",
       "      <td>27</td>\n",
       "      <td>1997</td>\n",
       "      <td>5.3</td>\n",
       "      <td>221</td>\n",
       "      <td>252</td>\n",
       "      <td>87.7</td>\n",
       "      <td>3316</td>\n",
       "      <td>...</td>\n",
       "      <td>62.5</td>\n",
       "      <td>2</td>\n",
       "      <td>1.2</td>\n",
       "      <td>1.0</td>\n",
       "      <td>0.8</td>\n",
       "      <td>6</td>\n",
       "      <td>17</td>\n",
       "      <td>7</td>\n",
       "      <td>0</td>\n",
       "      <td>28</td>\n",
       "    </tr>\n",
       "    <tr>\n",
       "      <th>2</th>\n",
       "      <td>Arlind Ajeti</td>\n",
       "      <td>DF</td>\n",
       "      <td>Albania</td>\n",
       "      <td>30</td>\n",
       "      <td>1993</td>\n",
       "      <td>3.0</td>\n",
       "      <td>93</td>\n",
       "      <td>112</td>\n",
       "      <td>83.0</td>\n",
       "      <td>1654</td>\n",
       "      <td>...</td>\n",
       "      <td>47.1</td>\n",
       "      <td>0</td>\n",
       "      <td>0.0</td>\n",
       "      <td>0.0</td>\n",
       "      <td>0.0</td>\n",
       "      <td>0</td>\n",
       "      <td>4</td>\n",
       "      <td>0</td>\n",
       "      <td>0</td>\n",
       "      <td>5</td>\n",
       "    </tr>\n",
       "    <tr>\n",
       "      <th>3</th>\n",
       "      <td>Manuel Akanji</td>\n",
       "      <td>DF</td>\n",
       "      <td>Switzerland</td>\n",
       "      <td>28</td>\n",
       "      <td>1995</td>\n",
       "      <td>5.3</td>\n",
       "      <td>304</td>\n",
       "      <td>331</td>\n",
       "      <td>91.8</td>\n",
       "      <td>5658</td>\n",
       "      <td>...</td>\n",
       "      <td>79.5</td>\n",
       "      <td>0</td>\n",
       "      <td>0.0</td>\n",
       "      <td>0.1</td>\n",
       "      <td>0.0</td>\n",
       "      <td>1</td>\n",
       "      <td>21</td>\n",
       "      <td>0</td>\n",
       "      <td>0</td>\n",
       "      <td>25</td>\n",
       "    </tr>\n",
       "    <tr>\n",
       "      <th>4</th>\n",
       "      <td>Samet Akaydın</td>\n",
       "      <td>DF</td>\n",
       "      <td>Türkiye</td>\n",
       "      <td>29</td>\n",
       "      <td>1994</td>\n",
       "      <td>3.7</td>\n",
       "      <td>185</td>\n",
       "      <td>206</td>\n",
       "      <td>89.8</td>\n",
       "      <td>3262</td>\n",
       "      <td>...</td>\n",
       "      <td>61.9</td>\n",
       "      <td>0</td>\n",
       "      <td>0.0</td>\n",
       "      <td>0.1</td>\n",
       "      <td>0.0</td>\n",
       "      <td>0</td>\n",
       "      <td>18</td>\n",
       "      <td>0</td>\n",
       "      <td>0</td>\n",
       "      <td>15</td>\n",
       "    </tr>\n",
       "  </tbody>\n",
       "</table>\n",
       "<p>5 rows × 29 columns</p>\n",
       "</div>"
      ],
      "text/plain": [
       "             Player Pos        Squad  Age  Born  90s  Total_Cmp  Total_Att  \\\n",
       "0         Che Adams  FW     Scotland   27  1996  2.3         27         31   \n",
       "1  Michel Aebischer  DF  Switzerland   27  1997  5.3        221        252   \n",
       "2      Arlind Ajeti  DF      Albania   30  1993  3.0         93        112   \n",
       "3     Manuel Akanji  DF  Switzerland   28  1995  5.3        304        331   \n",
       "4     Samet Akaydın  DF      Türkiye   29  1994  3.7        185        206   \n",
       "\n",
       "   Total_Cmp%  Total_TotDist  ...  Long_Cmp%  Ast  xAG  Expected_xA  \\\n",
       "0        87.1            386  ...       33.3    0  0.1          0.2   \n",
       "1        87.7           3316  ...       62.5    2  1.2          1.0   \n",
       "2        83.0           1654  ...       47.1    0  0.0          0.0   \n",
       "3        91.8           5658  ...       79.5    0  0.0          0.1   \n",
       "4        89.8           3262  ...       61.9    0  0.0          0.1   \n",
       "\n",
       "   Expected_A-xAG  KP  1/3  PPA  CrsPA  PrgP  \n",
       "0            -0.1   2    2    0      0     2  \n",
       "1             0.8   6   17    7      0    28  \n",
       "2             0.0   0    4    0      0     5  \n",
       "3             0.0   1   21    0      0    25  \n",
       "4             0.0   0   18    0      0    15  \n",
       "\n",
       "[5 rows x 29 columns]"
      ]
     },
     "execution_count": 47,
     "metadata": {},
     "output_type": "execute_result"
    }
   ],
   "source": [
    "# joining multiple index levels\n",
    "df_pass.columns = ['_'.join(col) if 'Unnamed' not in col[0] else col[1] for col in df_pass.columns]\n",
    "\n",
    "# getting rid of columns of no significance\n",
    "df_pass = df_pass.drop(columns=['Rk', 'Matches'])\n",
    "\n",
    "# removing country emojis\n",
    "df_pass['Squad'] = df_pass['Squad'].str[3:]\n",
    "\n",
    "# index 25 contains no data\n",
    "df_pass = df_pass.drop(index=25)\n",
    "df_pass = df_pass.reset_index(drop=True)\n",
    "\n",
    "# handling fully empty rows\n",
    "df_pass = df_pass[df_pass['Squad'] != 'ad']\n",
    "\n",
    "# type conversion\n",
    "columns_to_exclude = ['Player', 'Squad', 'Pos']\n",
    "columns_to_convert = [col for col in df_pass.columns if col not in columns_to_exclude]\n",
    "df_pass[columns_to_convert] = df_pass[columns_to_convert].apply(pd.to_numeric, errors='coerce')\n",
    "\n",
    "df_pass.head()"
   ]
  },
  {
   "cell_type": "code",
   "execution_count": 48,
   "id": "30b10ffa",
   "metadata": {},
   "outputs": [
    {
     "name": "stderr",
     "output_type": "stream",
     "text": [
      "C:\\Users\\Kiu-Student\\AppData\\Local\\Temp\\ipykernel_11496\\2578598439.py:2: SettingWithCopyWarning:\n",
      "\n",
      "\n",
      "A value is trying to be set on a copy of a slice from a DataFrame.\n",
      "Try using .loc[row_indexer,col_indexer] = value instead\n",
      "\n",
      "See the caveats in the documentation: https://pandas.pydata.org/pandas-docs/stable/user_guide/indexing.html#returning-a-view-versus-a-copy\n",
      "\n",
      "C:\\Users\\Kiu-Student\\AppData\\Local\\Temp\\ipykernel_11496\\2578598439.py:3: SettingWithCopyWarning:\n",
      "\n",
      "\n",
      "A value is trying to be set on a copy of a slice from a DataFrame.\n",
      "Try using .loc[row_indexer,col_indexer] = value instead\n",
      "\n",
      "See the caveats in the documentation: https://pandas.pydata.org/pandas-docs/stable/user_guide/indexing.html#returning-a-view-versus-a-copy\n",
      "\n"
     ]
    },
    {
     "data": {
      "image/png": "[encoded data removed]",
      "text/plain": [
       "<Figure size 1200x800 with 1 Axes>"
      ]
     },
     "metadata": {},
     "output_type": "display_data"
    }
   ],
   "source": [
    "georgia_players = df_pass[df_pass['Squad'] == 'Georgia']\n",
    "georgia_players['KeyPassRatio'] = georgia_players['KP'] / georgia_players['Total_Att']\n",
    "georgia_players['KeyPassPercentage'] = georgia_players['KeyPassRatio'] * 100\n",
    "\n",
    "georgia_players = georgia_players[georgia_players['KeyPassPercentage'] > 0]\n",
    "\n",
    "georgia_players = georgia_players.sort_values(by='KeyPassRatio', ascending=True)\n",
    "\n",
    "fig, ax = plt.subplots(figsize=(12, 8))\n",
    "\n",
    "bars_total_passes = ax.barh(georgia_players['Player'], georgia_players['Total_Att'], color='#6b96db', label='Total Passes')\n",
    "\n",
    "bars_key_passes = ax.barh(georgia_players['Player'], georgia_players['KeyPassPercentage'], color='#329952', label='Key Passes (%)')\n",
    "\n",
    "ax.set_xlabel('Passes / Percentage')\n",
    "ax.set_ylabel('Player')\n",
    "ax.set_title('Key Passes Compared to Total Passes')\n",
    "\n",
    "for bar in bars_key_passes:\n",
    "    width = bar.get_width()\n",
    "    ax.text(width + 1, bar.get_y() + bar.get_height() / 2, f'{width:.1f}%', va='center', ha='left', color='black')\n",
    "\n",
    "ax.set_xlim(0, max(georgia_players['Total_Att']) * 1.1)\n",
    "\n",
    "ax.legend(loc='upper right')\n",
    "\n",
    "plt.tight_layout()\n",
    "plt.show()\n",
    "\n",
    "\n",
    "# saved as png (same for all plts)"
   ]
  },
  {
   "cell_type": "code",
   "execution_count": 51,
   "id": "08ebaed4",
   "metadata": {},
   "outputs": [
    {
     "data": {
      "image/png": "[encoded data removed]",
      "text/plain": [
       "<Figure size 1400x1000 with 1 Axes>"
      ]
     },
     "metadata": {},
     "output_type": "display_data"
    }
   ],
   "source": [
    "georgia_players = df_pass[df_pass['Squad'] == 'Georgia']\n",
    "georgia_players = georgia_players[georgia_players['Total_PrgDist'] > 0]\n",
    "\n",
    "# custom orders\n",
    "position_order = [\n",
    "    'FW',\n",
    "    'FW,MF',\n",
    "    'MF,FW',\n",
    "    'MF',\n",
    "    'DF,MF',\n",
    "    'DF',\n",
    "    'GK'\n",
    "]\n",
    "\n",
    "position_colors = {\n",
    "    'FW': '#e8574d',\n",
    "    'FW,MF': '#e8574d',\n",
    "    'MF,FW': '#68e381',\n",
    "    'MF': '#68e381',\n",
    "    'DF,MF': '#7bcded',\n",
    "    'DF': '#7bcded',\n",
    "    'GK': '#f5f757'\n",
    "}\n",
    "\n",
    "georgia_players['Pos'] = pd.Categorical(georgia_players['Pos'], categories=position_order, ordered=True)\n",
    "georgia_players = georgia_players.sort_values(by='Total_PrgDist', ascending=True)\n",
    "\n",
    "# plotting\n",
    "fig, ax = plt.subplots(figsize=(14, 10))\n",
    "for position in position_order:\n",
    "    pos_players = georgia_players[georgia_players['Pos'] == position]\n",
    "    bars = ax.barh(pos_players['Player'], pos_players['Total_PrgDist'], color=position_colors.get(position, 'gray'), label=position)\n",
    "\n",
    "ax.set_xlabel('Progressive Passing Distance (yards)')\n",
    "ax.set_ylabel('Player')\n",
    "ax.set_title('Progressive Passing Distance by Position')\n",
    "ax.legend(title='Position', bbox_to_anchor=(1.05, 1), loc='upper left')\n",
    "\n",
    "for bar in ax.patches:\n",
    "    width = bar.get_width()\n",
    "    ax.text(width + 10, bar.get_y() + bar.get_height() / 2, f'{width:,}', va='center', ha='left', color='black')\n",
    "\n",
    "plt.tight_layout()\n",
    "plt.show()"
   ]
  },
  {
   "cell_type": "code",
   "execution_count": 52,
   "id": "1b736f32",
   "metadata": {},
   "outputs": [
    {
     "name": "stderr",
     "output_type": "stream",
     "text": [
      "No artists with labels found to put in legend.  Note that artists whose label start with an underscore are ignored when legend() is called with no argument.\n"
     ]
    },
    {
     "data": {
      "image/png": "[encoded data removed]",
      "text/plain": [
       "<Figure size 1200x700 with 1 Axes>"
      ]
     },
     "metadata": {},
     "output_type": "display_data"
    }
   ],
   "source": [
    "georgian_players = df_pass[df_pass['Squad'] == 'Georgia']\n",
    "\n",
    "attempts = {\n",
    "    'Short': georgian_players['Short_Att'].sum(),\n",
    "    'Medium': georgian_players['Medium_Att'].sum(),\n",
    "    'Long': georgian_players['Long_Att'].sum()\n",
    "}\n",
    "\n",
    "completion_percentages = {\n",
    "    'Short': georgian_players['Short_Cmp%'].mean(),\n",
    "    'Medium': georgian_players['Medium_Cmp%'].mean(),\n",
    "    'Long': georgian_players['Long_Cmp%'].mean()\n",
    "}\n",
    "\n",
    "categories = list(attempts.keys())\n",
    "attempt_values = list(attempts.values())\n",
    "completion_values = [attempts[cat] * (completion_percentages[cat] / 100) for cat in categories]\n",
    "\n",
    "# plot\n",
    "fig, ax = plt.subplots(figsize=(12, 7))\n",
    "\n",
    "bars = ax.bar(categories, attempt_values, color='#3761a6')\n",
    "\n",
    "for bar, completion in zip(bars, completion_values):\n",
    "    ax.bar(bar.get_x() + bar.get_width() / 2, completion, bar.get_width(), color='#6b96db', edgecolor='none')\n",
    "\n",
    "ax.set_xlabel('Pass Distance')\n",
    "ax.set_ylabel('Number of Attempts')\n",
    "ax.set_title('Combined Pass Attempts and Completion Rates by Distance')\n",
    "ax.legend(loc='upper left', bbox_to_anchor=(1, 1))\n",
    "\n",
    "for bar in bars:\n",
    "    height = bar.get_height()\n",
    "    ax.text(bar.get_x() + bar.get_width() / 2, height + 10, f'{height}', ha='center', va='bottom')\n",
    "\n",
    "plt.tight_layout()\n",
    "plt.show()"
   ]
  },
  {
   "cell_type": "code",
   "execution_count": 53,
   "id": "17ffde2f",
   "metadata": {},
   "outputs": [
    {
     "data": {
      "image/png": "[encoded data removed]",
      "text/plain": [
       "<Figure size 1200x800 with 1 Axes>"
      ]
     },
     "metadata": {},
     "output_type": "display_data"
    }
   ],
   "source": [
    "squad_pass_distances = df_pass.groupby('Squad').agg({\n",
    "    'Total_TotDist': 'sum',\n",
    "    'Total_PrgDist': 'sum'\n",
    "}).reset_index()\n",
    "\n",
    "squad_pass_distances['PrgDist_Percentage'] = (squad_pass_distances['Total_PrgDist'] / squad_pass_distances['Total_TotDist']) * 100\n",
    "\n",
    "squad_pass_distances = squad_pass_distances.sort_values(by='PrgDist_Percentage', ascending=True)\n",
    "\n",
    "colors = ['#83c798' if squad == 'Georgia' else '#6b96db' for squad in squad_pass_distances['Squad']]\n",
    "highlight_color = '#329952'\n",
    "other_color = '#3761a6'\n",
    "\n",
    "# plotting\n",
    "fig, ax = plt.subplots(figsize=(12, 8))\n",
    "\n",
    "bars_total = ax.barh(squad_pass_distances['Squad'], squad_pass_distances['Total_TotDist'], color=colors, label='Total Passing Distance')\n",
    "\n",
    "for i, bar in enumerate(bars_total):\n",
    "    squad_name = squad_pass_distances.iloc[i]['Squad']  # Use index to get squad_name\n",
    "    prg_dist = squad_pass_distances.loc[squad_pass_distances['Squad'] == squad_name, 'Total_PrgDist'].values[0]\n",
    "    ax.barh(squad_name, prg_dist, color=highlight_color if squad_name == 'Georgia' else other_color, edgecolor='none', label='Progressive Passing Distance')\n",
    "\n",
    "ax.set_xlabel('Passing Distance (yards)')\n",
    "ax.set_ylabel('Squad')\n",
    "ax.set_title('Progressive Passing Distance vs Total Passing Distance by Squad')\n",
    "\n",
    "handles, labels = ax.get_legend_handles_labels()\n",
    "by_label = dict(zip(labels, handles))\n",
    "ax.legend(by_label.values(), by_label.keys(), loc='upper left', bbox_to_anchor=(1, 1))\n",
    "\n",
    "plt.tight_layout()\n",
    "plt.show()"
   ]
  },
  {
   "cell_type": "markdown",
   "id": "4d33ac38",
   "metadata": {},
   "source": [
    "# Shooting"
   ]
  },
  {
   "cell_type": "code",
   "execution_count": 54,
   "id": "3f287f60",
   "metadata": {},
   "outputs": [
    {
     "name": "stderr",
     "output_type": "stream",
     "text": [
      "C:\\Users\\Kiu-Student\\AppData\\Local\\Temp\\ipykernel_11496\\1553724322.py:5: DeprecationWarning:\n",
      "\n",
      "The 'text' argument to find()-type methods is deprecated. Use 'string' instead.\n",
      "\n",
      "C:\\Users\\Kiu-Student\\AppData\\Local\\Temp\\ipykernel_11496\\1553724322.py:6: MarkupResemblesLocatorWarning:\n",
      "\n",
      "The input looks more like a filename than markup. You may want to open this file and pass the filehandle into Beautiful Soup.\n",
      "\n"
     ]
    },
    {
     "name": "stdout",
     "output_type": "stream",
     "text": [
      "Total tables in main HTML: 2\n",
      "Total tables in comments: 1\n"
     ]
    }
   ],
   "source": [
    "# IMPORTING SHOOTING STATS\n",
    "\n",
    "response = requests.get('https://fbref.com/en/comps/676/shooting/UEFA-Euro-Stats')\n",
    "soup = bs4.BeautifulSoup(response.content)\n",
    "comments = soup.find_all(text=lambda text:isinstance(text, bs4.Comment))\n",
    "commented_out_tables = [bs4.BeautifulSoup(cmt).find_all('table') for cmt in comments]\n",
    "commented_out_tables = [tab[0] for tab in commented_out_tables if len(tab) == 1]\n",
    "df_sh = pd.read_html(str(commented_out_tables[0]))[0]\n",
    "main_tables = soup.find_all('table')\n",
    "print(f'Total tables in main HTML: {len(main_tables)}')\n",
    "print(f'Total tables in comments: {len(commented_out_tables)}')\n",
    "\n",
    "if commented_out_tables:\n",
    "    for i, table in enumerate(commented_out_tables):\n",
    "        df_sh = pd.read_html(str(table))[0]\n",
    "else:\n",
    "    print(\"No tables found in comments.\")"
   ]
  },
  {
   "cell_type": "code",
   "execution_count": 55,
   "id": "309202a2",
   "metadata": {},
   "outputs": [
    {
     "data": {
      "text/html": [
       "<div>\n",
       "<style scoped>\n",
       "    .dataframe tbody tr th:only-of-type {\n",
       "        vertical-align: middle;\n",
       "    }\n",
       "\n",
       "    .dataframe tbody tr th {\n",
       "        vertical-align: top;\n",
       "    }\n",
       "\n",
       "    .dataframe thead th {\n",
       "        text-align: right;\n",
       "    }\n",
       "</style>\n",
       "<table border=\"1\" class=\"dataframe\">\n",
       "  <thead>\n",
       "    <tr style=\"text-align: right;\">\n",
       "      <th></th>\n",
       "      <th>Player</th>\n",
       "      <th>Pos</th>\n",
       "      <th>Squad</th>\n",
       "      <th>Age</th>\n",
       "      <th>Born</th>\n",
       "      <th>90s</th>\n",
       "      <th>Standard_Gls</th>\n",
       "      <th>Standard_Sh</th>\n",
       "      <th>Standard_SoT</th>\n",
       "      <th>Standard_SoT%</th>\n",
       "      <th>...</th>\n",
       "      <th>Standard_G/SoT</th>\n",
       "      <th>Standard_Dist</th>\n",
       "      <th>Standard_FK</th>\n",
       "      <th>Standard_PK</th>\n",
       "      <th>Standard_PKatt</th>\n",
       "      <th>Expected_xG</th>\n",
       "      <th>Expected_npxG</th>\n",
       "      <th>Expected_npxG/Sh</th>\n",
       "      <th>Expected_G-xG</th>\n",
       "      <th>Expected_np:G-xG</th>\n",
       "    </tr>\n",
       "  </thead>\n",
       "  <tbody>\n",
       "    <tr>\n",
       "      <th>0</th>\n",
       "      <td>Che Adams</td>\n",
       "      <td>FW</td>\n",
       "      <td>Scotland</td>\n",
       "      <td>27.0</td>\n",
       "      <td>1996.0</td>\n",
       "      <td>2.3</td>\n",
       "      <td>0.0</td>\n",
       "      <td>2.0</td>\n",
       "      <td>1.0</td>\n",
       "      <td>50.0</td>\n",
       "      <td>...</td>\n",
       "      <td>0.0</td>\n",
       "      <td>14.1</td>\n",
       "      <td>0.0</td>\n",
       "      <td>0.0</td>\n",
       "      <td>0.0</td>\n",
       "      <td>0.1</td>\n",
       "      <td>0.1</td>\n",
       "      <td>0.06</td>\n",
       "      <td>-0.1</td>\n",
       "      <td>-0.1</td>\n",
       "    </tr>\n",
       "    <tr>\n",
       "      <th>1</th>\n",
       "      <td>Michel Aebischer</td>\n",
       "      <td>DF</td>\n",
       "      <td>Switzerland</td>\n",
       "      <td>27.0</td>\n",
       "      <td>1997.0</td>\n",
       "      <td>5.3</td>\n",
       "      <td>1.0</td>\n",
       "      <td>2.0</td>\n",
       "      <td>1.0</td>\n",
       "      <td>50.0</td>\n",
       "      <td>...</td>\n",
       "      <td>1.0</td>\n",
       "      <td>21.7</td>\n",
       "      <td>0.0</td>\n",
       "      <td>0.0</td>\n",
       "      <td>0.0</td>\n",
       "      <td>0.1</td>\n",
       "      <td>0.1</td>\n",
       "      <td>0.05</td>\n",
       "      <td>0.9</td>\n",
       "      <td>0.9</td>\n",
       "    </tr>\n",
       "    <tr>\n",
       "      <th>2</th>\n",
       "      <td>Arlind Ajeti</td>\n",
       "      <td>DF</td>\n",
       "      <td>Albania</td>\n",
       "      <td>30.0</td>\n",
       "      <td>1993.0</td>\n",
       "      <td>3.0</td>\n",
       "      <td>0.0</td>\n",
       "      <td>0.0</td>\n",
       "      <td>0.0</td>\n",
       "      <td>NaN</td>\n",
       "      <td>...</td>\n",
       "      <td>NaN</td>\n",
       "      <td>NaN</td>\n",
       "      <td>0.0</td>\n",
       "      <td>0.0</td>\n",
       "      <td>0.0</td>\n",
       "      <td>0.0</td>\n",
       "      <td>0.0</td>\n",
       "      <td>NaN</td>\n",
       "      <td>0.0</td>\n",
       "      <td>0.0</td>\n",
       "    </tr>\n",
       "    <tr>\n",
       "      <th>3</th>\n",
       "      <td>Manuel Akanji</td>\n",
       "      <td>DF</td>\n",
       "      <td>Switzerland</td>\n",
       "      <td>28.0</td>\n",
       "      <td>1995.0</td>\n",
       "      <td>5.3</td>\n",
       "      <td>0.0</td>\n",
       "      <td>0.0</td>\n",
       "      <td>0.0</td>\n",
       "      <td>NaN</td>\n",
       "      <td>...</td>\n",
       "      <td>NaN</td>\n",
       "      <td>NaN</td>\n",
       "      <td>0.0</td>\n",
       "      <td>0.0</td>\n",
       "      <td>0.0</td>\n",
       "      <td>0.0</td>\n",
       "      <td>0.0</td>\n",
       "      <td>NaN</td>\n",
       "      <td>0.0</td>\n",
       "      <td>0.0</td>\n",
       "    </tr>\n",
       "    <tr>\n",
       "      <th>4</th>\n",
       "      <td>Samet Akaydın</td>\n",
       "      <td>DF</td>\n",
       "      <td>Türkiye</td>\n",
       "      <td>29.0</td>\n",
       "      <td>1994.0</td>\n",
       "      <td>3.7</td>\n",
       "      <td>1.0</td>\n",
       "      <td>2.0</td>\n",
       "      <td>1.0</td>\n",
       "      <td>50.0</td>\n",
       "      <td>...</td>\n",
       "      <td>1.0</td>\n",
       "      <td>5.2</td>\n",
       "      <td>0.0</td>\n",
       "      <td>0.0</td>\n",
       "      <td>0.0</td>\n",
       "      <td>0.4</td>\n",
       "      <td>0.4</td>\n",
       "      <td>0.18</td>\n",
       "      <td>0.6</td>\n",
       "      <td>0.6</td>\n",
       "    </tr>\n",
       "  </tbody>\n",
       "</table>\n",
       "<p>5 rows × 23 columns</p>\n",
       "</div>"
      ],
      "text/plain": [
       "             Player Pos        Squad   Age    Born  90s  Standard_Gls  \\\n",
       "0         Che Adams  FW     Scotland  27.0  1996.0  2.3           0.0   \n",
       "1  Michel Aebischer  DF  Switzerland  27.0  1997.0  5.3           1.0   \n",
       "2      Arlind Ajeti  DF      Albania  30.0  1993.0  3.0           0.0   \n",
       "3     Manuel Akanji  DF  Switzerland  28.0  1995.0  5.3           0.0   \n",
       "4     Samet Akaydın  DF      Türkiye  29.0  1994.0  3.7           1.0   \n",
       "\n",
       "   Standard_Sh  Standard_SoT  Standard_SoT%  ...  Standard_G/SoT  \\\n",
       "0          2.0           1.0           50.0  ...             0.0   \n",
       "1          2.0           1.0           50.0  ...             1.0   \n",
       "2          0.0           0.0            NaN  ...             NaN   \n",
       "3          0.0           0.0            NaN  ...             NaN   \n",
       "4          2.0           1.0           50.0  ...             1.0   \n",
       "\n",
       "   Standard_Dist  Standard_FK  Standard_PK  Standard_PKatt  Expected_xG  \\\n",
       "0           14.1          0.0          0.0             0.0          0.1   \n",
       "1           21.7          0.0          0.0             0.0          0.1   \n",
       "2            NaN          0.0          0.0             0.0          0.0   \n",
       "3            NaN          0.0          0.0             0.0          0.0   \n",
       "4            5.2          0.0          0.0             0.0          0.4   \n",
       "\n",
       "   Expected_npxG  Expected_npxG/Sh  Expected_G-xG  Expected_np:G-xG  \n",
       "0            0.1              0.06           -0.1              -0.1  \n",
       "1            0.1              0.05            0.9               0.9  \n",
       "2            0.0               NaN            0.0               0.0  \n",
       "3            0.0               NaN            0.0               0.0  \n",
       "4            0.4              0.18            0.6               0.6  \n",
       "\n",
       "[5 rows x 23 columns]"
      ]
     },
     "execution_count": 55,
     "metadata": {},
     "output_type": "execute_result"
    }
   ],
   "source": [
    "# joining multiple index levels \n",
    "df_sh.columns = ['_'.join(col) if 'Unnamed' not in col[0] else col[1] for col in df_sh.columns]\n",
    "\n",
    "# removing country emojis\n",
    "df_sh['Squad'] = df_sh['Squad'].str[3:]\n",
    "\n",
    "# getting rid of columns of no significance\n",
    "df_sh = df_sh.drop(columns=['Rk', 'Matches'])\n",
    "\n",
    "# index 25 contains no data\n",
    "df_sh = df_sh.drop(index=25)\n",
    "df_sh = df_sh.reset_index(drop=True)\n",
    "\n",
    "# type conversion\n",
    "columns_to_exclude = ['Player', 'Squad', 'Pos']\n",
    "columns_to_convert = [col for col in df_sh.columns if col not in columns_to_exclude]\n",
    "df_sh[columns_to_convert] = df_sh[columns_to_convert].apply(pd.to_numeric, errors='coerce')\n",
    "\n",
    "# handling fully empty rows\n",
    "df_sh = df_sh[df_sh['Squad'] != 'ad']\n",
    "\n",
    "df_sh.head()"
   ]
  },
  {
   "cell_type": "code",
   "execution_count": 56,
   "id": "201718d3",
   "metadata": {},
   "outputs": [
    {
     "name": "stderr",
     "output_type": "stream",
     "text": [
      "C:\\Users\\Kiu-Student\\AppData\\Local\\Temp\\ipykernel_11496\\1186425293.py:4: SettingWithCopyWarning:\n",
      "\n",
      "\n",
      "A value is trying to be set on a copy of a slice from a DataFrame.\n",
      "Try using .loc[row_indexer,col_indexer] = value instead\n",
      "\n",
      "See the caveats in the documentation: https://pandas.pydata.org/pandas-docs/stable/user_guide/indexing.html#returning-a-view-versus-a-copy\n",
      "\n",
      "C:\\Users\\Kiu-Student\\AppData\\Local\\Temp\\ipykernel_11496\\1186425293.py:5: SettingWithCopyWarning:\n",
      "\n",
      "\n",
      "A value is trying to be set on a copy of a slice from a DataFrame.\n",
      "Try using .loc[row_indexer,col_indexer] = value instead\n",
      "\n",
      "See the caveats in the documentation: https://pandas.pydata.org/pandas-docs/stable/user_guide/indexing.html#returning-a-view-versus-a-copy\n",
      "\n"
     ]
    },
    {
     "data": {
      "application/vnd.plotly.v1+json": {
       "config": {
        "plotlyServerURL": "https://plot.ly"
       },
       "data": [
        {
         "hoverinfo": "text",
         "marker": {
          "color": "#2c67c7",
          "line": {
           "color": "black",
           "width": 2
          },
          "size": 12
         },
         "mode": "markers",
         "name": "Other Teams",
         "text": [
          "Michel Aebischer",
          "Samet Akaydın",
          "Kerem Aktürkoğlu",
          "Marko Arnautović",
          "Nedim Bajrami",
          "Nicolò Barella",
          "Alessandro Bastoni",
          "Christoph Baumgartner",
          "Jude Bellingham",
          "Adam Buksa",
          "Hakan Çalhanoğlu",
          "Emre Can",
          "Dani Carvajal",
          "Francisco Conceição",
          "Kevin Csoboth",
          "Kevin De Bruyne",
          "Merih Demiral",
          "Denis Drăguș",
          "Kwadwo Duah",
          "Ondrej Duda",
          "Breel Embolo",
          "Christian Eriksen",
          "Bruno Fernandes",
          "Remo Freuler",
          "Niclas Füllkrug",
          "Cody Gakpo",
          "Klaus Gjasula",
          "Michael Gregoritsch",
          "Antoine Griezmann",
          "Arda Güler",
          "İlkay Gündoğan",
          "Kai Havertz",
          "Morten Hjulmand",
          "Erik Janža",
          "Luka Jović",
          "Harry Kane",
          "Žan Karničnik",
          "Orkun Kökçü",
          "Randal Kolo Muani",
          "Andrej Kramarić",
          "Qazim Laçi",
          "Robert Lewandowski",
          "Romelu Lukaku",
          "Donyell Malen",
          "Răzvan Marin",
          "Kylian Mbappé",
          "Scott McTominay",
          "Memphis",
          "Mikel Merino",
          "Aleksandar Mitrović",
          "Luka Modrić",
          "Álvaro Morata",
          "Mert Müldür",
          "Jamal Musiala",
          "Dan Ndoye",
          "Dani Olmo",
          "Mikel Oyarzabal",
          "Cole Palmer",
          "Pedri",
          "Bruno Petković",
          "Krzysztof Piątek",
          "Lukáš Provod",
          "Rodri",
          "Cristiano Ronaldo",
          "Fabián Ruiz Peña",
          "Marcel Sabitzer",
          "Bukayo Saka",
          "Patrik Schick",
          "Romano Schmid",
          "Ivan Schranz",
          "Mykola Shaparenko",
          "Xherdan Shaqiri",
          "Bernardo Silva",
          "Xavi Simons",
          "Tomáš Souček",
          "Andraž Šporar",
          "Nicolae Stanciu",
          "Youri Tielemans",
          "Ferrán Torres",
          "Cenk Tosun",
          "Gernot Trauner",
          "Barnabás Varga",
          "Ruben Vargas",
          "Stefan de Vrij",
          "Ollie Watkins",
          "Wout Weghorst",
          "Nico Williams",
          "Florian Wirtz",
          "Lamine Yamal",
          "Roman Yaremchuk",
          "Mattia Zaccagni"
         ],
         "type": "scatter",
         "x": [
          0.10048552597467153,
          0.4190577714192519,
          1.432867320900997,
          1.7151854701904539,
          0.10031685056307732,
          0.06477567565548525,
          0.479122594885829,
          1.7808118630149279,
          0.6435762650927034,
          0.20885921002981148,
          0.37324618017034555,
          0.02324996004276285,
          0.4626773314710738,
          0.9078386323685353,
          0.6139475565212226,
          0.8654560945917732,
          0.7277992909138403,
          1.0696538637005026,
          0.7330097461862877,
          0.26081292088533115,
          2.1080713398674,
          1.2550376430633237,
          1.2246968132895135,
          0.3191761223250873,
          1.0266214087816352,
          1.118765459442698,
          0.27588033981201415,
          0.9071210194870963,
          1.97208003299749,
          0.2642337364696713,
          0.8009519197519864,
          4.108778623401308,
          0.06954766666841374,
          0.0030000697930855566,
          0.20149910474989025,
          2.754068326765872,
          0.5051517290451756,
          1.0164793325495582,
          0.8257576490296608,
          0.7083318965259504,
          0.2756645771126812,
          1.0404493558764192,
          1.7077935852686104,
          1.8747051716720788,
          0.9413782903900482,
          2.9260519448044655,
          0.2612848698348224,
          2.005972910257394,
          0.5699168678171528,
          1.2012263191026342,
          1.001889833284865,
          1.4545279389965726,
          0.580565823563106,
          1.0486633605839801,
          1.6298238564683567,
          1.7205323800075232,
          1.015459235896033,
          0.2212140411438006,
          1.0679592266500868,
          1.1145510376597367,
          0.4697933198645979,
          0.08797675136633268,
          0.33125643663628734,
          3.581819536716939,
          1.6642627491723956,
          0.8559890047913847,
          0.36559557340662485,
          1.4945952462217447,
          0.09874961875446206,
          0.9903792983508775,
          0.1614843946486958,
          0.13716103901433585,
          0.6935339085642618,
          0.627839587231326,
          0.6481750899023222,
          1.0280239038219838,
          0.15288637364570884,
          0.08271346280151544,
          0.5530989703343963,
          0.2893586616594284,
          0.0897576705718482,
          1.1985968566458012,
          0.7026256256662808,
          0.3124008520365616,
          0.3407683381311075,
          0.620192533274372,
          1.0284263863230663,
          0.645105171204955,
          1.8256912579540634,
          0.4230142947028884,
          0.20393370350215187
         ],
         "y": [
          1.0316917380661306,
          1.0193477017533779,
          1.0486509674527147,
          0.9798145237218516,
          0.9970999781180285,
          0.9614007993656208,
          0.981282527117335,
          1.0474847074363507,
          1.9662835297865129,
          0.9540486913876294,
          0.9824268124747061,
          1.0411880538333935,
          1.017907594865964,
          1.0432929323148465,
          0.9564469867105491,
          0.979085559144975,
          1.9714339037702096,
          0.9889839061020241,
          0.9628083774818834,
          0.972266957866161,
          1.9754660936744466,
          0.9833209322542485,
          1.0088383215953698,
          1.016665736659869,
          2.0176829917173222,
          3.0377877061560272,
          0.9785379012469992,
          0.9551528101763137,
          -0.016233335469286472,
          1.0294839812763825,
          1.0285465452527562,
          1.9900173021769318,
          0.9593357095712428,
          1.0308246914058274,
          1.0065678713642572,
          2.979924799631102,
          0.9903606448469106,
          0.04669017634305393,
          0.9968856332294002,
          1.0168953339397702,
          1.049464116387118,
          1.004785314981627,
          0.02694599529088694,
          1.9687307947372628,
          1.9620388806384201,
          1.0162634004526738,
          1.005593568061264,
          1.0086585537038055,
          1.0055743299413409,
          0.048578537916367875,
          0.9873344621876833,
          1.001042018652347,
          0.9736965662221609,
          3.0228968059751318,
          0.9819028211594777,
          2.9885462058674808,
          1.0403660726093642,
          0.9974417935348833,
          0.009398443420989243,
          -0.03277483343118481,
          0.957987177476043,
          0.9964911118460514,
          0.9889664769720131,
          -0.006714519102247872,
          1.967844478125854,
          0.9802772474336164,
          1.0440507737608602,
          0.9803436553155152,
          0.9573161188787934,
          2.979001625267118,
          0.9751633602109445,
          1.034092624858853,
          0.9860400866582183,
          1.0141615903254735,
          1.0423143511583892,
          0.04661968135746396,
          0.963029329677131,
          0.9581850854383002,
          1.0155670123600828,
          1.0427433752264472,
          0.9822769497262636,
          0.9670437686981447,
          1.0359961809392035,
          1.0375915088003107,
          0.95303613317123,
          0.9610965063095267,
          1.9713039221565065,
          1.9704074907372156,
          1.0150689126897314,
          0.9788430424862535,
          1.0067690810447258
         ]
        },
        {
         "hoverinfo": "text",
         "marker": {
          "color": "#32e63e",
          "line": {
           "color": "black",
           "width": 2
          },
          "size": 12
         },
         "mode": "markers",
         "name": "Georgia",
         "text": [
          "Khvicha Kvaratskhelia",
          "Georges Mikautadze"
         ],
         "type": "scatter",
         "x": [
          0.9810114633610071,
          2.2819033864634672
         ],
         "y": [
          1.0396246015432564,
          3.0109056980931292
         ]
        }
       ],
       "layout": {
        "annotations": [
         {
          "arrowhead": 2,
          "ax": 0,
          "ay": -40,
          "bgcolor": "white",
          "bordercolor": "black",
          "borderpad": 4,
          "font": {
           "color": "black",
           "size": 12
          },
          "showarrow": true,
          "text": "Khvicha Kvaratskhelia",
          "x": 0.9810114633610071,
          "y": 1.0396246015432564
         },
         {
          "arrowhead": 2,
          "ax": 0,
          "ay": -40,
          "bgcolor": "white",
          "bordercolor": "black",
          "borderpad": 4,
          "font": {
           "color": "black",
           "size": 12
          },
          "showarrow": true,
          "text": "Georges Mikautadze",
          "x": 2.2819033864634672,
          "y": 3.0109056980931292
         }
        ],
        "height": 800,
        "margin": {
         "b": 100,
         "l": 100,
         "r": 100,
         "t": 100
        },
        "showlegend": true,
        "template": {
         "data": {
          "bar": [
           {
            "error_x": {
             "color": "#2a3f5f"
            },
            "error_y": {
             "color": "#2a3f5f"
            },
            "marker": {
             "line": {
              "color": "#E5ECF6",
              "width": 0.5
             },
             "pattern": {
              "fillmode": "overlay",
              "size": 10,
              "solidity": 0.2
             }
            },
            "type": "bar"
           }
          ],
          "barpolar": [
           {
            "marker": {
             "line": {
              "color": "#E5ECF6",
              "width": 0.5
             },
             "pattern": {
              "fillmode": "overlay",
              "size": 10,
              "solidity": 0.2
             }
            },
            "type": "barpolar"
           }
          ],
          "carpet": [
           {
            "aaxis": {
             "endlinecolor": "#2a3f5f",
             "gridcolor": "white",
             "linecolor": "white",
             "minorgridcolor": "white",
             "startlinecolor": "#2a3f5f"
            },
            "baxis": {
             "endlinecolor": "#2a3f5f",
             "gridcolor": "white",
             "linecolor": "white",
             "minorgridcolor": "white",
             "startlinecolor": "#2a3f5f"
            },
            "type": "carpet"
           }
          ],
          "choropleth": [
           {
            "colorbar": {
             "outlinewidth": 0,
             "ticks": ""
            },
            "type": "choropleth"
           }
          ],
          "contour": [
           {
            "colorbar": {
             "outlinewidth": 0,
             "ticks": ""
            },
            "colorscale": [
             [
              0,
              "#0d0887"
             ],
             [
              0.1111111111111111,
              "#46039f"
             ],
             [
              0.2222222222222222,
              "#7201a8"
             ],
             [
              0.3333333333333333,
              "#9c179e"
             ],
             [
              0.4444444444444444,
              "#bd3786"
             ],
             [
              0.5555555555555556,
              "#d8576b"
             ],
             [
              0.6666666666666666,
              "#ed7953"
             ],
             [
              0.7777777777777778,
              "#fb9f3a"
             ],
             [
              0.8888888888888888,
              "#fdca26"
             ],
             [
              1,
              "#f0f921"
             ]
            ],
            "type": "contour"
           }
          ],
          "contourcarpet": [
           {
            "colorbar": {
             "outlinewidth": 0,
             "ticks": ""
            },
            "type": "contourcarpet"
           }
          ],
          "heatmap": [
           {
            "colorbar": {
             "outlinewidth": 0,
             "ticks": ""
            },
            "colorscale": [
             [
              0,
              "#0d0887"
             ],
             [
              0.1111111111111111,
              "#46039f"
             ],
             [
              0.2222222222222222,
              "#7201a8"
             ],
             [
              0.3333333333333333,
              "#9c179e"
             ],
             [
              0.4444444444444444,
              "#bd3786"
             ],
             [
              0.5555555555555556,
              "#d8576b"
             ],
             [
              0.6666666666666666,
              "#ed7953"
             ],
             [
              0.7777777777777778,
              "#fb9f3a"
             ],
             [
              0.8888888888888888,
              "#fdca26"
             ],
             [
              1,
              "#f0f921"
             ]
            ],
            "type": "heatmap"
           }
          ],
          "heatmapgl": [
           {
            "colorbar": {
             "outlinewidth": 0,
             "ticks": ""
            },
            "colorscale": [
             [
              0,
              "#0d0887"
             ],
             [
              0.1111111111111111,
              "#46039f"
             ],
             [
              0.2222222222222222,
              "#7201a8"
             ],
             [
              0.3333333333333333,
              "#9c179e"
             ],
             [
              0.4444444444444444,
              "#bd3786"
             ],
             [
              0.5555555555555556,
              "#d8576b"
             ],
             [
              0.6666666666666666,
              "#ed7953"
             ],
             [
              0.7777777777777778,
              "#fb9f3a"
             ],
             [
              0.8888888888888888,
              "#fdca26"
             ],
             [
              1,
              "#f0f921"
             ]
            ],
            "type": "heatmapgl"
           }
          ],
          "histogram": [
           {
            "marker": {
             "pattern": {
              "fillmode": "overlay",
              "size": 10,
              "solidity": 0.2
             }
            },
            "type": "histogram"
           }
          ],
          "histogram2d": [
           {
            "colorbar": {
             "outlinewidth": 0,
             "ticks": ""
            },
            "colorscale": [
             [
              0,
              "#0d0887"
             ],
             [
              0.1111111111111111,
              "#46039f"
             ],
             [
              0.2222222222222222,
              "#7201a8"
             ],
             [
              0.3333333333333333,
              "#9c179e"
             ],
             [
              0.4444444444444444,
              "#bd3786"
             ],
             [
              0.5555555555555556,
              "#d8576b"
             ],
             [
              0.6666666666666666,
              "#ed7953"
             ],
             [
              0.7777777777777778,
              "#fb9f3a"
             ],
             [
              0.8888888888888888,
              "#fdca26"
             ],
             [
              1,
              "#f0f921"
             ]
            ],
            "type": "histogram2d"
           }
          ],
          "histogram2dcontour": [
           {
            "colorbar": {
             "outlinewidth": 0,
             "ticks": ""
            },
            "colorscale": [
             [
              0,
              "#0d0887"
             ],
             [
              0.1111111111111111,
              "#46039f"
             ],
             [
              0.2222222222222222,
              "#7201a8"
             ],
             [
              0.3333333333333333,
              "#9c179e"
             ],
             [
              0.4444444444444444,
              "#bd3786"
             ],
             [
              0.5555555555555556,
              "#d8576b"
             ],
             [
              0.6666666666666666,
              "#ed7953"
             ],
             [
              0.7777777777777778,
              "#fb9f3a"
             ],
             [
              0.8888888888888888,
              "#fdca26"
             ],
             [
              1,
              "#f0f921"
             ]
            ],
            "type": "histogram2dcontour"
           }
          ],
          "mesh3d": [
           {
            "colorbar": {
             "outlinewidth": 0,
             "ticks": ""
            },
            "type": "mesh3d"
           }
          ],
          "parcoords": [
           {
            "line": {
             "colorbar": {
              "outlinewidth": 0,
              "ticks": ""
             }
            },
            "type": "parcoords"
           }
          ],
          "pie": [
           {
            "automargin": true,
            "type": "pie"
           }
          ],
          "scatter": [
           {
            "fillpattern": {
             "fillmode": "overlay",
             "size": 10,
             "solidity": 0.2
            },
            "type": "scatter"
           }
          ],
          "scatter3d": [
           {
            "line": {
             "colorbar": {
              "outlinewidth": 0,
              "ticks": ""
             }
            },
            "marker": {
             "colorbar": {
              "outlinewidth": 0,
              "ticks": ""
             }
            },
            "type": "scatter3d"
           }
          ],
          "scattercarpet": [
           {
            "marker": {
             "colorbar": {
              "outlinewidth": 0,
              "ticks": ""
             }
            },
            "type": "scattercarpet"
           }
          ],
          "scattergeo": [
           {
            "marker": {
             "colorbar": {
              "outlinewidth": 0,
              "ticks": ""
             }
            },
            "type": "scattergeo"
           }
          ],
          "scattergl": [
           {
            "marker": {
             "colorbar": {
              "outlinewidth": 0,
              "ticks": ""
             }
            },
            "type": "scattergl"
           }
          ],
          "scattermapbox": [
           {
            "marker": {
             "colorbar": {
              "outlinewidth": 0,
              "ticks": ""
             }
            },
            "type": "scattermapbox"
           }
          ],
          "scatterpolar": [
           {
            "marker": {
             "colorbar": {
              "outlinewidth": 0,
              "ticks": ""
             }
            },
            "type": "scatterpolar"
           }
          ],
          "scatterpolargl": [
           {
            "marker": {
             "colorbar": {
              "outlinewidth": 0,
              "ticks": ""
             }
            },
            "type": "scatterpolargl"
           }
          ],
          "scatterternary": [
           {
            "marker": {
             "colorbar": {
              "outlinewidth": 0,
              "ticks": ""
             }
            },
            "type": "scatterternary"
           }
          ],
          "surface": [
           {
            "colorbar": {
             "outlinewidth": 0,
             "ticks": ""
            },
            "colorscale": [
             [
              0,
              "#0d0887"
             ],
             [
              0.1111111111111111,
              "#46039f"
             ],
             [
              0.2222222222222222,
              "#7201a8"
             ],
             [
              0.3333333333333333,
              "#9c179e"
             ],
             [
              0.4444444444444444,
              "#bd3786"
             ],
             [
              0.5555555555555556,
              "#d8576b"
             ],
             [
              0.6666666666666666,
              "#ed7953"
             ],
             [
              0.7777777777777778,
              "#fb9f3a"
             ],
             [
              0.8888888888888888,
              "#fdca26"
             ],
             [
              1,
              "#f0f921"
             ]
            ],
            "type": "surface"
           }
          ],
          "table": [
           {
            "cells": {
             "fill": {
              "color": "#EBF0F8"
             },
             "line": {
              "color": "white"
             }
            },
            "header": {
             "fill": {
              "color": "#C8D4E3"
             },
             "line": {
              "color": "white"
             }
            },
            "type": "table"
           }
          ]
         },
         "layout": {
          "annotationdefaults": {
           "arrowcolor": "#2a3f5f",
           "arrowhead": 0,
           "arrowwidth": 1
          },
          "autotypenumbers": "strict",
          "coloraxis": {
           "colorbar": {
            "outlinewidth": 0,
            "ticks": ""
           }
          },
          "colorscale": {
           "diverging": [
            [
             0,
             "#8e0152"
            ],
            [
             0.1,
             "#c51b7d"
            ],
            [
             0.2,
             "#de77ae"
            ],
            [
             0.3,
             "#f1b6da"
            ],
            [
             0.4,
             "#fde0ef"
            ],
            [
             0.5,
             "#f7f7f7"
            ],
            [
             0.6,
             "#e6f5d0"
            ],
            [
             0.7,
             "#b8e186"
            ],
            [
             0.8,
             "#7fbc41"
            ],
            [
             0.9,
             "#4d9221"
            ],
            [
             1,
             "#276419"
            ]
           ],
           "sequential": [
            [
             0,
             "#0d0887"
            ],
            [
             0.1111111111111111,
             "#46039f"
            ],
            [
             0.2222222222222222,
             "#7201a8"
            ],
            [
             0.3333333333333333,
             "#9c179e"
            ],
            [
             0.4444444444444444,
             "#bd3786"
            ],
            [
             0.5555555555555556,
             "#d8576b"
            ],
            [
             0.6666666666666666,
             "#ed7953"
            ],
            [
             0.7777777777777778,
             "#fb9f3a"
            ],
            [
             0.8888888888888888,
             "#fdca26"
            ],
            [
             1,
             "#f0f921"
            ]
           ],
           "sequentialminus": [
            [
             0,
             "#0d0887"
            ],
            [
             0.1111111111111111,
             "#46039f"
            ],
            [
             0.2222222222222222,
             "#7201a8"
            ],
            [
             0.3333333333333333,
             "#9c179e"
            ],
            [
             0.4444444444444444,
             "#bd3786"
            ],
            [
             0.5555555555555556,
             "#d8576b"
            ],
            [
             0.6666666666666666,
             "#ed7953"
            ],
            [
             0.7777777777777778,
             "#fb9f3a"
            ],
            [
             0.8888888888888888,
             "#fdca26"
            ],
            [
             1,
             "#f0f921"
            ]
           ]
          },
          "colorway": [
           "#636efa",
           "#EF553B",
           "#00cc96",
           "#ab63fa",
           "#FFA15A",
           "#19d3f3",
           "#FF6692",
           "#B6E880",
           "#FF97FF",
           "#FECB52"
          ],
          "font": {
           "color": "#2a3f5f"
          },
          "geo": {
           "bgcolor": "white",
           "lakecolor": "white",
           "landcolor": "#E5ECF6",
           "showlakes": true,
           "showland": true,
           "subunitcolor": "white"
          },
          "hoverlabel": {
           "align": "left"
          },
          "hovermode": "closest",
          "mapbox": {
           "style": "light"
          },
          "paper_bgcolor": "white",
          "plot_bgcolor": "#E5ECF6",
          "polar": {
           "angularaxis": {
            "gridcolor": "white",
            "linecolor": "white",
            "ticks": ""
           },
           "bgcolor": "#E5ECF6",
           "radialaxis": {
            "gridcolor": "white",
            "linecolor": "white",
            "ticks": ""
           }
          },
          "scene": {
           "xaxis": {
            "backgroundcolor": "#E5ECF6",
            "gridcolor": "white",
            "gridwidth": 2,
            "linecolor": "white",
            "showbackground": true,
            "ticks": "",
            "zerolinecolor": "white"
           },
           "yaxis": {
            "backgroundcolor": "#E5ECF6",
            "gridcolor": "white",
            "gridwidth": 2,
            "linecolor": "white",
            "showbackground": true,
            "ticks": "",
            "zerolinecolor": "white"
           },
           "zaxis": {
            "backgroundcolor": "#E5ECF6",
            "gridcolor": "white",
            "gridwidth": 2,
            "linecolor": "white",
            "showbackground": true,
            "ticks": "",
            "zerolinecolor": "white"
           }
          },
          "shapedefaults": {
           "line": {
            "color": "#2a3f5f"
           }
          },
          "ternary": {
           "aaxis": {
            "gridcolor": "white",
            "linecolor": "white",
            "ticks": ""
           },
           "baxis": {
            "gridcolor": "white",
            "linecolor": "white",
            "ticks": ""
           },
           "bgcolor": "#E5ECF6",
           "caxis": {
            "gridcolor": "white",
            "linecolor": "white",
            "ticks": ""
           }
          },
          "title": {
           "x": 0.05
          },
          "xaxis": {
           "automargin": true,
           "gridcolor": "white",
           "linecolor": "white",
           "ticks": "",
           "title": {
            "standoff": 15
           },
           "zerolinecolor": "white",
           "zerolinewidth": 2
          },
          "yaxis": {
           "automargin": true,
           "gridcolor": "white",
           "linecolor": "white",
           "ticks": "",
           "title": {
            "standoff": 15
           },
           "zerolinecolor": "white",
           "zerolinewidth": 2
          }
         }
        },
        "title": {
         "text": "Most Effective Players: Expected_xG vs Goals"
        },
        "width": 1200,
        "xaxis": {
         "autorange": "reversed",
         "title": {
          "text": "Expected_xG"
         }
        },
        "yaxis": {
         "title": {
          "text": "Goals"
         }
        }
       }
      }
     },
     "metadata": {},
     "output_type": "display_data"
    }
   ],
   "source": [
    "filtered_df = df_sh[(df_sh['Expected_xG'] >= 1) | (df_sh['Standard_Gls'] >= 1)]\n",
    "\n",
    "jitter_strength = 0.05\n",
    "filtered_df['Expected_xG'] += np.random.uniform(-jitter_strength, jitter_strength, size=filtered_df.shape[0])\n",
    "filtered_df['Standard_Gls'] += np.random.uniform(-jitter_strength, jitter_strength, size=filtered_df.shape[0])\n",
    "\n",
    "georgia_df = filtered_df[filtered_df['Squad'] == 'Georgia']\n",
    "other_teams_df = filtered_df[filtered_df['Squad'] != 'Georgia']\n",
    "\n",
    "sh_fig1 = go.Figure()\n",
    "\n",
    "sh_fig1.add_trace(go.Scatter(\n",
    "    x=other_teams_df['Expected_xG'],\n",
    "    y=other_teams_df['Standard_Gls'],\n",
    "    mode='markers',\n",
    "    marker=dict(\n",
    "        size=12,\n",
    "        color='#2c67c7',\n",
    "        line=dict(width=2, color='black')\n",
    "    ),\n",
    "    text=other_teams_df['Player'],\n",
    "    hoverinfo='text',\n",
    "    name='Other Teams'\n",
    "))\n",
    "\n",
    "sh_fig1.add_trace(go.Scatter(\n",
    "    x=georgia_df['Expected_xG'],\n",
    "    y=georgia_df['Standard_Gls'],\n",
    "    mode='markers',\n",
    "    marker=dict(\n",
    "        size=12,\n",
    "        color='#32e63e',\n",
    "        line=dict(width=2, color='black')\n",
    "    ),\n",
    "    text=georgia_df['Player'],\n",
    "    hoverinfo='text',\n",
    "    name='Georgia'\n",
    "))\n",
    "\n",
    "sh_fig1.update_layout(\n",
    "    title='Most Effective Players: Expected_xG vs Goals',\n",
    "    xaxis_title='Expected_xG',\n",
    "    yaxis_title='Goals',\n",
    "    xaxis=dict(autorange='reversed'),\n",
    "    showlegend=True,\n",
    "    width=1200,\n",
    "    height=800,\n",
    "    margin=dict(l=100, r=100, t=100, b=100)\n",
    ")\n",
    "\n",
    "for i, row in georgia_df.iterrows():\n",
    "    sh_fig1.add_annotation(\n",
    "        x=row['Expected_xG'],\n",
    "        y=row['Standard_Gls'],\n",
    "        text=row['Player'],\n",
    "        showarrow=True,\n",
    "        arrowhead=2,\n",
    "        ax=0,\n",
    "        ay=-40,\n",
    "        font=dict(size=12, color='black'),\n",
    "        bgcolor='white',\n",
    "        borderpad=4,\n",
    "        bordercolor='black'\n",
    "    )\n",
    "\n",
    "sh_fig1.write_html(\"sh_fig1.html\")\n",
    "sh_fig1.show()"
   ]
  },
  {
   "cell_type": "code",
   "execution_count": 57,
   "id": "d1161d14",
   "metadata": {},
   "outputs": [
    {
     "data": {
      "application/vnd.plotly.v1+json": {
       "config": {
        "plotlyServerURL": "https://plot.ly"
       },
       "data": [
        {
         "marker": {
          "color": "#32e63e",
          "line": {
           "color": "black",
           "width": 2
          },
          "opacity": 0.8,
          "size": 12
         },
         "mode": "markers",
         "type": "scatter",
         "x": [
          2,
          2,
          5,
          6,
          1,
          1,
          2,
          4,
          3,
          1
         ],
         "y": [
          0.1,
          0.1,
          0.3,
          1,
          0.2,
          0.1,
          0.1,
          2.3,
          0.2,
          0.1
         ]
        }
       ],
       "layout": {
        "annotations": [
         {
          "arrowhead": 2,
          "ax": 0,
          "ay": -40,
          "bgcolor": "white",
          "bordercolor": "black",
          "borderpad": 4,
          "font": {
           "color": "black",
           "size": 12
          },
          "showarrow": true,
          "text": "Giorgi Chakvetadze",
          "x": 2,
          "y": 0.1
         },
         {
          "arrowhead": 2,
          "ax": 0,
          "ay": -40,
          "bgcolor": "white",
          "bordercolor": "black",
          "borderpad": 4,
          "font": {
           "color": "black",
           "size": 12
          },
          "showarrow": true,
          "text": "Zuriko Davitashvili",
          "x": 2,
          "y": 0.1
         },
         {
          "arrowhead": 2,
          "ax": 0,
          "ay": -40,
          "bgcolor": "white",
          "bordercolor": "black",
          "borderpad": 4,
          "font": {
           "color": "black",
           "size": 12
          },
          "showarrow": true,
          "text": "Giorgi Kochorashvili",
          "x": 5,
          "y": 0.3
         },
         {
          "arrowhead": 2,
          "ax": 0,
          "ay": -40,
          "bgcolor": "white",
          "bordercolor": "black",
          "borderpad": 4,
          "font": {
           "color": "black",
           "size": 12
          },
          "showarrow": true,
          "text": "Khvicha Kvaratskhelia",
          "x": 6,
          "y": 1
         },
         {
          "arrowhead": 2,
          "ax": 0,
          "ay": -40,
          "bgcolor": "white",
          "bordercolor": "black",
          "borderpad": 4,
          "font": {
           "color": "black",
           "size": 12
          },
          "showarrow": true,
          "text": "Saba Lobzhanidze",
          "x": 1,
          "y": 0.2
         },
         {
          "arrowhead": 2,
          "ax": 0,
          "ay": -40,
          "bgcolor": "white",
          "bordercolor": "black",
          "borderpad": 4,
          "font": {
           "color": "black",
           "size": 12
          },
          "showarrow": true,
          "text": "Luka Lochoshvili",
          "x": 1,
          "y": 0.1
         },
         {
          "arrowhead": 2,
          "ax": 0,
          "ay": -40,
          "bgcolor": "white",
          "bordercolor": "black",
          "borderpad": 4,
          "font": {
           "color": "black",
           "size": 12
          },
          "showarrow": true,
          "text": "Anzor Mekvabishvili",
          "x": 2,
          "y": 0.1
         },
         {
          "arrowhead": 2,
          "ax": 0,
          "ay": -40,
          "bgcolor": "white",
          "bordercolor": "black",
          "borderpad": 4,
          "font": {
           "color": "black",
           "size": 12
          },
          "showarrow": true,
          "text": "Georges Mikautadze",
          "x": 4,
          "y": 2.3
         },
         {
          "arrowhead": 2,
          "ax": 0,
          "ay": -40,
          "bgcolor": "white",
          "bordercolor": "black",
          "borderpad": 4,
          "font": {
           "color": "black",
           "size": 12
          },
          "showarrow": true,
          "text": "Heorhii Tsitaishvili",
          "x": 3,
          "y": 0.2
         },
         {
          "arrowhead": 2,
          "ax": 0,
          "ay": -40,
          "bgcolor": "white",
          "bordercolor": "black",
          "borderpad": 4,
          "font": {
           "color": "black",
           "size": 12
          },
          "showarrow": true,
          "text": "Budu Zivzivadze",
          "x": 1,
          "y": 0.1
         }
        ],
        "height": 800,
        "margin": {
         "b": 100,
         "l": 100,
         "r": 100,
         "t": 100
        },
        "showlegend": false,
        "template": {
         "data": {
          "bar": [
           {
            "error_x": {
             "color": "#2a3f5f"
            },
            "error_y": {
             "color": "#2a3f5f"
            },
            "marker": {
             "line": {
              "color": "#E5ECF6",
              "width": 0.5
             },
             "pattern": {
              "fillmode": "overlay",
              "size": 10,
              "solidity": 0.2
             }
            },
            "type": "bar"
           }
          ],
          "barpolar": [
           {
            "marker": {
             "line": {
              "color": "#E5ECF6",
              "width": 0.5
             },
             "pattern": {
              "fillmode": "overlay",
              "size": 10,
              "solidity": 0.2
             }
            },
            "type": "barpolar"
           }
          ],
          "carpet": [
           {
            "aaxis": {
             "endlinecolor": "#2a3f5f",
             "gridcolor": "white",
             "linecolor": "white",
             "minorgridcolor": "white",
             "startlinecolor": "#2a3f5f"
            },
            "baxis": {
             "endlinecolor": "#2a3f5f",
             "gridcolor": "white",
             "linecolor": "white",
             "minorgridcolor": "white",
             "startlinecolor": "#2a3f5f"
            },
            "type": "carpet"
           }
          ],
          "choropleth": [
           {
            "colorbar": {
             "outlinewidth": 0,
             "ticks": ""
            },
            "type": "choropleth"
           }
          ],
          "contour": [
           {
            "colorbar": {
             "outlinewidth": 0,
             "ticks": ""
            },
            "colorscale": [
             [
              0,
              "#0d0887"
             ],
             [
              0.1111111111111111,
              "#46039f"
             ],
             [
              0.2222222222222222,
              "#7201a8"
             ],
             [
              0.3333333333333333,
              "#9c179e"
             ],
             [
              0.4444444444444444,
              "#bd3786"
             ],
             [
              0.5555555555555556,
              "#d8576b"
             ],
             [
              0.6666666666666666,
              "#ed7953"
             ],
             [
              0.7777777777777778,
              "#fb9f3a"
             ],
             [
              0.8888888888888888,
              "#fdca26"
             ],
             [
              1,
              "#f0f921"
             ]
            ],
            "type": "contour"
           }
          ],
          "contourcarpet": [
           {
            "colorbar": {
             "outlinewidth": 0,
             "ticks": ""
            },
            "type": "contourcarpet"
           }
          ],
          "heatmap": [
           {
            "colorbar": {
             "outlinewidth": 0,
             "ticks": ""
            },
            "colorscale": [
             [
              0,
              "#0d0887"
             ],
             [
              0.1111111111111111,
              "#46039f"
             ],
             [
              0.2222222222222222,
              "#7201a8"
             ],
             [
              0.3333333333333333,
              "#9c179e"
             ],
             [
              0.4444444444444444,
              "#bd3786"
             ],
             [
              0.5555555555555556,
              "#d8576b"
             ],
             [
              0.6666666666666666,
              "#ed7953"
             ],
             [
              0.7777777777777778,
              "#fb9f3a"
             ],
             [
              0.8888888888888888,
              "#fdca26"
             ],
             [
              1,
              "#f0f921"
             ]
            ],
            "type": "heatmap"
           }
          ],
          "heatmapgl": [
           {
            "colorbar": {
             "outlinewidth": 0,
             "ticks": ""
            },
            "colorscale": [
             [
              0,
              "#0d0887"
             ],
             [
              0.1111111111111111,
              "#46039f"
             ],
             [
              0.2222222222222222,
              "#7201a8"
             ],
             [
              0.3333333333333333,
              "#9c179e"
             ],
             [
              0.4444444444444444,
              "#bd3786"
             ],
             [
              0.5555555555555556,
              "#d8576b"
             ],
             [
              0.6666666666666666,
              "#ed7953"
             ],
             [
              0.7777777777777778,
              "#fb9f3a"
             ],
             [
              0.8888888888888888,
              "#fdca26"
             ],
             [
              1,
              "#f0f921"
             ]
            ],
            "type": "heatmapgl"
           }
          ],
          "histogram": [
           {
            "marker": {
             "pattern": {
              "fillmode": "overlay",
              "size": 10,
              "solidity": 0.2
             }
            },
            "type": "histogram"
           }
          ],
          "histogram2d": [
           {
            "colorbar": {
             "outlinewidth": 0,
             "ticks": ""
            },
            "colorscale": [
             [
              0,
              "#0d0887"
             ],
             [
              0.1111111111111111,
              "#46039f"
             ],
             [
              0.2222222222222222,
              "#7201a8"
             ],
             [
              0.3333333333333333,
              "#9c179e"
             ],
             [
              0.4444444444444444,
              "#bd3786"
             ],
             [
              0.5555555555555556,
              "#d8576b"
             ],
             [
              0.6666666666666666,
              "#ed7953"
             ],
             [
              0.7777777777777778,
              "#fb9f3a"
             ],
             [
              0.8888888888888888,
              "#fdca26"
             ],
             [
              1,
              "#f0f921"
             ]
            ],
            "type": "histogram2d"
           }
          ],
          "histogram2dcontour": [
           {
            "colorbar": {
             "outlinewidth": 0,
             "ticks": ""
            },
            "colorscale": [
             [
              0,
              "#0d0887"
             ],
             [
              0.1111111111111111,
              "#46039f"
             ],
             [
              0.2222222222222222,
              "#7201a8"
             ],
             [
              0.3333333333333333,
              "#9c179e"
             ],
             [
              0.4444444444444444,
              "#bd3786"
             ],
             [
              0.5555555555555556,
              "#d8576b"
             ],
             [
              0.6666666666666666,
              "#ed7953"
             ],
             [
              0.7777777777777778,
              "#fb9f3a"
             ],
             [
              0.8888888888888888,
              "#fdca26"
             ],
             [
              1,
              "#f0f921"
             ]
            ],
            "type": "histogram2dcontour"
           }
          ],
          "mesh3d": [
           {
            "colorbar": {
             "outlinewidth": 0,
             "ticks": ""
            },
            "type": "mesh3d"
           }
          ],
          "parcoords": [
           {
            "line": {
             "colorbar": {
              "outlinewidth": 0,
              "ticks": ""
             }
            },
            "type": "parcoords"
           }
          ],
          "pie": [
           {
            "automargin": true,
            "type": "pie"
           }
          ],
          "scatter": [
           {
            "fillpattern": {
             "fillmode": "overlay",
             "size": 10,
             "solidity": 0.2
            },
            "type": "scatter"
           }
          ],
          "scatter3d": [
           {
            "line": {
             "colorbar": {
              "outlinewidth": 0,
              "ticks": ""
             }
            },
            "marker": {
             "colorbar": {
              "outlinewidth": 0,
              "ticks": ""
             }
            },
            "type": "scatter3d"
           }
          ],
          "scattercarpet": [
           {
            "marker": {
             "colorbar": {
              "outlinewidth": 0,
              "ticks": ""
             }
            },
            "type": "scattercarpet"
           }
          ],
          "scattergeo": [
           {
            "marker": {
             "colorbar": {
              "outlinewidth": 0,
              "ticks": ""
             }
            },
            "type": "scattergeo"
           }
          ],
          "scattergl": [
           {
            "marker": {
             "colorbar": {
              "outlinewidth": 0,
              "ticks": ""
             }
            },
            "type": "scattergl"
           }
          ],
          "scattermapbox": [
           {
            "marker": {
             "colorbar": {
              "outlinewidth": 0,
              "ticks": ""
             }
            },
            "type": "scattermapbox"
           }
          ],
          "scatterpolar": [
           {
            "marker": {
             "colorbar": {
              "outlinewidth": 0,
              "ticks": ""
             }
            },
            "type": "scatterpolar"
           }
          ],
          "scatterpolargl": [
           {
            "marker": {
             "colorbar": {
              "outlinewidth": 0,
              "ticks": ""
             }
            },
            "type": "scatterpolargl"
           }
          ],
          "scatterternary": [
           {
            "marker": {
             "colorbar": {
              "outlinewidth": 0,
              "ticks": ""
             }
            },
            "type": "scatterternary"
           }
          ],
          "surface": [
           {
            "colorbar": {
             "outlinewidth": 0,
             "ticks": ""
            },
            "colorscale": [
             [
              0,
              "#0d0887"
             ],
             [
              0.1111111111111111,
              "#46039f"
             ],
             [
              0.2222222222222222,
              "#7201a8"
             ],
             [
              0.3333333333333333,
              "#9c179e"
             ],
             [
              0.4444444444444444,
              "#bd3786"
             ],
             [
              0.5555555555555556,
              "#d8576b"
             ],
             [
              0.6666666666666666,
              "#ed7953"
             ],
             [
              0.7777777777777778,
              "#fb9f3a"
             ],
             [
              0.8888888888888888,
              "#fdca26"
             ],
             [
              1,
              "#f0f921"
             ]
            ],
            "type": "surface"
           }
          ],
          "table": [
           {
            "cells": {
             "fill": {
              "color": "#EBF0F8"
             },
             "line": {
              "color": "white"
             }
            },
            "header": {
             "fill": {
              "color": "#C8D4E3"
             },
             "line": {
              "color": "white"
             }
            },
            "type": "table"
           }
          ]
         },
         "layout": {
          "annotationdefaults": {
           "arrowcolor": "#2a3f5f",
           "arrowhead": 0,
           "arrowwidth": 1
          },
          "autotypenumbers": "strict",
          "coloraxis": {
           "colorbar": {
            "outlinewidth": 0,
            "ticks": ""
           }
          },
          "colorscale": {
           "diverging": [
            [
             0,
             "#8e0152"
            ],
            [
             0.1,
             "#c51b7d"
            ],
            [
             0.2,
             "#de77ae"
            ],
            [
             0.3,
             "#f1b6da"
            ],
            [
             0.4,
             "#fde0ef"
            ],
            [
             0.5,
             "#f7f7f7"
            ],
            [
             0.6,
             "#e6f5d0"
            ],
            [
             0.7,
             "#b8e186"
            ],
            [
             0.8,
             "#7fbc41"
            ],
            [
             0.9,
             "#4d9221"
            ],
            [
             1,
             "#276419"
            ]
           ],
           "sequential": [
            [
             0,
             "#0d0887"
            ],
            [
             0.1111111111111111,
             "#46039f"
            ],
            [
             0.2222222222222222,
             "#7201a8"
            ],
            [
             0.3333333333333333,
             "#9c179e"
            ],
            [
             0.4444444444444444,
             "#bd3786"
            ],
            [
             0.5555555555555556,
             "#d8576b"
            ],
            [
             0.6666666666666666,
             "#ed7953"
            ],
            [
             0.7777777777777778,
             "#fb9f3a"
            ],
            [
             0.8888888888888888,
             "#fdca26"
            ],
            [
             1,
             "#f0f921"
            ]
           ],
           "sequentialminus": [
            [
             0,
             "#0d0887"
            ],
            [
             0.1111111111111111,
             "#46039f"
            ],
            [
             0.2222222222222222,
             "#7201a8"
            ],
            [
             0.3333333333333333,
             "#9c179e"
            ],
            [
             0.4444444444444444,
             "#bd3786"
            ],
            [
             0.5555555555555556,
             "#d8576b"
            ],
            [
             0.6666666666666666,
             "#ed7953"
            ],
            [
             0.7777777777777778,
             "#fb9f3a"
            ],
            [
             0.8888888888888888,
             "#fdca26"
            ],
            [
             1,
             "#f0f921"
            ]
           ]
          },
          "colorway": [
           "#636efa",
           "#EF553B",
           "#00cc96",
           "#ab63fa",
           "#FFA15A",
           "#19d3f3",
           "#FF6692",
           "#B6E880",
           "#FF97FF",
           "#FECB52"
          ],
          "font": {
           "color": "#2a3f5f"
          },
          "geo": {
           "bgcolor": "white",
           "lakecolor": "white",
           "landcolor": "#E5ECF6",
           "showlakes": true,
           "showland": true,
           "subunitcolor": "white"
          },
          "hoverlabel": {
           "align": "left"
          },
          "hovermode": "closest",
          "mapbox": {
           "style": "light"
          },
          "paper_bgcolor": "white",
          "plot_bgcolor": "#E5ECF6",
          "polar": {
           "angularaxis": {
            "gridcolor": "white",
            "linecolor": "white",
            "ticks": ""
           },
           "bgcolor": "#E5ECF6",
           "radialaxis": {
            "gridcolor": "white",
            "linecolor": "white",
            "ticks": ""
           }
          },
          "scene": {
           "xaxis": {
            "backgroundcolor": "#E5ECF6",
            "gridcolor": "white",
            "gridwidth": 2,
            "linecolor": "white",
            "showbackground": true,
            "ticks": "",
            "zerolinecolor": "white"
           },
           "yaxis": {
            "backgroundcolor": "#E5ECF6",
            "gridcolor": "white",
            "gridwidth": 2,
            "linecolor": "white",
            "showbackground": true,
            "ticks": "",
            "zerolinecolor": "white"
           },
           "zaxis": {
            "backgroundcolor": "#E5ECF6",
            "gridcolor": "white",
            "gridwidth": 2,
            "linecolor": "white",
            "showbackground": true,
            "ticks": "",
            "zerolinecolor": "white"
           }
          },
          "shapedefaults": {
           "line": {
            "color": "#2a3f5f"
           }
          },
          "ternary": {
           "aaxis": {
            "gridcolor": "white",
            "linecolor": "white",
            "ticks": ""
           },
           "baxis": {
            "gridcolor": "white",
            "linecolor": "white",
            "ticks": ""
           },
           "bgcolor": "#E5ECF6",
           "caxis": {
            "gridcolor": "white",
            "linecolor": "white",
            "ticks": ""
           }
          },
          "title": {
           "x": 0.05
          },
          "xaxis": {
           "automargin": true,
           "gridcolor": "white",
           "linecolor": "white",
           "ticks": "",
           "title": {
            "standoff": 15
           },
           "zerolinecolor": "white",
           "zerolinewidth": 2
          },
          "yaxis": {
           "automargin": true,
           "gridcolor": "white",
           "linecolor": "white",
           "ticks": "",
           "title": {
            "standoff": 15
           },
           "zerolinecolor": "white",
           "zerolinewidth": 2
          }
         }
        },
        "title": {
         "text": "Georgian Players: Shots vs Expected Goals (xG)"
        },
        "width": 1200,
        "xaxis": {
         "ticktext": [
          "0",
          "5"
         ],
         "tickvals": [
          0,
          5
         ],
         "title": {
          "text": "Shots"
         }
        },
        "yaxis": {
         "ticktext": [
          "0",
          "1",
          "2"
         ],
         "tickvals": [
          0,
          1,
          2
         ],
         "title": {
          "text": "Expected Goals (xG)"
         }
        }
       }
      }
     },
     "metadata": {},
     "output_type": "display_data"
    }
   ],
   "source": [
    "# precondition: filtering out players with 0 xG\n",
    "georgian_players = df_sh[(df_sh['Squad'] == 'Georgia') & (df_sh['Expected_xG'] > 0)]\n",
    "\n",
    "# plotting\n",
    "sh_fig2 = go.Figure()\n",
    "\n",
    "sh_fig2.add_trace(go.Scatter(\n",
    "    x=georgian_players['Standard_Sh'],\n",
    "    y=georgian_players['Expected_xG'],\n",
    "    mode='markers',\n",
    "    marker=dict(\n",
    "        size=12,\n",
    "        color='#32e63e', \n",
    "        opacity=0.8,\n",
    "        line=dict(\n",
    "            width=2,\n",
    "            color='black'\n",
    "        )\n",
    "    )\n",
    "))\n",
    "\n",
    "sh_fig2.update_layout(\n",
    "    title='Georgian Players: Shots vs Expected Goals (xG)',\n",
    "    xaxis_title='Shots',\n",
    "    yaxis_title='Expected Goals (xG)',\n",
    "    width=1200,\n",
    "    height=800,\n",
    "    xaxis=dict(\n",
    "        tickvals=list(range(0, int(georgian_players['Standard_Sh'].max()) + 1, 5)),\n",
    "        ticktext=[str(i) for i in range(0, int(georgian_players['Standard_Sh'].max()) + 1, 5)]\n",
    "    ),\n",
    "    yaxis=dict(\n",
    "        tickvals=list(range(0, int(georgian_players['Expected_xG'].max()) + 1, 1)),\n",
    "        ticktext=[str(i) for i in range(0, int(georgian_players['Expected_xG'].max()) + 1, 1)]\n",
    "    ),\n",
    "    margin=dict(l=100, r=100, t=100, b=100),\n",
    "    showlegend=False\n",
    ")\n",
    "\n",
    "for i, row in georgian_players.iterrows():\n",
    "    sh_fig2.add_annotation(\n",
    "        x=row['Standard_Sh'],\n",
    "        y=row['Expected_xG'],\n",
    "        text=row['Player'],\n",
    "        showarrow=True,\n",
    "        arrowhead=2,\n",
    "        ax=0,\n",
    "        ay=-40,\n",
    "        font=dict(size=12, color='black'),\n",
    "        bgcolor='white',\n",
    "        borderpad=4,\n",
    "        bordercolor='black'\n",
    "    )\n",
    "\n",
    "sh_fig2.write_html(\"sh_fig2.html\")\n",
    "sh_fig2.show()"
   ]
  },
  {
   "cell_type": "code",
   "execution_count": 58,
   "id": "f195224e",
   "metadata": {},
   "outputs": [
    {
     "data": {
      "application/vnd.plotly.v1+json": {
       "config": {
        "plotlyServerURL": "https://plot.ly"
       },
       "data": [
        {
         "marker": {
          "color": "rgb(255, 20, 20)"
         },
         "name": "Spain",
         "orientation": "h",
         "showlegend": false,
         "type": "bar",
         "x": [
          16.644444444444446
         ],
         "y": [
          "Spain"
         ]
        },
        {
         "marker": {
          "color": "rgb(255, 27, 27)"
         },
         "name": "Germany",
         "orientation": "h",
         "showlegend": false,
         "type": "bar",
         "x": [
          18.94736842105263
         ],
         "y": [
          "Germany"
         ]
        },
        {
         "marker": {
          "color": "rgb(255, 35, 35)"
         },
         "name": "Netherlands",
         "orientation": "h",
         "showlegend": false,
         "type": "bar",
         "x": [
          15.72857142857143
         ],
         "y": [
          "Netherlands"
         ]
        },
        {
         "marker": {
          "color": "rgb(255, 43, 43)"
         },
         "name": " England",
         "orientation": "h",
         "showlegend": false,
         "type": "bar",
         "x": [
          18.157142857142855
         ],
         "y": [
          " England"
         ]
        },
        {
         "marker": {
          "color": "rgb(255, 51, 51)"
         },
         "name": "Türkiye",
         "orientation": "h",
         "showlegend": false,
         "type": "bar",
         "x": [
          17.894736842105264
         ],
         "y": [
          "Türkiye"
         ]
        },
        {
         "marker": {
          "color": "rgb(255, 59, 59)"
         },
         "name": "Switzerland",
         "orientation": "h",
         "showlegend": false,
         "type": "bar",
         "x": [
          19.19333333333333
         ],
         "y": [
          "Switzerland"
         ]
        },
        {
         "marker": {
          "color": "rgb(255, 66, 66)"
         },
         "name": "Austria",
         "orientation": "h",
         "showlegend": false,
         "type": "bar",
         "x": [
          15.53076923076923
         ],
         "y": [
          "Austria"
         ]
        },
        {
         "marker": {
          "color": "rgb(255, 74, 74)"
         },
         "name": "Slovakia",
         "orientation": "h",
         "showlegend": false,
         "type": "bar",
         "x": [
          20.07857142857143
         ],
         "y": [
          "Slovakia"
         ]
        },
        {
         "marker": {
          "color": "rgb(255, 82, 82)"
         },
         "name": "Romania",
         "orientation": "h",
         "showlegend": false,
         "type": "bar",
         "x": [
          20.063636363636363
         ],
         "y": [
          "Romania"
         ]
        },
        {
         "marker": {
          "color": "#329952"
         },
         "name": "Georgia",
         "orientation": "h",
         "showlegend": false,
         "type": "bar",
         "x": [
          17.827272727272728
         ],
         "y": [
          "Georgia"
         ]
        },
        {
         "marker": {
          "color": "rgb(255, 98, 98)"
         },
         "name": "Portugal",
         "orientation": "h",
         "showlegend": false,
         "type": "bar",
         "x": [
          15.518181818181818
         ],
         "y": [
          "Portugal"
         ]
        },
        {
         "marker": {
          "color": "rgb(255, 106, 106)"
         },
         "name": "Poland",
         "orientation": "h",
         "showlegend": false,
         "type": "bar",
         "x": [
          19.19333333333333
         ],
         "y": [
          "Poland"
         ]
        },
        {
         "marker": {
          "color": "rgb(255, 113, 113)"
         },
         "name": "Italy",
         "orientation": "h",
         "showlegend": false,
         "type": "bar",
         "x": [
          17.264285714285712
         ],
         "y": [
          "Italy"
         ]
        },
        {
         "marker": {
          "color": "rgb(255, 121, 121)"
         },
         "name": "Czechia",
         "orientation": "h",
         "showlegend": false,
         "type": "bar",
         "x": [
          16.71333333333333
         ],
         "y": [
          "Czechia"
         ]
        },
        {
         "marker": {
          "color": "rgb(255, 129, 129)"
         },
         "name": "Albania",
         "orientation": "h",
         "showlegend": false,
         "type": "bar",
         "x": [
          18.514285714285712
         ],
         "y": [
          "Albania"
         ]
        },
        {
         "marker": {
          "color": "rgb(255, 137, 137)"
         },
         "name": "Hungary",
         "orientation": "h",
         "showlegend": false,
         "type": "bar",
         "x": [
          16.18
         ],
         "y": [
          "Hungary"
         ]
        },
        {
         "marker": {
          "color": "rgb(255, 145, 145)"
         },
         "name": "France",
         "orientation": "h",
         "showlegend": false,
         "type": "bar",
         "x": [
          16.787499999999998
         ],
         "y": [
          "France"
         ]
        },
        {
         "marker": {
          "color": "rgb(255, 153, 153)"
         },
         "name": "Denmark",
         "orientation": "h",
         "showlegend": false,
         "type": "bar",
         "x": [
          16.35
         ],
         "y": [
          "Denmark"
         ]
        },
        {
         "marker": {
          "color": "rgb(255, 160, 160)"
         },
         "name": "Slovenia",
         "orientation": "h",
         "showlegend": false,
         "type": "bar",
         "x": [
          21.676923076923078
         ],
         "y": [
          "Slovenia"
         ]
        },
        {
         "marker": {
          "color": "rgb(255, 168, 168)"
         },
         "name": "Croatia",
         "orientation": "h",
         "showlegend": false,
         "type": "bar",
         "x": [
          14.685714285714285
         ],
         "y": [
          "Croatia"
         ]
        },
        {
         "marker": {
          "color": "rgb(255, 176, 176)"
         },
         "name": "Belgium",
         "orientation": "h",
         "showlegend": false,
         "type": "bar",
         "x": [
          18.39090909090909
         ],
         "y": [
          "Belgium"
         ]
        },
        {
         "marker": {
          "color": "rgb(255, 184, 184)"
         },
         "name": "Ukraine",
         "orientation": "h",
         "showlegend": false,
         "type": "bar",
         "x": [
          19.154545454545453
         ],
         "y": [
          "Ukraine"
         ]
        },
        {
         "marker": {
          "color": "rgb(255, 192, 192)"
         },
         "name": " Scotland",
         "orientation": "h",
         "showlegend": false,
         "type": "bar",
         "x": [
          15.866666666666667
         ],
         "y": [
          " Scotland"
         ]
        },
        {
         "marker": {
          "color": "rgb(255, 200, 200)"
         },
         "name": "Serbia",
         "orientation": "h",
         "showlegend": false,
         "type": "bar",
         "x": [
          18.044444444444444
         ],
         "y": [
          "Serbia"
         ]
        }
       ],
       "layout": {
        "barmode": "stack",
        "height": 800,
        "shapes": [
         {
          "line": {
           "color": "black",
           "dash": "dash"
          },
          "type": "line",
          "x0": 16,
          "x1": 16,
          "xref": "x",
          "y0": -0.5,
          "y1": 23.5,
          "yref": "y"
         }
        ],
        "template": {
         "data": {
          "bar": [
           {
            "error_x": {
             "color": "#2a3f5f"
            },
            "error_y": {
             "color": "#2a3f5f"
            },
            "marker": {
             "line": {
              "color": "#E5ECF6",
              "width": 0.5
             },
             "pattern": {
              "fillmode": "overlay",
              "size": 10,
              "solidity": 0.2
             }
            },
            "type": "bar"
           }
          ],
          "barpolar": [
           {
            "marker": {
             "line": {
              "color": "#E5ECF6",
              "width": 0.5
             },
             "pattern": {
              "fillmode": "overlay",
              "size": 10,
              "solidity": 0.2
             }
            },
            "type": "barpolar"
           }
          ],
          "carpet": [
           {
            "aaxis": {
             "endlinecolor": "#2a3f5f",
             "gridcolor": "white",
             "linecolor": "white",
             "minorgridcolor": "white",
             "startlinecolor": "#2a3f5f"
            },
            "baxis": {
             "endlinecolor": "#2a3f5f",
             "gridcolor": "white",
             "linecolor": "white",
             "minorgridcolor": "white",
             "startlinecolor": "#2a3f5f"
            },
            "type": "carpet"
           }
          ],
          "choropleth": [
           {
            "colorbar": {
             "outlinewidth": 0,
             "ticks": ""
            },
            "type": "choropleth"
           }
          ],
          "contour": [
           {
            "colorbar": {
             "outlinewidth": 0,
             "ticks": ""
            },
            "colorscale": [
             [
              0,
              "#0d0887"
             ],
             [
              0.1111111111111111,
              "#46039f"
             ],
             [
              0.2222222222222222,
              "#7201a8"
             ],
             [
              0.3333333333333333,
              "#9c179e"
             ],
             [
              0.4444444444444444,
              "#bd3786"
             ],
             [
              0.5555555555555556,
              "#d8576b"
             ],
             [
              0.6666666666666666,
              "#ed7953"
             ],
             [
              0.7777777777777778,
              "#fb9f3a"
             ],
             [
              0.8888888888888888,
              "#fdca26"
             ],
             [
              1,
              "#f0f921"
             ]
            ],
            "type": "contour"
           }
          ],
          "contourcarpet": [
           {
            "colorbar": {
             "outlinewidth": 0,
             "ticks": ""
            },
            "type": "contourcarpet"
           }
          ],
          "heatmap": [
           {
            "colorbar": {
             "outlinewidth": 0,
             "ticks": ""
            },
            "colorscale": [
             [
              0,
              "#0d0887"
             ],
             [
              0.1111111111111111,
              "#46039f"
             ],
             [
              0.2222222222222222,
              "#7201a8"
             ],
             [
              0.3333333333333333,
              "#9c179e"
             ],
             [
              0.4444444444444444,
              "#bd3786"
             ],
             [
              0.5555555555555556,
              "#d8576b"
             ],
             [
              0.6666666666666666,
              "#ed7953"
             ],
             [
              0.7777777777777778,
              "#fb9f3a"
             ],
             [
              0.8888888888888888,
              "#fdca26"
             ],
             [
              1,
              "#f0f921"
             ]
            ],
            "type": "heatmap"
           }
          ],
          "heatmapgl": [
           {
            "colorbar": {
             "outlinewidth": 0,
             "ticks": ""
            },
            "colorscale": [
             [
              0,
              "#0d0887"
             ],
             [
              0.1111111111111111,
              "#46039f"
             ],
             [
              0.2222222222222222,
              "#7201a8"
             ],
             [
              0.3333333333333333,
              "#9c179e"
             ],
             [
              0.4444444444444444,
              "#bd3786"
             ],
             [
              0.5555555555555556,
              "#d8576b"
             ],
             [
              0.6666666666666666,
              "#ed7953"
             ],
             [
              0.7777777777777778,
              "#fb9f3a"
             ],
             [
              0.8888888888888888,
              "#fdca26"
             ],
             [
              1,
              "#f0f921"
             ]
            ],
            "type": "heatmapgl"
           }
          ],
          "histogram": [
           {
            "marker": {
             "pattern": {
              "fillmode": "overlay",
              "size": 10,
              "solidity": 0.2
             }
            },
            "type": "histogram"
           }
          ],
          "histogram2d": [
           {
            "colorbar": {
             "outlinewidth": 0,
             "ticks": ""
            },
            "colorscale": [
             [
              0,
              "#0d0887"
             ],
             [
              0.1111111111111111,
              "#46039f"
             ],
             [
              0.2222222222222222,
              "#7201a8"
             ],
             [
              0.3333333333333333,
              "#9c179e"
             ],
             [
              0.4444444444444444,
              "#bd3786"
             ],
             [
              0.5555555555555556,
              "#d8576b"
             ],
             [
              0.6666666666666666,
              "#ed7953"
             ],
             [
              0.7777777777777778,
              "#fb9f3a"
             ],
             [
              0.8888888888888888,
              "#fdca26"
             ],
             [
              1,
              "#f0f921"
             ]
            ],
            "type": "histogram2d"
           }
          ],
          "histogram2dcontour": [
           {
            "colorbar": {
             "outlinewidth": 0,
             "ticks": ""
            },
            "colorscale": [
             [
              0,
              "#0d0887"
             ],
             [
              0.1111111111111111,
              "#46039f"
             ],
             [
              0.2222222222222222,
              "#7201a8"
             ],
             [
              0.3333333333333333,
              "#9c179e"
             ],
             [
              0.4444444444444444,
              "#bd3786"
             ],
             [
              0.5555555555555556,
              "#d8576b"
             ],
             [
              0.6666666666666666,
              "#ed7953"
             ],
             [
              0.7777777777777778,
              "#fb9f3a"
             ],
             [
              0.8888888888888888,
              "#fdca26"
             ],
             [
              1,
              "#f0f921"
             ]
            ],
            "type": "histogram2dcontour"
           }
          ],
          "mesh3d": [
           {
            "colorbar": {
             "outlinewidth": 0,
             "ticks": ""
            },
            "type": "mesh3d"
           }
          ],
          "parcoords": [
           {
            "line": {
             "colorbar": {
              "outlinewidth": 0,
              "ticks": ""
             }
            },
            "type": "parcoords"
           }
          ],
          "pie": [
           {
            "automargin": true,
            "type": "pie"
           }
          ],
          "scatter": [
           {
            "fillpattern": {
             "fillmode": "overlay",
             "size": 10,
             "solidity": 0.2
            },
            "type": "scatter"
           }
          ],
          "scatter3d": [
           {
            "line": {
             "colorbar": {
              "outlinewidth": 0,
              "ticks": ""
             }
            },
            "marker": {
             "colorbar": {
              "outlinewidth": 0,
              "ticks": ""
             }
            },
            "type": "scatter3d"
           }
          ],
          "scattercarpet": [
           {
            "marker": {
             "colorbar": {
              "outlinewidth": 0,
              "ticks": ""
             }
            },
            "type": "scattercarpet"
           }
          ],
          "scattergeo": [
           {
            "marker": {
             "colorbar": {
              "outlinewidth": 0,
              "ticks": ""
             }
            },
            "type": "scattergeo"
           }
          ],
          "scattergl": [
           {
            "marker": {
             "colorbar": {
              "outlinewidth": 0,
              "ticks": ""
             }
            },
            "type": "scattergl"
           }
          ],
          "scattermapbox": [
           {
            "marker": {
             "colorbar": {
              "outlinewidth": 0,
              "ticks": ""
             }
            },
            "type": "scattermapbox"
           }
          ],
          "scatterpolar": [
           {
            "marker": {
             "colorbar": {
              "outlinewidth": 0,
              "ticks": ""
             }
            },
            "type": "scatterpolar"
           }
          ],
          "scatterpolargl": [
           {
            "marker": {
             "colorbar": {
              "outlinewidth": 0,
              "ticks": ""
             }
            },
            "type": "scatterpolargl"
           }
          ],
          "scatterternary": [
           {
            "marker": {
             "colorbar": {
              "outlinewidth": 0,
              "ticks": ""
             }
            },
            "type": "scatterternary"
           }
          ],
          "surface": [
           {
            "colorbar": {
             "outlinewidth": 0,
             "ticks": ""
            },
            "colorscale": [
             [
              0,
              "#0d0887"
             ],
             [
              0.1111111111111111,
              "#46039f"
             ],
             [
              0.2222222222222222,
              "#7201a8"
             ],
             [
              0.3333333333333333,
              "#9c179e"
             ],
             [
              0.4444444444444444,
              "#bd3786"
             ],
             [
              0.5555555555555556,
              "#d8576b"
             ],
             [
              0.6666666666666666,
              "#ed7953"
             ],
             [
              0.7777777777777778,
              "#fb9f3a"
             ],
             [
              0.8888888888888888,
              "#fdca26"
             ],
             [
              1,
              "#f0f921"
             ]
            ],
            "type": "surface"
           }
          ],
          "table": [
           {
            "cells": {
             "fill": {
              "color": "#EBF0F8"
             },
             "line": {
              "color": "white"
             }
            },
            "header": {
             "fill": {
              "color": "#C8D4E3"
             },
             "line": {
              "color": "white"
             }
            },
            "type": "table"
           }
          ]
         },
         "layout": {
          "annotationdefaults": {
           "arrowcolor": "#2a3f5f",
           "arrowhead": 0,
           "arrowwidth": 1
          },
          "autotypenumbers": "strict",
          "coloraxis": {
           "colorbar": {
            "outlinewidth": 0,
            "ticks": ""
           }
          },
          "colorscale": {
           "diverging": [
            [
             0,
             "#8e0152"
            ],
            [
             0.1,
             "#c51b7d"
            ],
            [
             0.2,
             "#de77ae"
            ],
            [
             0.3,
             "#f1b6da"
            ],
            [
             0.4,
             "#fde0ef"
            ],
            [
             0.5,
             "#f7f7f7"
            ],
            [
             0.6,
             "#e6f5d0"
            ],
            [
             0.7,
             "#b8e186"
            ],
            [
             0.8,
             "#7fbc41"
            ],
            [
             0.9,
             "#4d9221"
            ],
            [
             1,
             "#276419"
            ]
           ],
           "sequential": [
            [
             0,
             "#0d0887"
            ],
            [
             0.1111111111111111,
             "#46039f"
            ],
            [
             0.2222222222222222,
             "#7201a8"
            ],
            [
             0.3333333333333333,
             "#9c179e"
            ],
            [
             0.4444444444444444,
             "#bd3786"
            ],
            [
             0.5555555555555556,
             "#d8576b"
            ],
            [
             0.6666666666666666,
             "#ed7953"
            ],
            [
             0.7777777777777778,
             "#fb9f3a"
            ],
            [
             0.8888888888888888,
             "#fdca26"
            ],
            [
             1,
             "#f0f921"
            ]
           ],
           "sequentialminus": [
            [
             0,
             "#0d0887"
            ],
            [
             0.1111111111111111,
             "#46039f"
            ],
            [
             0.2222222222222222,
             "#7201a8"
            ],
            [
             0.3333333333333333,
             "#9c179e"
            ],
            [
             0.4444444444444444,
             "#bd3786"
            ],
            [
             0.5555555555555556,
             "#d8576b"
            ],
            [
             0.6666666666666666,
             "#ed7953"
            ],
            [
             0.7777777777777778,
             "#fb9f3a"
            ],
            [
             0.8888888888888888,
             "#fdca26"
            ],
            [
             1,
             "#f0f921"
            ]
           ]
          },
          "colorway": [
           "#636efa",
           "#EF553B",
           "#00cc96",
           "#ab63fa",
           "#FFA15A",
           "#19d3f3",
           "#FF6692",
           "#B6E880",
           "#FF97FF",
           "#FECB52"
          ],
          "font": {
           "color": "#2a3f5f"
          },
          "geo": {
           "bgcolor": "white",
           "lakecolor": "white",
           "landcolor": "#E5ECF6",
           "showlakes": true,
           "showland": true,
           "subunitcolor": "white"
          },
          "hoverlabel": {
           "align": "left"
          },
          "hovermode": "closest",
          "mapbox": {
           "style": "light"
          },
          "paper_bgcolor": "white",
          "plot_bgcolor": "#E5ECF6",
          "polar": {
           "angularaxis": {
            "gridcolor": "white",
            "linecolor": "white",
            "ticks": ""
           },
           "bgcolor": "#E5ECF6",
           "radialaxis": {
            "gridcolor": "white",
            "linecolor": "white",
            "ticks": ""
           }
          },
          "scene": {
           "xaxis": {
            "backgroundcolor": "#E5ECF6",
            "gridcolor": "white",
            "gridwidth": 2,
            "linecolor": "white",
            "showbackground": true,
            "ticks": "",
            "zerolinecolor": "white"
           },
           "yaxis": {
            "backgroundcolor": "#E5ECF6",
            "gridcolor": "white",
            "gridwidth": 2,
            "linecolor": "white",
            "showbackground": true,
            "ticks": "",
            "zerolinecolor": "white"
           },
           "zaxis": {
            "backgroundcolor": "#E5ECF6",
            "gridcolor": "white",
            "gridwidth": 2,
            "linecolor": "white",
            "showbackground": true,
            "ticks": "",
            "zerolinecolor": "white"
           }
          },
          "shapedefaults": {
           "line": {
            "color": "#2a3f5f"
           }
          },
          "ternary": {
           "aaxis": {
            "gridcolor": "white",
            "linecolor": "white",
            "ticks": ""
           },
           "baxis": {
            "gridcolor": "white",
            "linecolor": "white",
            "ticks": ""
           },
           "bgcolor": "#E5ECF6",
           "caxis": {
            "gridcolor": "white",
            "linecolor": "white",
            "ticks": ""
           }
          },
          "title": {
           "x": 0.05
          },
          "xaxis": {
           "automargin": true,
           "gridcolor": "white",
           "linecolor": "white",
           "ticks": "",
           "title": {
            "standoff": 15
           },
           "zerolinecolor": "white",
           "zerolinewidth": 2
          },
          "yaxis": {
           "automargin": true,
           "gridcolor": "white",
           "linecolor": "white",
           "ticks": "",
           "title": {
            "standoff": 15
           },
           "zerolinecolor": "white",
           "zerolinewidth": 2
          }
         }
        },
        "title": {
         "text": "Average Shot Distance by Team"
        },
        "width": 1000,
        "xaxis": {
         "ticktext": [
          "Penalty Area"
         ],
         "tickvals": [
          16
         ],
         "title": {
          "text": "Average Shot Distance"
         }
        },
        "yaxis": {
         "autorange": "reversed",
         "ticktext": [
          "Spain",
          "Germany",
          "Netherlands",
          " England",
          "Türkiye",
          "Switzerland",
          "Austria",
          "Slovakia",
          "Romania",
          "Georgia",
          "Portugal",
          "Poland",
          "Italy",
          "Czechia",
          "Albania",
          "Hungary",
          "France",
          "Denmark",
          "Slovenia",
          "Croatia",
          "Belgium",
          "Ukraine",
          " Scotland",
          "Serbia"
         ],
         "tickvals": [
          0,
          1,
          2,
          3,
          4,
          5,
          6,
          7,
          8,
          9,
          10,
          11,
          12,
          13,
          14,
          15,
          16,
          17,
          18,
          19,
          20,
          21,
          22,
          23
         ],
         "title": {
          "text": "Team"
         }
        }
       }
      }
     },
     "metadata": {},
     "output_type": "display_data"
    }
   ],
   "source": [
    "team_stats = df_sh.groupby('Squad').agg({\n",
    "    'Standard_Dist': 'mean',\n",
    "    'Standard_Gls': 'sum'\n",
    "}).reset_index()\n",
    "\n",
    "team_stats = team_stats.sort_values(by='Standard_Gls', ascending=False)\n",
    "\n",
    "# generating gradients\n",
    "num_teams = len(team_stats)\n",
    "light_red = 20 \n",
    "dark_red = 200 \n",
    "\n",
    "gradient_colors = [\n",
    "    f'rgb(255, {int(light_red - (light_red - dark_red) * i / (num_teams - 1))}, {int(light_red - (light_red - dark_red) * i / (num_teams - 1))})'\n",
    "    for i in range(num_teams)\n",
    "]\n",
    "color_map = {team: '#329952' if team == 'Georgia' else gradient_colors[i] for i, team in enumerate(team_stats['Squad'])}\n",
    "\n",
    "# plotting\n",
    "sh_fig3 = go.Figure()\n",
    "\n",
    "for i, row in team_stats.iterrows():\n",
    "    sh_fig3.add_trace(go.Bar(\n",
    "        y=[row['Squad']],\n",
    "        x=[row['Standard_Dist']],\n",
    "        orientation='h',\n",
    "        name=row['Squad'],\n",
    "        marker_color=color_map[row['Squad']],\n",
    "        showlegend=False\n",
    "    ))\n",
    "\n",
    "# penalty area line at 18 yards\n",
    "sh_fig3.add_shape(\n",
    "    type='line',\n",
    "    x0=16, x1=16,\n",
    "    y0=-0.5, y1=len(team_stats) - 0.5,\n",
    "    line=dict(color='black', dash='dash'),\n",
    "    xref='x', yref='y'\n",
    ")\n",
    "\n",
    "sh_fig3.update_layout(\n",
    "    barmode='stack',\n",
    "    xaxis_title='Average Shot Distance (meters)',\n",
    "    yaxis_title='Team',\n",
    "    title='Average Shot Distance by Team',\n",
    "    xaxis=dict(\n",
    "        tickvals=[16],\n",
    "        ticktext=['Penalty Area'],\n",
    "        title='Average Shot Distance'\n",
    "    ),\n",
    "    yaxis=dict(\n",
    "        tickvals=[i for i in range(len(team_stats))],\n",
    "        ticktext=team_stats['Squad'].tolist(),\n",
    "        autorange='reversed'  # Ensure the y-axis is in descending order\n",
    "    ),\n",
    "    width=1000,  # Increase width of the plot\n",
    "    height=800   # Increase height of the plot\n",
    ")\n",
    "sh_fig3.write_html(\"sh_fig3.html\")\n",
    "sh_fig3.show()"
   ]
  }
 ],
 "metadata": {
  "kernelspec": {
   "display_name": "Python 3 (ipykernel)",
   "language": "python",
   "name": "python3"
  },
  "language_info": {
   "codemirror_mode": {
    "name": "ipython",
    "version": 3
   },
   "file_extension": ".py",
   "mimetype": "text/x-python",
   "name": "python",
   "nbconvert_exporter": "python",
   "pygments_lexer": "ipython3",
   "version": "3.11.5"
  }
 },
 "nbformat": 4,
 "nbformat_minor": 5
}
